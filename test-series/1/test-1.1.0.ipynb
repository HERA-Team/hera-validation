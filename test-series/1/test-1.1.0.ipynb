{
 "cells": [
  {
   "cell_type": "markdown",
   "metadata": {},
   "source": [
    "# Testing `hera_pspec` with EoR and Point-Source Foregrounds\n",
    "\n",
    "Lily Whitler, Steven Murray, Bobby Pascua, Zachary Martinot, and the HERA Validation Team"
   ]
  },
  {
   "cell_type": "markdown",
   "metadata": {},
   "source": [
    "## Setup and Metadata"
   ]
  },
  {
   "cell_type": "markdown",
   "metadata": {},
   "source": [
    "### Abstract"
   ]
  },
  {
   "cell_type": "markdown",
   "metadata": {},
   "source": [
    "We simulate ideal observations of a sky with a $1/k^2$ EoR power spectrum and a point-source foreground model from GLEAM with `RIMEz`. The EoR part of the sky is the same simulation as used in Step 0.2.0.\n",
    "\n",
    "We then run a fiducial `hera_pspec` pipeline over the simulation, ensuring that outside the wedge region the power spectrum is unbiased as compared to the known analytic input to the level of 1%. "
   ]
  },
  {
   "cell_type": "markdown",
   "metadata": {},
   "source": [
    "### Imports"
   ]
  },
  {
   "cell_type": "code",
   "execution_count": 1,
   "metadata": {},
   "outputs": [],
   "source": [
    "%matplotlib inline\n",
    "import matplotlib.pyplot as plt\n",
    "import numpy as np\n",
    "from datetime import datetime\n",
    "import os\n",
    "import copy\n",
    "import glob\n",
    "\n",
    "import astropy\n",
    "import astropy.units as units\n",
    "import h5py\n",
    "\n",
    "import hera_cal\n",
    "import hera_pspec\n",
    "import pyuvdata\n",
    "import uvtools\n",
    "\n",
    "from pyuvdata import UVData, UVBeam\n",
    "from hera_cal import io\n",
    "from hera_pspec.data import DATA_PATH as PSPEC_DATA_PATH"
   ]
  },
  {
   "cell_type": "markdown",
   "metadata": {},
   "source": [
    "### Description"
   ]
  },
  {
   "cell_type": "code",
   "execution_count": 3,
   "metadata": {
    "variables": {
     "str(datetime.now())": "2020-01-14 19:00:07.557491"
    }
   },
   "outputs": [
    {
     "name": "stdout",
     "output_type": "stream",
     "text": [
      "Last executed: 2020-02-14 14:51:02.880485\n"
     ]
    }
   ],
   "source": [
    "print(f'Last executed: {str(datetime.now())}')"
   ]
  },
  {
   "cell_type": "markdown",
   "metadata": {},
   "source": [
    "### Summary"
   ]
  },
  {
   "cell_type": "markdown",
   "metadata": {},
   "source": [
    "- **Major Step Description:** Simulate visibilities of point-source foregrounds and $1/k^2$ EoR power spectrum. Extract power spectrum estimates with `hera_pspec`.\n",
    "- **Minor Variation Description:** Use GLEAM to provide foregrounds, simulated by `RIMEz`.\n",
    "- **Pipelines Tested:** `pspec`\n",
    "- **Criteria**:\n",
    "  1. Residuals to known analytic input EoR PS within 1% after incoherent averaging over 8 hours, outside wedge. \n",
    "  2. Residuals of EoR+FG, where EoR dominates, should match EoR-only (even with random fluctuations), proving that FG have no broad effect outside their regime."
   ]
  },
  {
   "cell_type": "markdown",
   "metadata": {},
   "source": [
    "### Software"
   ]
  },
  {
   "cell_type": "markdown",
   "metadata": {},
   "source": [
    "HERA software used in this validation test, with associate git commit hash:\n",
    "\n",
    "* ``pyuvdata``: ``v1.4.1`` (git hash unknown)\n",
    "* ``hera_cal``: ``2e5dd382872f649266f334e9f3ded4fc4803f017``\n",
    "* ``hera_sim``: ``b'6cd21e2684867d90c2105d4287718a97af9767c4'``\n",
    "* ``hera_pspec``: ``b35a8304345165911dd1158a2104adf078d05d0f``\n",
    "* ``uvtools``: ``2186a528849e0ae305175e52a72f70a76417511d``\n",
    "\n",
    "Versions of other software used in this validation test:\n",
    "\n",
    "* ``numpy``: v1.17.4\n",
    "* ``astropy``: v4.0 (763f069058cb1ee2038fa1cfa485452ec94b726e)\n",
    "* ``matplotlib``: v3.1.1"
   ]
  },
  {
   "cell_type": "markdown",
   "metadata": {},
   "source": [
    "### Data"
   ]
  },
  {
   "cell_type": "markdown",
   "metadata": {},
   "source": [
    "The following paths reflect the exact locations of all data used in this test:"
   ]
  },
  {
   "cell_type": "code",
   "execution_count": 23,
   "metadata": {},
   "outputs": [],
   "source": [
    "root_path = \"/lustre/aoc/projects/hera/Validation/\"  # Root directory of simulated data\n",
    "data_path = os.path.join(root_path, 'test-1.1.0')\n",
    "\n",
    "# Directories for visibilities, spectra, and plots for this test\n",
    "vis_path = os.path.join(data_path, 'visibilities')\n",
    "spec_path = os.path.join(data_path, 'spectra')\n",
    "plot_path = os.path.join(data_path, 'plots')\n",
    "\n",
    "# Path to beam normalization data\n",
    "omegas_data_path = os.path.join(root_path, 'HERA_dipole_Omegas/HERA_dipole_Omegas.h5')\n",
    "assert os.path.exists(omegas_data_path)"
   ]
  },
  {
   "cell_type": "markdown",
   "metadata": {},
   "source": [
    "The following paths point to the original simulation files used to create the data for this notebook, but are never read directly here."
   ]
  },
  {
   "cell_type": "code",
   "execution_count": 17,
   "metadata": {},
   "outputs": [
    {
     "name": "stdout",
     "output_type": "stream",
     "text": [
      "Base EOR Simulation:  /lustre/aoc/projects/hera/Validation/hera_hex37_100-200MHz_HERA_dipole_beam_pow_neg2_pspec/realization_0.uvh5\n",
      "Base GLEAM Simulation:  /lustre/aoc/projects/hera/Validation/hera_hex37_100-200MHz_HERA_dipole_full_gleam_plus_brights_v01/hera_hex37_full_gleam_plus_brights_v01.uvh5\n"
     ]
    }
   ],
   "source": [
    "data_prefix = 'hera_hex37_100-200MHz_HERA_dipole_'\n",
    "\n",
    "eor_path = os.path.join(root_path, data_prefix + 'beam_pow_neg2_pspec/realization_0.uvh5')\n",
    "gleam_path = os.path.join(root_path, data_prefix + 'full_gleam_plus_brights_v01/' +\n",
    "                          'hera_hex37_full_gleam_plus_brights_v01.uvh5')\n",
    "\n",
    "print(\"Base EOR Simulation: \", eor_path)\n",
    "print(\"Base GLEAM Simulation: \", gleam_path)"
   ]
  },
  {
   "cell_type": "markdown",
   "metadata": {},
   "source": [
    "## Extra Utility Functions"
   ]
  },
  {
   "cell_type": "code",
   "execution_count": 3,
   "metadata": {},
   "outputs": [],
   "source": [
    "# # function for saving figures\n",
    "# def save_fig(fig, save_path):\n",
    "#     if isinstance(save_path, (list, tuple)):\n",
    "#         for path in save_path:\n",
    "#             fig.savefig(path)\n",
    "#     else:\n",
    "#         fig.savefig(save_path)"
   ]
  },
  {
   "cell_type": "code",
   "execution_count": 4,
   "metadata": {},
   "outputs": [],
   "source": [
    "# # wrapper for uvtools.plot.waterfall\n",
    "# def plot_gain_waterfalls(gain_dict, extent, bounds, modes, save_path=None, \n",
    "#                          time_units=\"s\", freq_units=\"MHz\", delay_space=False):\n",
    "#     xlabel = \"Frequency [{}]\".format(freq_units) if not delay_space \\\n",
    "#         else \"Delay [{}]\".format(freq_units)\n",
    "#     ylabel = \"Time Elapsed [{}]\".format(time_units)\n",
    "    \n",
    "#     fig = plt.figure(figsize=(14,8))\n",
    "#     axes = fig.subplots(2,3)\n",
    "#     for j, ax in enumerate(axes.ravel()):\n",
    "#         gain_type = list(gain_dict.keys())[j % 3]\n",
    "#         plot_type = (\"Amplitude\", \"Phase\")[j // 3]\n",
    "#         mode = modes[j // 3]\n",
    "#         cmap = \"viridis\" if j // 3 == 0 else \"twilight\"\n",
    "#         mx = bounds[j // 3][1]\n",
    "#         drng = None if mx is None else bounds[j // 3][1] - bounds[j // 3][0]\n",
    "        \n",
    "#         ax.set_xlabel(xlabel, fontsize=12)\n",
    "#         ax.set_ylabel(ylabel, fontsize=12)\n",
    "#         ax.set_title(\"{} Gain {}\".format(gain_type, plot_type), fontsize=12)\n",
    "        \n",
    "#         fig.sca(ax)\n",
    "#         cax = uvtools.plot.waterfall(gain_dict[gain_type], mode=mode, extent=extent,\n",
    "#                                      mx=mx, drng=drng, cmap=cmap)\n",
    "        \n",
    "#         fig.colorbar(cax, label=plot_type)\n",
    "        \n",
    "#     plt.tight_layout()\n",
    "#     plt.show()\n",
    "    \n",
    "#     if save_path is not None:\n",
    "#         save_fig(fig, save_path)"
   ]
  },
  {
   "cell_type": "code",
   "execution_count": 5,
   "metadata": {},
   "outputs": [],
   "source": [
    "# # function for plotting gain differences\n",
    "# def plot_gain_diffs(gain_dict, extent, save_path=None, time_units=\"s\"):\n",
    "#     gain_diffs = {}\n",
    "#     gain_types = list(gain_dict.keys())\n",
    "#     # fill the gain_diffs dictionary with tuples of amplitude and phase differences\n",
    "#     for j, gain_type in enumerate(gain_types[:-1]):\n",
    "#         for _gain_type in gain_types[j+1:]:\n",
    "#             gains = gain_dict[gain_type]\n",
    "#             _gains = gain_dict[_gain_type]\n",
    "#             diff_type = \" - \".join((gain_type, _gain_type))\n",
    "#             amplitude_diff = np.abs(gains) - np.abs(_gains)\n",
    "#             phase_diff = np.angle(gains) - np.angle(_gains)\n",
    "#             gain_diffs[diff_type] = (amplitude_diff, phase_diff)\n",
    "            \n",
    "#     # make the figure and axes objects, assuming we're just comparing true, abs, and smoothed abs\n",
    "#     fig = plt.figure(figsize=(14,8))\n",
    "#     axes = fig.subplots(2,3)\n",
    "#     for j, ax in enumerate(axes.ravel()):\n",
    "#         diff_type = list(gain_diffs.keys())[j % 3]\n",
    "#         plot_type= (\"Amplitude\", \"Phase\")[j // 3]\n",
    "        \n",
    "#         ax.set_xlabel(\"Frequency [MHz]\", fontsize=12)\n",
    "#         ax.set_ylabel(\"Time Elapsed [{}]\".format(time_units), fontsize=12)\n",
    "#         ax.set_title(\"{} Diff: {}\".format(plot_type, diff_type), fontsize=12)\n",
    "        \n",
    "#         # choose the axis to plot on, and plot the waterfall (letting the function choose the bounds)\n",
    "#         fig.sca(ax)\n",
    "#         cax = uvtools.plot.waterfall(gain_diffs[diff_type][j // 3], mode=\"real\", extent=extent)\n",
    "        \n",
    "#         fig.colorbar(cax, label=plot_type)\n",
    "        \n",
    "#     plt.tight_layout()\n",
    "#     plt.show()\n",
    "    \n",
    "#     if save_path is not None:\n",
    "#         save_fig(fig, save_path)"
   ]
  },
  {
   "cell_type": "code",
   "execution_count": 6,
   "metadata": {},
   "outputs": [],
   "source": [
    "# # function for plotting gain differences at a single time\n",
    "# def plot_gain_diffs_1d(gain_dict, freq_array, time_array, save_path=None, time_units=\"s\"):\n",
    "#     gain_diffs = {}\n",
    "#     gain_types = list(gain_dict.keys())\n",
    "#     # same deal as in above function\n",
    "#     for j, gain_type in enumerate(gain_types[:-1]):\n",
    "#         for _gain_type in gain_types[j+1:]:\n",
    "#             gains = gain_dict[gain_type]\n",
    "#             _gains = gain_dict[_gain_type]\n",
    "#             diff_type = \" - \".join((gain_type, _gain_type))\n",
    "#             amplitude_diff = np.abs(gains) - np.abs(_gains)\n",
    "#             phase_diff = np.angle(gains) - np.angle(_gains)\n",
    "#             gain_diffs[diff_type] = (amplitude_diff, phase_diff)\n",
    "            \n",
    "#     time_index = np.random.randint(0,len(time_array))\n",
    "#     time_value = time_array[time_index]\n",
    "    \n",
    "#     # basically the same as above function\n",
    "#     fig = plt.figure(figsize=(14,8))\n",
    "#     axes = fig.subplots(2,3)\n",
    "#     for j, ax in enumerate(axes.ravel()):\n",
    "#         diff_type = list(gain_diffs.keys())[j % 3]\n",
    "#         plot_type= (\"Amplitude\", \"Phase\")[j // 3]\n",
    "        \n",
    "#         ax.set_xlabel(\"Frequency [MHz]\", fontsize=12)\n",
    "#         ax.set_ylabel(plot_type, fontsize=12)\n",
    "#         ax.set_title(\"{} Diff: {}\\n at t = {:.2f} {}\".format(plot_type, diff_type, time_value, time_units),\n",
    "#                      fontsize=12)\n",
    "        \n",
    "#         plot_values = gain_diffs[diff_type][j // 3][time_index]\n",
    "#         ax.plot(freq_array, plot_values, color='k')\n",
    "        \n",
    "#     plt.tight_layout()\n",
    "#     plt.show()\n",
    "#     if save_path is not None:\n",
    "#         save_fig(fig, save_path)"
   ]
  },
  {
   "cell_type": "code",
   "execution_count": 7,
   "metadata": {},
   "outputs": [],
   "source": [
    "# def est_mem_use(Ntimes, Nfreq, Nants, Npols, autos):\n",
    "#     Nbls = Nants * (Nants + 1) / 2 if autos \\\n",
    "#       else Nants * (Nants - 1) / 2\n",
    "#     Nblts = Nbls * Ntimes\n",
    "#     sizes = {}\n",
    "#     sizes['data'] = Nblts * Nfreq * Npols * 16.0 # bytes\n",
    "#     sizes['times'] = 2 * Nblts * 8.0 # LST and time arrays\n",
    "#     sizes['freqs'] = Nfreq * 8.0 # frequency array\n",
    "#     sizes['flags'] = Nblts * Nfreq * Npols * 1.0 # flag array\n",
    "#     sizes['ants'] = 2 * Nants * 4.0 + 3 * Nants * 8.0 # antenna arrays + antpos array\n",
    "#     sizes['bls'] = Nblts * 8.0 # baseline array\n",
    "#     sizes['nsample'] = Nblts * Nfreq * Npols * 8.0 # nsample array\n",
    "#     sizes['uvw'] = 3 * Nblts * 8.0 # uvw array\n",
    "#     mem_use = {'data': sizes['data']}\n",
    "#     total_mem_use = 0\n",
    "#     for mem in sizes.values():\n",
    "#         total_mem_use += mem\n",
    "#     mem_use['meta'] = total_mem_use - sizes['data']\n",
    "#     mem_use['total'] = total_mem_use\n",
    "#     return mem_use"
   ]
  },
  {
   "cell_type": "code",
   "execution_count": 8,
   "metadata": {},
   "outputs": [],
   "source": [
    "# def astropyPlanck15_for_hera_pspec():\n",
    "#     H0 = 67.74\n",
    "#     h = H0/100.\n",
    "\n",
    "#     Om_b = 0.02230/h**2.\n",
    "#     Om_c = 0.1188/h**2.\n",
    "#     Om_L = 0.6911\n",
    "#     Om_k = 1. - (Om_b + Om_c + Om_L)\n",
    "\n",
    "#     hps_cosmo = hera_pspec.conversions.Cosmo_Conversions(Om_L=Om_L,\n",
    "#                                                          Om_b=Om_b,\n",
    "#                                                          Om_c=Om_c,\n",
    "#                                                          H0=H0,)\n",
    "#     return hps_cosmo"
   ]
  },
  {
   "cell_type": "code",
   "execution_count": 9,
   "metadata": {},
   "outputs": [],
   "source": [
    "# # get a Vokes-I uvdata object from the input uvh5 file\n",
    "# def get_VI_data(vis_data_path, flag_nchan_low=50, flag_nchan_high=50):\n",
    "#     # choose only data that hasn't been flagged, assuming 1024 frequency channels\n",
    "#     chans = np.arange(1024)[flag_nchan_low:-flag_nchan_high]\n",
    "    \n",
    "#     uvd = UVData()\n",
    "#     uvd.read_uvh5(vis_data_path, freq_chans=chans, keep_all_metadata=False)\n",
    "    \n",
    "#     # one of these days...\n",
    "#     xx_integer = pyuvdata.utils.polstr2num('xx')\n",
    "#     yy_integer = pyuvdata.utils.polstr2num('yy')\n",
    "    \n",
    "#     xx_ind = np.argwhere(uvd.polarization_array == xx_integer)[0][0]\n",
    "#     yy_ind = np.argwhere(uvd.polarization_array == yy_integer)[0][0]\n",
    "    \n",
    "#     VI_data = uvd.data_array[:,:,:,xx_ind] + uvd.data_array[:,:,:,yy_ind]\n",
    "    \n",
    "#     uvd.select(polarizations=(-5))\n",
    "#     uvd.polarization_array[0] = 1\n",
    "#     uvd.data_array = VI_data.reshape(VI_data.shape + (1,))\n",
    "    \n",
    "#     return uvd"
   ]
  },
  {
   "cell_type": "code",
   "execution_count": 10,
   "metadata": {},
   "outputs": [],
   "source": [
    "# # function for computing the aliased power spectrum; see test 0.2.0 notebook\n",
    "# def aliased_power_spectrum(k, ks, z, freq_dep=False, cosmo=None):\n",
    "#     # power spectrum amplitude\n",
    "#     A0 = 10 * (1.0/0.2)**-2 # K^2 Mpc\n",
    "    \n",
    "#     if cosmo is not None:\n",
    "#         # assume k, ks in little_h units, use mK instead of K\n",
    "#         A0 *= 1e6 * cosmo.h\n",
    "        \n",
    "#     Pk = A0 * np.pi**2 / (2 * ks * np.sin(np.pi * k / (2 * ks)))**2 # K^2 Mpc^3\n",
    "#     # above units are correct as long as k is in units of 1/Mpc\n",
    "    \n",
    "#     Pk /= (1+z)**2\n",
    "#     if freq_dep:\n",
    "#         # assume we're working with the power spectrum w/ frequency-scaled amplitude\n",
    "#         # so follow the steps in the 0.2.0 notebook\n",
    "        \n",
    "#         # frequency of HI line at the source\n",
    "#         f21_emit = 1420.4057517667 # MHz\n",
    "        \n",
    "#         # redshifted 21-cm line\n",
    "#         f21_obs = f21_emit/(1 + z)\n",
    "        \n",
    "#         # scale the power spectrum by an overall factor of 100 at 100 MHz\n",
    "#         # also put in the freq scaling\n",
    "#         Pk *= 100 * (100 / f21_obs)**6\n",
    "\n",
    "#     return Pk"
   ]
  },
  {
   "cell_type": "code",
   "execution_count": 11,
   "metadata": {},
   "outputs": [],
   "source": [
    "# # get delay spectrum of a waterfall\n",
    "# def delay_xform(data):\n",
    "#     \"\"\"Return the delay transform of the input data.\n",
    "    \n",
    "#     Assumes frequency axis is the last axis of the array.\n",
    "    \n",
    "#     \"\"\"\n",
    "#     return np.fft.fftshift(np.fft.fft(data, axis=1), axes=1)"
   ]
  },
  {
   "cell_type": "markdown",
   "metadata": {},
   "source": [
    "## Data Reading"
   ]
  },
  {
   "cell_type": "code",
   "execution_count": 26,
   "metadata": {},
   "outputs": [
    {
     "name": "stdout",
     "output_type": "stream",
     "text": [
      "Data created with /lustre/aoc/projects/hera/Validation/test-1.1.0/prepare_master_data.py\n"
     ]
    }
   ],
   "source": [
    "print(f'Data created with {data_path}/prepare_master_data.py')"
   ]
  },
  {
   "cell_type": "code",
   "execution_count": 12,
   "metadata": {},
   "outputs": [],
   "source": [
    "path_dict = {'EoR': dict.fromkeys(['vis', 'ps']),\n",
    "             'Foregrounds': dict.fromkeys(['vis', 'ps']),\n",
    "             'EoR + foregrounds': dict.fromkeys(['vis', 'ps'])}\n",
    "\n",
    "path_dict['EoR']['vis'] = sorted(glob.glob(os.path.join(vis_path, 'zen.*.RR.eor.uvh5')))[1]\n",
    "path_dict['Foregrounds']['vis']  = sorted(glob.glob(os.path.join(vis_path, 'zen.*.RR.foregrounds.uvh5')))[1]\n",
    "path_dict['EoR + foregrounds']['vis'] = sorted(glob.glob(os.path.join(vis_path, 'zen.*.RR.true.uvh5')))[1]\n",
    "\n",
    "ps_file = path_dict['EoR']['vis'].split('/')[-1].replace('.uvh5', '.psc')\n",
    "path_dict['EoR']['ps'] = os.path.join(ps_path, ps_file)\n",
    "ps_file = path_dict['Foregrounds']['vis'].split('/')[-1].replace('.uvh5', '.psc')\n",
    "path_dict['Foregrounds']['ps'] = os.path.join(ps_path, ps_file)\n",
    "ps_file = path_dict['EoR + foregrounds']['vis'].split('/')[-1].replace('.uvh5', '.psc')\n",
    "path_dict['EoR + foregrounds']['ps'] = os.path.join(ps_path, ps_file)"
   ]
  },
  {
   "cell_type": "code",
   "execution_count": 13,
   "metadata": {},
   "outputs": [
    {
     "name": "stderr",
     "output_type": "stream",
     "text": [
      "Telescope RIMEz calculation is not in known_telescopes.\n"
     ]
    }
   ],
   "source": [
    "data_dict = {'EoR': dict.fromkeys(['vis', 'ps', 'avg']),\n",
    "             'Foregrounds': dict.fromkeys(['vis', 'ps', 'avg']),\n",
    "             'EoR + foregrounds': dict.fromkeys(['vis', 'ps', 'avg'])}\n",
    "for key in data_dict.keys():\n",
    "    data_dict[key]['vis'] = io.HERAData(path_dict[key]['vis'])\n",
    "    data_dict[key]['vis'].read(return_data=False)"
   ]
  },
  {
   "cell_type": "code",
   "execution_count": 14,
   "metadata": {},
   "outputs": [],
   "source": [
    "times = np.unique(data_dict['EoR']['vis'].time_array)\n",
    "lsts = np.unique(data_dict['EoR']['vis'].lst_array)\n",
    "freqs = np.unique(data_dict['EoR']['vis'].freq_array)"
   ]
  },
  {
   "cell_type": "markdown",
   "metadata": {},
   "source": [
    "## Power Spectra"
   ]
  },
  {
   "cell_type": "markdown",
   "metadata": {},
   "source": [
    "In this section, we inspect the power spectrum estimates for the \"single file\" set of data."
   ]
  },
  {
   "cell_type": "code",
   "execution_count": 15,
   "metadata": {},
   "outputs": [],
   "source": [
    "# define the cosmology\n",
    "cosmo = astropyPlanck15_for_hera_pspec()\n",
    "\n",
    "# choose only the unflagged frequencies (all should be unflagged since we did nothing with hera_cal, xrfi, etc.)\n",
    "freq_slice = slice(None)\n",
    "\n",
    "# load beam-dependent normalization data\n",
    "with h5py.File(omegas_data_path, 'r') as h5f:\n",
    "    Omega = h5f['Omega'][()][freq_slice]\n",
    "    Omegapp = h5f['Omegapp'][()][freq_slice]\n",
    "\n",
    "beam = hera_pspec.pspecbeam.PSpecBeamFromArray(Omega, Omegapp, freqs[freq_slice], cosmo=cosmo)\n",
    "\n",
    "# wrapper for pspec_run\n",
    "def calc_pspec(vis_file, outfile, spw_ranges=None, blpairs=None):\n",
    "    uvdI = get_VI_data(vis_file)\n",
    "    _ = hera_pspec.pspecdata.pspec_run([uvdI], outfile, dset_pairs=[(0, 0)], file_type=\"uvh5\",\n",
    "                                       taper=\"blackman-harris\", beam=beam, cosmo=cosmo,\n",
    "                                       spw_ranges=spw_ranges, blpairs=blpairs, pol_pairs=[('pI','pI')],\n",
    "                                       Jy2mK=True, exclude_cross_bls=True, \n",
    "                                       overwrite=True, verbose=True)"
   ]
  },
  {
   "cell_type": "code",
   "execution_count": 16,
   "metadata": {},
   "outputs": [
    {
     "name": "stdout",
     "output_type": "stream",
     "text": [
      "Extracting spectrum from zen.2451545.16918.RR.eor.uvh5\n",
      "Opening /users/lwhitler/lustre/validation/test-1.1.0_pspecs/zen.2451545.16918.RR.eor.psc in transactional mode\n",
      "\n",
      "Setting spectral range: (400, 600)\n",
      "\n",
      "Using polarization pair: ('pI', 'pI')\n",
      "\n",
      "(bl1, bl2) pair: ((32, 0), (32, 0))\n",
      "pol: (1, 1)\n",
      "  Building G...\n",
      "  Building q_hat...\n",
      "  Normalizing power spectrum...\n",
      "  Computing and multiplying scalar...\n",
      "Storing dset0_x_dset0\n",
      "Extracting spectrum from zen.2451545.16918.RR.foregrounds.uvh5\n",
      "Opening /users/lwhitler/lustre/validation/test-1.1.0_pspecs/zen.2451545.16918.RR.foregrounds.psc in transactional mode\n",
      "\n",
      "Setting spectral range: (400, 600)\n",
      "\n",
      "Using polarization pair: ('pI', 'pI')\n",
      "\n",
      "(bl1, bl2) pair: ((32, 0), (32, 0))\n",
      "pol: (1, 1)\n",
      "  Building G...\n",
      "  Building q_hat...\n",
      "  Normalizing power spectrum...\n",
      "  Computing and multiplying scalar...\n",
      "Storing dset0_x_dset0\n",
      "Extracting spectrum from zen.2451545.16918.RR.true.uvh5\n",
      "Opening /users/lwhitler/lustre/validation/test-1.1.0_pspecs/zen.2451545.16918.RR.true.psc in transactional mode\n",
      "\n",
      "Setting spectral range: (400, 600)\n",
      "\n",
      "Using polarization pair: ('pI', 'pI')\n",
      "\n",
      "(bl1, bl2) pair: ((32, 0), (32, 0))\n",
      "pol: (1, 1)\n",
      "  Building G...\n",
      "  Building q_hat...\n",
      "  Normalizing power spectrum...\n",
      "  Computing and multiplying scalar...\n",
      "Storing dset0_x_dset0\n"
     ]
    }
   ],
   "source": [
    "spws = [(400, 600)]\n",
    "baseline = (32, 0)\n",
    "blps = [((32, 0), (32, 0))]\n",
    "\n",
    "for key in data_dict.keys():\n",
    "    vis_file = path_dict[key]['vis']\n",
    "    pspec_file = path_dict[key]['ps']\n",
    "    print('Extracting spectrum from {}'.format(os.path.basename(vis_file)))\n",
    "    calc_pspec(vis_file, pspec_file, spws, blps)"
   ]
  },
  {
   "cell_type": "code",
   "execution_count": 17,
   "metadata": {},
   "outputs": [],
   "source": [
    "def get_pspec(pspec_file):\n",
    "    psc = hera_pspec.container.PSpecContainer(pspec_file, keep_open=False)\n",
    "    uvp = psc.get_pspec(psc.groups()[0])[0]\n",
    "    return uvp"
   ]
  },
  {
   "cell_type": "code",
   "execution_count": 18,
   "metadata": {},
   "outputs": [],
   "source": [
    "def get_k_nyquist(uvp_avg, spw=0):\n",
    "    keys = uvp_avg.get_all_keys()\n",
    "    dly = uvp_avg.get_dlys(spw)\n",
    "    \n",
    "    if dly.size % 2 == 0:\n",
    "        tau_nyquist = np.amax(dly)\n",
    "    else:\n",
    "        ddly = np.diff(dly)[0]\n",
    "        tau_nyquist = np.amax(dly) + ddly/2.\n",
    "\n",
    "    spw_freqs = uvp_avg.freq_array[uvp_avg.spw_freq_array == spw]\n",
    "    z_mean = uvp_avg.cosmo.f2z(np.mean(spw_freqs))\n",
    "\n",
    "    return np.amax(tau_nyquist)*uvp_avg.cosmo.tau_to_kpara(z_mean, little_h=False)"
   ]
  },
  {
   "cell_type": "code",
   "execution_count": 19,
   "metadata": {},
   "outputs": [],
   "source": [
    "def aliased_power_spectrum(k, k_nyquist, z):\n",
    "    A0 = 1e1 * (1./0.2)**-2.\n",
    "    Pk = 1e6 * A0 * (np.pi)**2. * 1./(2. * k_nyquist * np.sin(np.pi*k /(2*k_nyquist)))**2\n",
    "    return Pk * cosmo.h**3 / (1 + z)**2"
   ]
  },
  {
   "cell_type": "code",
   "execution_count": 20,
   "metadata": {},
   "outputs": [],
   "source": [
    "for key in data_dict.keys():\n",
    "    pspec_file = path_dict[key]['ps']\n",
    "    data_dict[key]['ps'] = get_pspec(pspec_file)\n",
    "    blpair_group = [[blp] for blp in np.unique(data_dict[key]['ps'].blpair_array)]\n",
    "    data_dict[key]['avg'] = data_dict[key]['ps'].average_spectra(blpair_groups=blpair_group,\n",
    "                                                                 time_avg=True, inplace=False)\n",
    "    data_dict[key]['avg'].fold_spectra()"
   ]
  },
  {
   "cell_type": "code",
   "execution_count": 23,
   "metadata": {},
   "outputs": [],
   "source": [
    "def get_analytic_spectrum(uvp, spw):\n",
    "    # Get redshift of band center for scaling the aliased spectrum\n",
    "    freq_range = uvp.get_spw_ranges(spw)[0][:2]\n",
    "    center = (freq_range[0] + freq_range[1]) / 2\n",
    "    z = 1420405751.7667 / center - 1\n",
    "    k_paras = uvp.get_kparas(spw)\n",
    "    k_nyquist = get_k_nyquist(uvp, spw=spw)\n",
    "    return aliased_power_spectrum(k_paras, k_nyquist, z)"
   ]
  },
  {
   "cell_type": "code",
   "execution_count": 37,
   "metadata": {},
   "outputs": [],
   "source": [
    "def plot_spectra(uvp_avgs, labels, blps, spws=[0], polpair=('pI', 'pI'),\n",
    "                 fig=None, ax=None, linestyles=None, linewidths=None,\n",
    "                 colors=None, alpha=0.5, figsize=(10, 7)):\n",
    "    # Expects a list of averaged uvps and the label/name of each\n",
    "    assert len(uvp_avgs) == len(labels)\n",
    "    \n",
    "    # Set up defaults for plotting\n",
    "    if linestyles is None:\n",
    "        linestyles = ['-'] * len(uvp_avgs)\n",
    "    if linewidths is None:\n",
    "        linewidths = [3.5] * len(uvp_avgs)\n",
    "    if colors is None:\n",
    "        colors = ['k'] * len(uvp_avgs)\n",
    "    \n",
    "    ax_arg = True\n",
    "    if ax is None:\n",
    "        fig, ax = plt.subplots(len(blps), len(spws), sharex='col', sharey='row', figsize=figsize)\n",
    "        ax_arg = False\n",
    "        \n",
    "    for i in range(len(blps)):\n",
    "        for j in range(len(spws)):\n",
    "            key = (spws[j], blps[i], polpair)\n",
    "            freq_range = uvp_avgs[0].get_spw_ranges(spws[j])[0][:2]\n",
    "            \n",
    "            k_paras = uvp_avgs[0].get_kparas(spws[j])\n",
    "            analytic_spectrum = get_analytic_spectrum(uvp_avgs[0], spws[j])            \n",
    "                                   \n",
    "            # Set up for plotting\n",
    "            # Deal with cases when there is only one subplot, one spw, or one baseline pair\n",
    "            # First make sure that if there was an axis passed, we use it\n",
    "            if ax_arg:\n",
    "                ax_plot = ax\n",
    "            # Otherwise, deal with the cases of only having one subplot, one row, and/or one column\n",
    "            else:\n",
    "                if len(fig.get_axes()) == 1:\n",
    "                    ax_plot = ax\n",
    "                elif len(blps) == 1:\n",
    "                    ax_plot = ax[j]\n",
    "                elif len(spws) == 1:\n",
    "                    ax_plot = ax[i]\n",
    "                else:\n",
    "                    ax_plot = ax[i, j]\n",
    "            \n",
    "            # Actually plot the spectra\n",
    "            ax_plot.loglog(k_paras, np.abs(analytic_spectrum), ls=':', lw=2, color='#3F3F3F',\n",
    "                           alpha=0.75, label='Analytic EoR')\n",
    "            for k in range(len(uvp_avgs)):\n",
    "                uvp_plot = uvp_avgs[k].get_data(key)\n",
    "                ax_plot.loglog(k_paras, np.abs(uvp_plot[0]), ls=linestyles[k], lw=linewidths[k],\n",
    "                               color=colors[k], alpha=alpha, label=labels[k])\n",
    "\n",
    "            ax_plot.set_xlabel(r'$k_\\parallel$ [$h$ Mpc$^{-1}$]', fontsize=16)\n",
    "            ax_plot.set_ylabel(r'Power [mK$^2$ $h^{-3}$ Mpc$^3$]', fontsize=16)\n",
    "            ax_plot.set_title('spw: {:0.0f} - {:0.0f} MHz; '.format(freq_range[0] / 1e6, freq_range[1] / 1e6) +\n",
    "                              'blp: {}; pol: {}'.format(key[1], key[2]), fontsize=14)\n",
    "            ax_plot.legend(fontsize=12)"
   ]
  },
  {
   "cell_type": "code",
   "execution_count": 62,
   "metadata": {},
   "outputs": [],
   "source": [
    "def plot_residuals(uvps, labels, blps, spws=[0], polpair=('pI', 'pI'),\n",
    "                   fig=None, ax=None, linestyles=None, linewidths=None,\n",
    "                   colors=None, alpha=0.5, figsize=(10, 7)):\n",
    "    \n",
    "    # Expects a list of averaged uvps and the label/name of each\n",
    "    assert len(uvps) == len(labels)\n",
    "    \n",
    "     # Set up defaults for plotting\n",
    "    if linestyles is None:\n",
    "        linestyles = ['-'] * len(uvp_avgs)\n",
    "    if linewidths is None:\n",
    "        linewidths = [1.5] * len(uvp_avgs)\n",
    "    if colors is None:\n",
    "        colors = ['k'] * len(uvp_avgs)\n",
    "    \n",
    "    ax_arg = True\n",
    "    if ax is None:\n",
    "        fig, ax = plt.subplots(len(blps), len(spws), sharex='col', sharey='row', figsize=figsize)\n",
    "        ax_arg = False\n",
    "    \n",
    "    for i in range(len(blps)):\n",
    "        for j in range(len(spws)):\n",
    "            key = (spws[j], blps[i], polpair)\n",
    "            freq_range = uvps[0].get_spw_ranges(spws[j])[0][:2]\n",
    "            \n",
    "            k_paras = uvps[0].get_kparas(spws[j])\n",
    "            analytic = get_analytic_spectrum(uvps[0], spws[j])  \n",
    "                                   \n",
    "            # Set up for plotting\n",
    "            # Deal with cases when there is only one subplot, one spw, or one baseline pair\n",
    "            # First make sure that if there was an axis passed, we use it\n",
    "            if ax_arg:\n",
    "                ax_plot = ax\n",
    "            # Otherwise, deal with the cases of only having one subplot, one row, and/or one column\n",
    "            else:\n",
    "                if len(fig.get_axes()) == 1:\n",
    "                    ax_plot = ax\n",
    "                elif len(blps) == 1:\n",
    "                    ax_plot = ax[j]\n",
    "                elif len(spws) == 1:\n",
    "                    ax_plot = ax[i]\n",
    "                else:\n",
    "                    ax_plot = ax[i, j]\n",
    "            \n",
    "            # Calculate and plot the residuals\n",
    "            ax_plot.axhline(0, ls=':', c='#545454')\n",
    "            for k in range(len(uvps)):\n",
    "                # Calculate the residuals\n",
    "                calculated = uvps[k].get_data(key)\n",
    "                residuals = (np.abs(calculated) - np.abs(analytic)) / np.abs(analytic)\n",
    "                ax_plot.plot(k_paras, residuals[0], ls=linestyles[k], lw=linewidths[k],\n",
    "                             marker='o', markersize=5, color=colors[k], alpha=alpha, label=labels[k])\n",
    "\n",
    "            ax_plot.set_xscale('log')\n",
    "            ax_plot.set_ylim([-1, 1])\n",
    "            ax_plot.set_xlabel(r'$k_\\parallel$ [$h$ Mpc$^{-1}$]', fontsize=16)\n",
    "            ax_plot.set_ylabel(r'Fractional power', fontsize=16)\n",
    "            ax_plot.set_title('spw: {:0.0f} - {:0.0f} MHz; '.format(freq_range[0] / 1e6, freq_range[1] / 1e6) +\n",
    "                              'blp: {}; pol: {}'.format(key[1], key[2]), fontsize=14)\n",
    "            ax_plot.legend(fontsize=12)"
   ]
  },
  {
   "cell_type": "code",
   "execution_count": 63,
   "metadata": {
    "scrolled": false
   },
   "outputs": [
    {
     "data": {
      "text/plain": [
       "<matplotlib.legend.Legend at 0x7fb40f689990>"
      ]
     },
     "execution_count": 63,
     "metadata": {},
     "output_type": "execute_result"
    },
    {
     "data": {
      "image/png": "[encoded data removed]",
      "text/plain": [
       "<Figure size 648x432 with 1 Axes>"
      ]
     },
     "metadata": {
      "needs_background": "light"
     },
     "output_type": "display_data"
    }
   ],
   "source": [
    "labels = list(data_dict.keys())\n",
    "colors = ['#DA4E3B', '#3D5789', '#270B52']\n",
    "linewidths, linestyles = [3, 3, 3], ['--', '-.', '-']\n",
    "uvp_avgs = [data_dict[key]['avg'] for key in data_dict.keys()]\n",
    "plot_spectra(uvp_avgs, labels, blps, colors=colors, linestyles=linestyles,\n",
    "             linewidths=linewidths, alpha=0.8, figsize=(9, 6))\n",
    "fig = plt.gcf()\n",
    "ax = fig.get_axes()\n",
    "fig.subplots_adjust(hspace=0.2)\n",
    "ax[0].legend(loc='upper right', fontsize=14, handlelength=3.25)"
   ]
  },
  {
   "cell_type": "markdown",
   "metadata": {},
   "source": [
    "**Figure 6 |** Power spectrum estimates from various visibility data sets for a \"single file\" worth of data (60 integrations)."
   ]
  },
  {
   "cell_type": "code",
   "execution_count": 65,
   "metadata": {},
   "outputs": [
    {
     "data": {
      "text/plain": [
       "<matplotlib.legend.Legend at 0x7fb410608cd0>"
      ]
     },
     "execution_count": 65,
     "metadata": {},
     "output_type": "execute_result"
    },
    {
     "data": {
      "image/png": "[encoded data removed]",
      "text/plain": [
       "<Figure size 648x432 with 1 Axes>"
      ]
     },
     "metadata": {
      "needs_background": "light"
     },
     "output_type": "display_data"
    }
   ],
   "source": [
    "plot_residuals([data_dict['EoR + foregrounds']['avg']], ['EoR + foregrounds'], blps,\n",
    "                colors=['#270B52'], alpha=0.8, figsize=(9, 6))\n",
    "fig = plt.gcf()\n",
    "ax = fig.get_axes()\n",
    "fig.subplots_adjust(hspace=0.2)\n",
    "ax[0].legend(loc='upper left', fontsize=14, handlelength=2)"
   ]
  },
  {
   "cell_type": "markdown",
   "metadata": {},
   "source": [
    "## Full Day Results"
   ]
  },
  {
   "cell_type": "markdown",
   "metadata": {},
   "source": [
    "In this section, we examine the resulting power spectra from performing the above analysis on a data set spanning 8 hours. Python scripts for all of the data preparation and analysis can be found in the following directory on the NRAO server: `/lustre/aoc/projects/hera/Validation/test-1.1.0/` (see the scripts with `_multiprocessing` in their names for power spectrum retrieval; see the `preparation` scripts in the `master_data` subdirectory to see how the raw simulation files were modified to work with a modified version of the pipeline's makeflow; see the scripts in the `makeflow` subdirectory to see how the makeflow for this test was configured; finally, note that the EoR component was done separately&mdash;this was just because I forgot to set up the EoR files the first time around). A brief summary of the test steps is as follows: \n",
    "\n",
    "\n",
    "*CORRECT FOR REMOVING GSM LATER*\n",
    "\n",
    "Visibilities were simulated for 24 hours over the full HERA H1C bandwidth (100 MHz - 200 MHz) over 1024 frequency channels with a uniform integration time of 10.7 seconds. Three sets of visibilities were simulated: one component is for diffuse foregrounds, simulated using the eGSM diffuse sky model; another component is for point-source visibilities, using the parameters listed in the GLEAM catalog; the final component is for the EoR signal, with a power spectrum amplitude that goes like $P(k) = A_0 k^{-2}$; each visibility component contains simulated observations for four polarizations (XX, XY, YX, YY). The simulations were carried out with the `RIMEz` simulation package, using the HERA dipole beam model. The individual visibility files were added together to form the \"true\" sky model, but only the first eight hours of the simulated data were used for this test. Finally, note that the visibility simulations are noiseless and perfectly calibrated. \n",
    " \n",
    "The true visibilities were uncalibrated using simulated gains. The gains were simulated on a per-antenna basis using the `gen_gains` function found in the `hera_sim.sigchain` module for each linear polarization. Additionally, each antenna gain was assigned a constant phase offset and had its amplitude vary linearly by 10 percent over eight hours. \n",
    " \n",
    "The uncalibrated visibilities were pushed through the analysis pipeline using a modified version of the IDR2.2 makeflow (except for the RFI flagging step, since there is no RFI in the simulated data)&mdash;part of this test is to validate the performance of the (post-redundant calibration) absolute calibration step and the calibration smoothing step. The absolute calibration solutions were smoothed in time and frequency using a Tukey window with $\\alpha = 0.3$; the solutions were smoothed on a 10 MHz frequency scale and a 4 hour time scale. In addition to absolute calibration, we performed a simple calibration in this test by modifying the absolutely-calibrated gain solutions to have a frequency-independent amplitude and delay.  \n",
    " \n",
    "The power spectrum estimates were obtained using the `pspec_run` function in the `hera_pspec.pspecdata` module. This test used six spectral windows over the full bandwidth (except for the first and last 50 channels, which were flagged for the redundant calibration step) and a Blackman-Harris taper for calculating the power spectrum estimates. We obtained power spectrum estimates for seven sets of visibilities: perfectly calibrated (true), uncalibrated, redundantly calibrated, absolutely calibrated, absolutely calibrated with time and frequency smoothing, simply calibrated, and EoR-only. We present the results on a per-spectral-window basis, showing both a scatter plot of power spectrum estimates on a per-baseline basis, as well as a line plot that has been averaged over all baselines. Each power spectrum presented has been incoherently averaged over the full eight hours."
   ]
  },
  {
   "cell_type": "code",
   "execution_count": null,
   "metadata": {},
   "outputs": [],
   "source": [
    "# load in the true gains\n",
    "true_gain_file = os.path.join(plot_path.replace(\"plots\",\"master_data\"), \"true_gains.npy\")\n",
    "assert os.path.exists(true_gain_file)\n",
    "true_gains = np.load(true_gain_file, allow_pickle=True)[None][0]"
   ]
  },
  {
   "cell_type": "code",
   "execution_count": null,
   "metadata": {},
   "outputs": [],
   "source": [
    "# get the times and frequencies for plotting\n",
    "\n",
    "# first, get a glob of visibility files, there should be 269 for each type of calibration\n",
    "vis_files = sorted(glob.glob(os.path.join(pipeline_output_path, \"*.uncal.uvh5\")))\n",
    "assert len(vis_files) == 269\n",
    "\n",
    "# now load in the first one to get the initial time and the frequencies\n",
    "times = []\n",
    "for vis_file in vis_files:\n",
    "    uvd = UVData()\n",
    "    uvd.read_uvh5(vis_file)\n",
    "    times.append(np.unique(uvd.time_array))\n",
    "\n",
    "times = np.array(times)\n",
    "times = times.reshape(times.size)\n",
    "freqs = uvd.freq_array[0][flag_nchan_low:-flag_nchan_high]/1e6 # MHz\n",
    "\n",
    "# don't need the UVData object anymore\n",
    "del uvd\n",
    "\n",
    "# now make the extent for the waterfall plots\n",
    "extent = [freqs.min(), freqs.max(), (times[-1]-times[0])*units.day.to(\"hr\"), 0]"
   ]
  },
  {
   "cell_type": "code",
   "execution_count": null,
   "metadata": {},
   "outputs": [],
   "source": [
    "# take a peek at some of the gains\n",
    "fig = plt.figure(figsize=(12,10))\n",
    "axes = fig.subplots(2,2)\n",
    "\n",
    "axes[0,0].set_title(\"Example Gain Phases at a Single Time\", fontsize=12)\n",
    "axes[0,1].set_title(\"Example Gain Amplitudes at a Single Time\", fontsize=12)\n",
    "axes[1,0].set_title(\"Example Gain Phases at a Single Frequency\", fontsize=12)\n",
    "axes[1,1].set_title(\"Example Gain Amplitudes at a Single Frequency\", fontsize=12)\n",
    "\n",
    "for ax in axes[0]:\n",
    "    ax.set_xlabel(\"Frequency [MHz]\", fontsize=12)\n",
    "for ax in axes[1]:\n",
    "    ax.set_xlabel(\"Time Since JD {:8.1f} [hr]\".format(times[0]), fontsize=12)\n",
    "\n",
    "for ant in list(ants)[::4]:\n",
    "    gain = true_gains[ant][no_flag]\n",
    "    \n",
    "    axes[0,0].plot(freqs, np.angle(gain[0]), alpha=0.7)\n",
    "    axes[0,1].plot(freqs, np.abs(gain[0]), alpha=0.7)\n",
    "    axes[1,0].plot((times-times[0])*units.day.to(\"hr\"), np.angle(gain[:,37]), alpha=0.7)\n",
    "    axes[1,1].plot((times-times[0])*units.day.to(\"hr\"), np.abs(gain[:,37]), alpha=0.7)\n",
    "    \n",
    "plt.tight_layout()\n",
    "plt.show()"
   ]
  },
  {
   "cell_type": "markdown",
   "metadata": {},
   "source": [
    "**Figure 7 |** Gains for the full day. Note that the simulated gains were made to have their amplitudes vary linearly by 10 percent over the course of 8 hours (but have their phases remain constant in time)."
   ]
  },
  {
   "cell_type": "markdown",
   "metadata": {},
   "source": [
    "### Calibration Results"
   ]
  },
  {
   "cell_type": "code",
   "execution_count": null,
   "metadata": {},
   "outputs": [],
   "source": [
    "abscal_glob = sorted(glob.glob(os.path.join(pipeline_output_path, \"*.abs.calfits\")))\n",
    "smoothcal_glob = sorted(glob.glob(os.path.join(pipeline_output_path, \"*.smooth_abs.calfits\")))\n",
    "assert len(abscal_glob) == len(smoothcal_glob) and len(abscal_glob) != 0"
   ]
  },
  {
   "cell_type": "code",
   "execution_count": null,
   "metadata": {},
   "outputs": [],
   "source": [
    "ac = io.HERACal(abscal_glob[0])\n",
    "ac_gains = ac.read()[0]\n",
    "ants = list(ac_gains.keys())\n",
    "\n",
    "# no particular reason for choosing these antennas as a reference\n",
    "refant = {\"Jxx\" : (13, \"Jxx\"), \"Jyy\" : (22, \"Jyy\")}\n",
    "\n",
    "# initialize a dictionary of gains for the full day\n",
    "abscal_gains = {ant : [] for ant in ants}\n",
    "smoothcal_gains = {ant : [] for ant in ants}\n",
    "\n",
    "# loop over all the abscal and smoothcal files\n",
    "for abscal_file, smoothcal_file in zip(abscal_glob, smoothcal_glob):\n",
    "    # instantiate HERACal objects for each file\n",
    "    ac = io.HERACal(abscal_file)\n",
    "    sc = io.HERACal(smoothcal_file)\n",
    "    \n",
    "    # load in the gains\n",
    "    ac_gains = ac.read()[0]\n",
    "    sc_gains = sc.read()[0]\n",
    "    \n",
    "    # update the gain dictionaries\n",
    "    for ant in ants:\n",
    "        abscal_gains[ant].append(ac_gains[ant])\n",
    "        smoothcal_gains[ant].append(sc_gains[ant])\n",
    "\n",
    "# now reshape the gain arrays\n",
    "for ant in ants:\n",
    "    ac_gains = np.array(abscal_gains[ant])\n",
    "    sc_gains = np.array(smoothcal_gains[ant])\n",
    "    \n",
    "    new_shape = (ac_gains.shape[0] * ac_gains.shape[1], ac_gains.shape[2])\n",
    "    abscal_gains[ant] = ac_gains.reshape(new_shape)\n",
    "    smoothcal_gains[ant] = sc_gains.reshape(new_shape)\n",
    "    \n",
    "# now rephase the gains\n",
    "abscal_gains = rephase_gains(abscal_gains, refant)\n",
    "smoothcal_gains = rephase_gains(smoothcal_gains, refant)\n",
    "true_gains = rephase_gains(true_gains, refant)"
   ]
  },
  {
   "cell_type": "code",
   "execution_count": null,
   "metadata": {},
   "outputs": [],
   "source": [
    "# choose an antenna to inspect\n",
    "ant = ants[np.random.randint(0,len(ants))]\n",
    "\n",
    "gain_dict = {\"Abscal\" : abscal_gains[ant][no_flag], \n",
    "             \"True\" : true_gains[ant][no_flag],\n",
    "             \"Smoothed Abscal\" : smoothcal_gains[ant][no_flag]}"
   ]
  },
  {
   "cell_type": "code",
   "execution_count": null,
   "metadata": {},
   "outputs": [],
   "source": [
    "# get bounds\n",
    "amp_bounds = (np.abs(true_gains[ant]).min(), np.abs(true_gains[ant]).max())\n",
    "phs_bounds = (-np.pi, np.pi)\n",
    "bounds = (amp_bounds, phs_bounds)\n",
    "modes = (\"abs\", \"phs\")\n",
    "\n",
    "# make the plot\n",
    "gain_plot_file = os.path.join(plot_path, \"full_day_gains_{}_{}.pdf\".format(ant[0],ant[1]))\n",
    "save_paths = [gain_plot_file, gain_plot_file.replace(\".pdf\",\".png\")]\n",
    "plot_gain_waterfalls(gain_dict, extent, bounds, modes, save_path=save_paths, time_units=\"hr\")\n",
    "print(\"The above plots are for antenna: {}\".format(ant))"
   ]
  },
  {
   "cell_type": "markdown",
   "metadata": {},
   "source": [
    "**Figure 8 |** Gain amplitude and phase waterfalls for the absolutely calibrated gain solutions, the smoothed versions thereof, and the true gains."
   ]
  },
  {
   "cell_type": "code",
   "execution_count": null,
   "metadata": {},
   "outputs": [],
   "source": [
    "# plot the diffs\n",
    "gain_diff_plot_file = os.path.join(plot_path, \"full_day_gain_diff_{}_{}.pdf\".format(ant[0],ant[1]))\n",
    "save_paths = [gain_diff_plot_file, gain_diff_plot_file.replace(\".pdf\", \".png\")]\n",
    "plot_gain_diffs(gain_dict, extent, save_path=save_paths, time_units=\"hr\")\n",
    "print(\"The above plots are for antenna: {}\".format(ant))"
   ]
  },
  {
   "cell_type": "markdown",
   "metadata": {},
   "source": [
    "**Figure 9 |** Waterfall plots for the amplitudes and phases of the differenced sets of gains. The leftmost column shows the comparison between the abscal solutions and the smoothed solutions; the other columns show the differences with the true gains. Note that the absolutely calibrated gain solutions are correct to machine precision, but the smoothed gain solutions introduce errors up to about the 10 percent level. (Perhaps important to note is that the errors in the smoothed solutions are only at about the 2 percent level when the gains do not vary in time.)"
   ]
  },
  {
   "cell_type": "code",
   "execution_count": null,
   "metadata": {},
   "outputs": [],
   "source": [
    "# plot the diffs at a single time\n",
    "gain_diff_plot_file = os.path.join(plot_path, \"full_day_single_time_gain_diff_{}_{}.pdf\".format(ant[0],ant[1]))\n",
    "save_paths = [gain_diff_plot_file, gain_diff_plot_file.replace(\".pdf\", \".png\")]\n",
    "plot_gain_diffs_1d(gain_dict, freqs, times, save_path=save_paths, time_units=\"hr\")\n",
    "print(\"The above plots are for antenna: {}\".format(ant))"
   ]
  },
  {
   "cell_type": "markdown",
   "metadata": {},
   "source": [
    "**Figure 10 |** Same plots as above, but at a single time."
   ]
  },
  {
   "cell_type": "code",
   "execution_count": null,
   "metadata": {},
   "outputs": [],
   "source": [
    "# get the delay spectrum for each antenna's gain\n",
    "gain_labels = tuple(gain_dict.keys())\n",
    "gain_delay_xforms = {\n",
    "    gain_label : {\n",
    "        ant : delay_xform(np.abs(gain_waterfall[no_flag])).mean(axis=0)\n",
    "        for ant, gain_waterfall in gains.items()\n",
    "    } for gain_label, gains in zip(gain_labels, (abscal_gains, true_gains, smoothcal_gains)) \n",
    "}"
   ]
  },
  {
   "cell_type": "code",
   "execution_count": null,
   "metadata": {},
   "outputs": [],
   "source": [
    "dlys = hera_pspec.utils.get_delays(freqs) * 1e3 # ns\n",
    "dly_cut = 200 # ns\n",
    "\n",
    "# for each set of gain solutions, plot the delay spectra amplitudes/phases\n",
    "fig = plt.figure(figsize=(14,8))\n",
    "axes = fig.subplots(2,3)\n",
    "for i, ax in enumerate(axes.ravel()):\n",
    "    gain_label = gain_labels[i % 3]\n",
    "    gains = gain_delay_xforms[gain_label]\n",
    "    label = \"%s Gain Delay Spectrum\" % gain_label\n",
    "    if i < 3:\n",
    "        ax.set_title(label, fontsize=12)\n",
    "        ax.set_yscale('log')\n",
    "    ylabel = (\"Amplitude\", \"Phase\")[i // 3]\n",
    "    ax.set_xlabel(\"Delay [ns]\", fontsize=12)\n",
    "    ax.set_ylabel(ylabel, fontsize=12)\n",
    "    ax.set_xlim(-dly_cut, dly_cut)\n",
    "    for gain in gains.values():\n",
    "        gain = np.abs(gain) if i < 3 else np.angle(gain)\n",
    "        ax.plot(dlys, gain, alpha=0.6)\n",
    "plt.tight_layout()\n",
    "plt.show()"
   ]
  },
  {
   "cell_type": "code",
   "execution_count": null,
   "metadata": {},
   "outputs": [],
   "source": [
    "# get the delay transform of the ratio true:est\n",
    "del gain_delay_xforms\n",
    "gain_labels = (\"True/Abscal\", \"True/Smoothcal\")\n",
    "gain_ratios_dly = {\n",
    "    gain_label : {\n",
    "        ant : delay_xform(true_gains[ant][no_flag]/est_gains[no_flag]).mean(axis=0)\n",
    "        for ant, est_gains in gains.items()\n",
    "    } for gain_label, gains in zip(gain_labels, (abscal_gains, smoothcal_gains))\n",
    "}"
   ]
  },
  {
   "cell_type": "code",
   "execution_count": null,
   "metadata": {},
   "outputs": [],
   "source": [
    "dly_cut = 200 # ns\n",
    "\n",
    "fig = plt.figure(figsize=(12,10))\n",
    "axes = fig.subplots(2,2)\n",
    "for i, ax in enumerate(axes.ravel()):\n",
    "    label = gain_labels[i % 2]\n",
    "    ylabel = (\"Amplitude\", \"Phase\")[i // 2]\n",
    "    if i < 2:\n",
    "        ax.set_yscale('log')\n",
    "        ax.set_title(\"%s Delay Spectrum\" % label, fontsize=12)\n",
    "    ax.set_xlabel(\"Delay [ns]\", fontsize=12)\n",
    "    ax.set_ylabel(ylabel, fontsize=12)\n",
    "    ax.set_xlim(-dly_cut, dly_cut)\n",
    "    for gain_ratio in gain_ratios_dly[label].values():\n",
    "        ratio = np.abs(gain_ratio) if i < 2 else np.angle(gain_ratio)\n",
    "        ax.plot(dlys, ratio, alpha=0.6)\n",
    "        \n",
    "plt.tight_layout()\n",
    "plt.show()"
   ]
  },
  {
   "cell_type": "code",
   "execution_count": null,
   "metadata": {},
   "outputs": [],
   "source": [
    "# just to be safe, delete the gains\n",
    "del gain_dict, abscal_gains, smoothcal_gains, true_gains, gain_ratios_dly"
   ]
  },
  {
   "cell_type": "markdown",
   "metadata": {},
   "source": [
    "### Inspection of Visibility Solutions"
   ]
  },
  {
   "cell_type": "code",
   "execution_count": null,
   "metadata": {},
   "outputs": [],
   "source": [
    "cal_vis_path = os.path.join(data_path, \"test-2.1.0/2451545\")\n",
    "full_day_vis_path = os.path.join(data_path, \"test-2.1.0/visibilities/full_day\")\n",
    "true_vis_glob = sorted(glob.glob(os.path.join(full_day_vis_path, \"*.RR.true.uvh5\")))\n",
    "abs_vis_glob = sorted(glob.glob(os.path.join(cal_vis_path, \"*.abs_vis.uvh5\")))\n",
    "smooth_vis_glob = sorted(glob.glob(os.path.join(cal_vis_path, \"*.smooth_abs_vis.uvh5\")))\n",
    "assert len(abs_vis_glob) == len(smooth_vis_glob) and len(abs_vis_glob) != 0\n",
    "assert len(abs_vis_glob) == len(true_vis_glob)"
   ]
  },
  {
   "cell_type": "code",
   "execution_count": null,
   "metadata": {},
   "outputs": [],
   "source": [
    "%%time\n",
    "# reading in all of the files would require too much memory\n",
    "Nfiles = int(len(abs_vis_glob) / 4)\n",
    "\n",
    "# do the abs vis first because it's already compressed by redundancy\n",
    "abs_vis_uvd = UVData()\n",
    "abs_vis_uvd.read(abs_vis_glob[:Nfiles])\n",
    "\n",
    "# choose the bls\n",
    "bls_to_use = sorted(list(set(\n",
    "    [abs_vis_uvd.baseline_to_antnums(bl) for bl in abs_vis_uvd.baseline_array]\n",
    ")))\n",
    "true_vis_uvd = UVData()\n",
    "true_vis_uvd.read(true_vis_glob[:Nfiles], bls=bls_to_use, keep_all_metadata=False)"
   ]
  },
  {
   "cell_type": "code",
   "execution_count": null,
   "metadata": {},
   "outputs": [],
   "source": [
    "# compare abs and true\n",
    "abs_vis_uvd = UVData()\n",
    "abs_vis_uvd.read(abs_vis_glob[:Nfiles])\n",
    "# check out how the visibilities compare in the uv-plane\n",
    "fig = uvtools.plot.plot_diff_uv(true_vis_uvd, abs_vis_uvd)\n",
    "plt.tight_layout()\n",
    "plt.show()"
   ]
  },
  {
   "cell_type": "code",
   "execution_count": null,
   "metadata": {},
   "outputs": [],
   "source": [
    "np.median(np.abs(true_vis_uvd.data_array))"
   ]
  },
  {
   "cell_type": "code",
   "execution_count": null,
   "metadata": {},
   "outputs": [],
   "source": [
    "np.median(np.abs(abs_vis_uvd.data_array))"
   ]
  },
  {
   "cell_type": "code",
   "execution_count": null,
   "metadata": {},
   "outputs": [],
   "source": [
    "np.mean(np.abs(true_vis_uvd.data_array))"
   ]
  },
  {
   "cell_type": "code",
   "execution_count": null,
   "metadata": {},
   "outputs": [],
   "source": [
    "np.mean(np.abs(abs_vis_uvd.data_array))"
   ]
  },
  {
   "cell_type": "code",
   "execution_count": null,
   "metadata": {},
   "outputs": [],
   "source": [
    "del abs_vis_uvd, true_vis_uvd"
   ]
  },
  {
   "cell_type": "markdown",
   "metadata": {},
   "source": [
    "### Power Spectrum Results"
   ]
  },
  {
   "cell_type": "markdown",
   "metadata": {},
   "source": [
    "In this section, we load and visualize the power spectrum estimations for every data set for the full eight hours investigated in this test."
   ]
  },
  {
   "cell_type": "code",
   "execution_count": null,
   "metadata": {},
   "outputs": [],
   "source": [
    "simple_spec_glob = sorted(glob.glob(os.path.join(spec_path_full_day, \"*.RR.uncal.simple_vis.psc\")))\n",
    "abs_spec_glob = sorted(glob.glob(os.path.join(spec_path_full_day, \"*.RR.uncal.abs_vis.psc\")))\n",
    "smooth_spec_glob = sorted(glob.glob(os.path.join(spec_path_full_day, \"*.RR.uncal.smooth*.psc\")))\n",
    "uncal_spec_glob = sorted(glob.glob(os.path.join(spec_path_full_day, \"*.RR.uncal.psc\")))\n",
    "omni_spec_glob = sorted(glob.glob(os.path.join(spec_path_full_day, \"*.RR.uncal.omni*.psc\")))\n",
    "true_spec_glob = sorted(glob.glob(os.path.join(spec_path_full_day, \"*.RR.true.psc\")))\n",
    "eor_spec_glob = sorted(glob.glob(os.path.join(spec_path_full_day, \"*.eor.psc\")))\n",
    "fg_spec_glob = sorted(glob.glob(os.path.join(spec_path_full_day, \"*.fg_only.psc\")))"
   ]
  },
  {
   "cell_type": "code",
   "execution_count": null,
   "metadata": {},
   "outputs": [],
   "source": [
    "globs = (simple_spec_glob, abs_spec_glob, smooth_spec_glob, uncal_spec_glob, \n",
    "         omni_spec_glob, true_spec_glob, eor_spec_glob, fg_spec_glob)"
   ]
  },
  {
   "cell_type": "code",
   "execution_count": null,
   "metadata": {},
   "outputs": [],
   "source": [
    "for spec_glob in globs:\n",
    "    print(len(spec_glob))"
   ]
  },
  {
   "cell_type": "code",
   "execution_count": null,
   "metadata": {},
   "outputs": [],
   "source": [
    "%%time\n",
    "# incoherently average all the spectra\n",
    "# each spw has 154 channels, but we'll be folding the spectra\n",
    "\n",
    "# initialize some dictionaries\n",
    "simple_cal_spectra = {spw: {} for spw in range(6)}\n",
    "abs_cal_spectra = {spw: {} for spw in range(6)}\n",
    "smooth_abs_cal_spectra = {spw: {} for spw in range(6)}\n",
    "omni_cal_spectra = {spw: {} for spw in range(6)}\n",
    "uncal_spectra = {spw: {} for spw in range(6)}\n",
    "true_spectra = {spw: {} for spw in range(6)}\n",
    "eor_spectra = {spw: {} for spw in range(6)}\n",
    "fg_spectra = {spw: {} for spw in range(6)}\n",
    "\n",
    "# some stuff for making things easy\n",
    "spectra = {\"simple\" : simple_cal_spectra,\n",
    "           \"abs\" : abs_cal_spectra,\n",
    "           \"smooth\" : smooth_abs_cal_spectra, \n",
    "           \"uncal\" : uncal_spectra,\n",
    "           \"omni\" : omni_cal_spectra,\n",
    "           \"true\" : true_spectra,\n",
    "           \"eor\" : eor_spectra,\n",
    "           \"fg\" : fg_spectra}\n",
    "\n",
    "labels = tuple(spectra.keys())\n",
    "assert len(labels) == len(globs)\n",
    "\n",
    "skip_data = (\"uncal\", \"omni\")\n",
    "\n",
    "for label, spec_glob in zip(labels, globs):\n",
    "    if label in skip_data:\n",
    "        continue\n",
    "    spec_by_spw = spectra[label]\n",
    "    for spec_file in spec_glob:\n",
    "        psc = hera_pspec.container.PSpecContainer(spec_file, keep_open=False)\n",
    "        uvp = psc.get_pspec(psc.groups()[0])[0]\n",
    "        uvp.fold_spectra()\n",
    "        for key in uvp.get_all_keys():\n",
    "            spw = key[0]\n",
    "            blp = key[1]\n",
    "            try:\n",
    "                spec_by_spw[spw][blp].append(uvp.get_data(key))\n",
    "            except KeyError:\n",
    "                spec_by_spw[spw][blp] = [uvp.get_data(key),]\n",
    "        \n",
    "del psc, uvp"
   ]
  },
  {
   "cell_type": "code",
   "execution_count": null,
   "metadata": {},
   "outputs": [],
   "source": [
    "# the spectra dictionaries should have 6 spws, and each spw should have Nblp dictionaries\n",
    "# each dictionary spectra[spec_file][spw][blp] should have a list with length Nfiles\n",
    "# each entry in the list should have shape (10, 76)\n",
    "for label, spec_dict in spectra.items():\n",
    "    if label in skip_data:\n",
    "        continue\n",
    "    for spw in spec_dict.keys():\n",
    "        for blp in spec_dict[spw].keys():\n",
    "            for spec in spec_dict[spw][blp]:\n",
    "                assert spec.shape == (10,76)\n",
    "                \n",
    "# now let's re-shape from (Nfiles, Ntimes, Ndlys) to (Nfiles * Ntimes, Ndlys)\n",
    "for label, spec_dict in spectra.items():\n",
    "    if label in skip_data:\n",
    "        continue\n",
    "    for spec_by_spw in spec_dict.values():\n",
    "        for blp, spec in spec_by_spw.items():\n",
    "            spec = np.array(spec)\n",
    "            new_shape = (spec.shape[0] * spec.shape[1], spec.shape[2])\n",
    "            spec_by_spw[blp] = spec.reshape(new_shape)\n",
    "            \n",
    "# in the end we have an array of shape (Nspw, Nblps, Nfiles * Ntimes, Ndlys)"
   ]
  },
  {
   "cell_type": "code",
   "execution_count": null,
   "metadata": {},
   "outputs": [],
   "source": [
    "# get the spectral window edges, k_parallel values, and delays\n",
    "psc = hera_pspec.container.PSpecContainer(smooth_spec_glob[0], keep_open=False)\n",
    "uvp = psc.get_pspec(psc.groups()[0])[0]\n",
    "uvp.fold_spectra()\n",
    "spw_edges = [(spw[0], spw[1]) for spw in uvp.get_spw_ranges()]\n",
    "k_paras = [uvp.get_kparas(j) for j in range(6)]\n",
    "dlys = [uvp.get_dlys(j) for j in range(6)]\n",
    "\n",
    "# now get the expected power spectrum for each spectral window\n",
    "aliased_spectra = {}\n",
    "for j, kparas in enumerate(k_paras):\n",
    "    # get the frequencies in the spectral window\n",
    "    spw = uvp.freq_array[j*154 : (j+1)*154] # 154 channels per spectral window\n",
    "    \n",
    "    # get redshift at band-center\n",
    "    z = cosmo.f2z(np.mean(spw))\n",
    "    \n",
    "    # get co-moving distances sampled along LoS\n",
    "    sampled_distances = np.array([cosmo.DC(z) for z in cosmo.f2z(spw)])\n",
    "    \n",
    "    # convert to approximate sampling frequency\n",
    "    ks_est = np.pi/np.mean(np.abs(np.diff(sampled_distances)))\n",
    "\n",
    "    # calculate aliased power spectrum\n",
    "    aliased_spectra[j] = aliased_power_spectrum(kparas, ks_est, z, cosmo=cosmo)\n",
    "    \n",
    "del psc, uvp"
   ]
  },
  {
   "cell_type": "code",
   "execution_count": null,
   "metadata": {
    "scrolled": false
   },
   "outputs": [],
   "source": [
    "# for now, let's only plot the abscal, smoothed abscal, simple cal, and true power spectra\n",
    "labels = (\"simple\", \"abs\", \"smooth\", \"true\", \"eor\", \"fg\")\n",
    "spec_to_plot = {label : spectra[label] for label in labels}\n",
    "colors = (\"darkorange\", \"magenta\", \"cyan\", \"gray\", \"forestgreen\", \"dodgerblue\")\n",
    "alphas = (0.5, 0.6, 0.6, 0.4, 0.3, 0.3)\n",
    "linestyles = ('-', ':', '--', '-', '-', '-')\n",
    "lws = (4, 4, 4, 6, 6, 6)\n",
    "\n",
    "# bundle these up into a tuple of things to be iterated over\n",
    "plot_iterator = lambda : zip(spec_to_plot.values(), labels, colors, alphas, linestyles, lws)\n",
    "\n",
    "# create a figure and axes objects\n",
    "fig = plt.figure(figsize=(15,35))\n",
    "axes = fig.subplots(6)\n",
    "\n",
    "# setup stuff\n",
    "for j in range(6):\n",
    "    ax = axes[j]\n",
    "    #ax.set_xlim(0.4, k_paras[j].max())\n",
    "    #ax.set_ylim(10**2.75, 10**5.5)\n",
    "    ax.grid(b=True, which=\"major\", axis=\"y\")\n",
    "    ax.grid(b=True, which=\"both\", axis=\"x\")\n",
    "    fmin, fmax = spw_edges[j]\n",
    "    ax.set_title(\"A Collection of Spectra, All Baseline Pairs\\n\" + \\\n",
    "                  \"Spectral Window: {:4.1f} MHz to {:4.1f} MHz\".format(fmin/1e6, fmax/1e6),\n",
    "                  fontsize=12)\n",
    "    ax.set_xlabel(r\"$k_\\parallel$ [$h$ Mpc$^{-1}$]\", fontsize=12)\n",
    "    #ax.set_xlabel(\"Delay [ns]\", fontsize=12)\n",
    "    ax.set_ylabel(r\"Power [mK$^2$ $h^{-3}$ Mpc$^3$]\", fontsize=12)\n",
    "    \n",
    "# plot all the (\"measured\") things    \n",
    "for spec_dict, label, color, alpha, ls, lw in plot_iterator():\n",
    "    for spw, kparas in enumerate(k_paras):\n",
    "        ax = axes[spw]\n",
    "        spec_by_spw = spec_dict[spw]\n",
    "        bl_avg = []\n",
    "        for spec in spec_by_spw.values():\n",
    "            bl_avg.append(spec.mean(axis=0))\n",
    "        bl_avg = np.asarray(bl_avg).mean(axis=0)\n",
    "        ax.loglog(kparas, np.abs(bl_avg), lw=lw, ls=ls, color=color, alpha=alpha, label=label)\n",
    "        \n",
    "# now plot the expected power spectra\n",
    "for spw, kparas in enumerate(k_paras):\n",
    "    ax = axes[spw]\n",
    "    ax.loglog(kparas, aliased_spectra[spw], color='k', lw=4, ls='--', alpha=0.3, label=\"expected\")\n",
    "    ax.legend(ncol=2)\n",
    "plt.tight_layout()\n",
    "plt.show()\n",
    "save_path = os.path.join(plot_path, \"full_day_with_aliased_expectation_all_kparas.pdf\")\n",
    "fig.savefig(save_path)\n",
    "fig.savefig(save_path.replace(\".pdf\", \".png\"))"
   ]
  },
  {
   "cell_type": "markdown",
   "metadata": {},
   "source": [
    "**Figure 11 |** Power spectra for the six spectral windows used in this analysis. Only auto-baseline pairs were used for power spectrum estimation. Each line notes the power spectrum estimate, incoherently averaged in time over the full eight hours of simulated data used and averaged over all baseline pairs. Note that the extent of foreground leakage appears to depend on choice of spectral window&mdash;we only see EoR dominate the signal at some $k$-modes in the last two spectral windows.\n",
    "\n",
    "Note that the power spectrum estimates for the absolutely calibrated visibilities and the smoothed versions thereof tend to deviate toward the band edges (the first and last spectral windows), but are nearly identical for the middle spectral windows. A curious feature worth noting is that the power spectrum estimation for a given $k_\\parallel$ mode is different between spectral windows; it is suspected that this is a consequence of the choice of windowing function and the relative amplitude of the foreground power and EoR power."
   ]
  },
  {
   "cell_type": "code",
   "execution_count": null,
   "metadata": {
    "scrolled": false
   },
   "outputs": [],
   "source": [
    "# create a figure and axes objects\n",
    "fig = plt.figure(figsize=(15,35))\n",
    "axes = fig.subplots(6)\n",
    "\n",
    "# setup stuff\n",
    "for j in range(6):\n",
    "    ax = axes[j]\n",
    "    ax.set_xlim(0.4, k_paras[j].max())\n",
    "    ax.set_ylim(10**2.75, 10**5.5)\n",
    "    ax.grid(b=True, which=\"major\", axis=\"y\")\n",
    "    ax.grid(b=True, which=\"both\", axis=\"x\")\n",
    "    fmin, fmax = spw_edges[j]\n",
    "    ax.set_title(\"A Collection of Spectra, All Baseline Pairs\\n\" + \\\n",
    "                  \"Spectral Window: {:4.1f} MHz to {:4.1f} MHz\".format(fmin/1e6, fmax/1e6),\n",
    "                  fontsize=12)\n",
    "    ax.set_xlabel(r\"$k_\\parallel$ [$h$ Mpc$^{-1}$]\", fontsize=12)\n",
    "    #ax.set_xlabel(\"Delay [ns]\", fontsize=12)\n",
    "    ax.set_ylabel(r\"Power [mK$^2$ $h^{-3}$ Mpc$^3$]\", fontsize=12)\n",
    "    \n",
    "# plot all the (\"measured\") things    \n",
    "for spec_dict, label, color, alpha, ls, lw in plot_iterator():\n",
    "    for spw, kparas in enumerate(k_paras):\n",
    "        ax = axes[spw]\n",
    "        spec_by_spw = spec_dict[spw]\n",
    "        bl_avg = []\n",
    "        for spec in spec_by_spw.values():\n",
    "            bl_avg.append(spec.mean(axis=0))\n",
    "        bl_avg = np.asarray(bl_avg).mean(axis=0)\n",
    "        ax.loglog(kparas, np.abs(bl_avg), lw=lw, ls=ls, color=color, alpha=alpha, label=label)\n",
    "        \n",
    "# now plot the expected power spectra\n",
    "for spw, kparas in enumerate(k_paras):\n",
    "    ax = axes[spw]\n",
    "    ax.loglog(kparas, aliased_spectra[spw], color='k', lw=4, ls='--', alpha=0.3, label=\"expected\")\n",
    "    ax.legend(ncol=2)\n",
    "\n",
    "plt.tight_layout()\n",
    "plt.show()\n",
    "save_path = os.path.join(plot_path, \"full_day_with_aliased_expectation.pdf\")\n",
    "fig.savefig(save_path)\n",
    "fig.savefig(save_path.replace(\".pdf\", \".png\"))"
   ]
  },
  {
   "cell_type": "markdown",
   "metadata": {},
   "source": [
    "**Figure 12 |** Same plot as above, but with the viewing window restricted to $k_\\parallel$ values greater than 0.4 $h$ Mpc$^{-1}$."
   ]
  },
  {
   "cell_type": "code",
   "execution_count": null,
   "metadata": {},
   "outputs": [],
   "source": [
    "# calculate the average of the true spectrum\n",
    "true_spec_bl_avg = {}\n",
    "for spw, spec_dict in true_spectra.items():\n",
    "    bl_avg = []\n",
    "    for spec in spec_dict.values():\n",
    "        bl_avg.append(spec.mean(axis=0))\n",
    "    true_spec_bl_avg[spw] = np.asarray(bl_avg).mean(axis=0)"
   ]
  },
  {
   "cell_type": "code",
   "execution_count": null,
   "metadata": {
    "scrolled": false
   },
   "outputs": [],
   "source": [
    "# create a figure and axes objects\n",
    "fig = plt.figure(figsize=(15,35))\n",
    "axes = fig.subplots(6)\n",
    "\n",
    "# setup stuff\n",
    "for j in range(6):\n",
    "    ax = axes[j]\n",
    "    ax.set_xlim(0.4, k_paras[j].max())\n",
    "    ax.set_ylim(-0.1, 0.1)\n",
    "    ax.grid(b=True, which=\"major\", axis=\"y\")\n",
    "    ax.grid(b=True, which=\"both\", axis=\"x\")\n",
    "    fmin, fmax = spw_edges[j]\n",
    "    ax.set_title(\"A Collection of Spectra, All Baseline Pairs\\n\" + \\\n",
    "                  \"Spectral Window: {:4.1f} MHz to {:4.1f} MHz\".format(fmin/1e6, fmax/1e6),\n",
    "                  fontsize=12)\n",
    "    ax.set_xlabel(r\"$k_\\parallel$ [$h$ Mpc$^{-1}$]\", fontsize=12)\n",
    "    ax.set_ylabel(\"Fractional Residual\", fontsize=12)\n",
    "    \n",
    "# plot all the (\"measured\") things    \n",
    "for spec_dict, label, color, alpha, ls, lw in plot_iterator():\n",
    "    if label in (\"fg\", \"true\",):\n",
    "        continue\n",
    "    for spw, kparas in enumerate(k_paras):\n",
    "        ax = axes[spw]\n",
    "        spec_by_spw = spec_dict[spw]\n",
    "        bl_avg = []\n",
    "        for spec in spec_by_spw.values():\n",
    "            bl_avg.append(spec.mean(axis=0))\n",
    "        bl_avg = np.array(bl_avg).mean(axis=0)\n",
    "        fractional_error = np.real(bl_avg - true_spec_bl_avg[spw])\n",
    "        fractional_error /= np.real(true_spec_bl_avg[spw])\n",
    "        ax.plot(kparas, fractional_error, lw=lw, ls=ls, color=color, alpha=alpha, label=label)\n",
    "        ax.legend(ncol=2)\n",
    "\n",
    "plt.tight_layout()\n",
    "plt.show()\n",
    "save_path = os.path.join(plot_path, \"full_day_residuals.pdf\")\n",
    "fig.savefig(save_path)\n",
    "fig.savefig(save_path.replace(\".pdf\", \".png\"))"
   ]
  },
  {
   "cell_type": "markdown",
   "metadata": {},
   "source": [
    "**Figure 13 |** Fractional residuals, measured relative to the true (perfectly calibrated) power spectrum estimate."
   ]
  },
  {
   "cell_type": "code",
   "execution_count": null,
   "metadata": {},
   "outputs": [],
   "source": [
    "# memory errors keep happening around here for some reason, so delete all the spectra\n",
    "del spectra, simple_cal_spectra, abs_cal_spectra, smooth_abs_cal_spectra\n",
    "del omni_cal_spectra, uncal_spectra, true_spectra, eor_spectra, fg_spectra"
   ]
  },
  {
   "cell_type": "code",
   "execution_count": null,
   "metadata": {},
   "outputs": [],
   "source": [
    "# load in just the foreground spectra to show how the peak changes over spectral window\n",
    "spec_glob = sorted(glob.glob(os.path.join(spec_path_full_day, \"*.fg_only.psc\")))\n",
    "spectra = {spw : {} for spw in range(6)}\n",
    "for spec_file in spec_glob:\n",
    "    psc = hera_pspec.container.PSpecContainer(spec_file, keep_open=False)\n",
    "    uvp = psc.get_pspec(psc.groups()[0])[0]\n",
    "    for key in uvp.get_all_keys():\n",
    "        spw = key[0]\n",
    "        blp = key[1]\n",
    "        try:\n",
    "            spectra[spw][blp].append(uvp.get_data(key))\n",
    "        except KeyError:\n",
    "            spectra[spw][blp] = [uvp.get_data(key),]\n",
    "            \n",
    "# get the k_parallel array, then delete stuff\n",
    "k_paras = [uvp.get_kparas(spw) for spw in range(6)]\n",
    "del psc, uvp\n",
    "\n",
    "# reformat so each entry is a numpy array\n",
    "for spec_by_spw in spectra.values():\n",
    "    for blp, spec in spec_by_spw.items():\n",
    "        spec = np.array(spec)\n",
    "        new_shape = (spec.shape[0] * spec.shape[1], spec.shape[2])\n",
    "        spec_by_spw[blp] = spec.reshape(new_shape)"
   ]
  },
  {
   "cell_type": "code",
   "execution_count": null,
   "metadata": {},
   "outputs": [],
   "source": [
    "# now plot the stuff\n",
    "colors = (\"dodgerblue\", \"darkorange\", \"darkred\", \"magenta\", \"cyan\", \"k\")\n",
    "fig = plt.figure(figsize=(12,6))\n",
    "ax = fig.add_subplot(1,1,1)\n",
    "ax.set_xlabel(r\"$k_\\parallel$ [$h$ Mpc$^{-1}$]\", fontsize=12)\n",
    "ax.set_ylabel(r\"Power [mK$^2$ $h^{-3}$ Mpc$^3$]\", fontsize=12)\n",
    "ax.set_title(\"Visualization of Shifting Foreground Amplitude\\n\"\n",
    "             +r\"by spectral window at $k_\\parallel$ = 0 Mode\", fontsize=12)\n",
    "#ax.set_xlim(-0.5,0.5)\n",
    "#ax.set_ylim(1e13,1e17)\n",
    "for spw, spec_by_spw in spectra.items():\n",
    "    fmin, fmax = spw_edges[spw]\n",
    "    bl_avg = []\n",
    "    for spec in spec_by_spw.values():\n",
    "        bl_avg.append(spec.real.mean(axis=0))\n",
    "    bl_avg = np.array(bl_avg).mean(axis=0)\n",
    "    ax.semilogy(k_paras[spw], bl_avg, color=colors[spw], alpha=0.6, \n",
    "                label=\"{:4.1f} - {:4.1f}\".format(fmin/1e6,fmax/1e6))\n",
    "ax.legend(ncol=2, title=\"Spectral Window [MHz]\")\n",
    "plt.tight_layout()\n",
    "plt.show()\n",
    "save_path = os.path.join(plot_path, \"foreground_evolution_by_spw.pdf\")\n",
    "fig.savefig(save_path)\n",
    "fig.savefig(save_path.replace(\".pdf\", \".png\"))"
   ]
  },
  {
   "cell_type": "markdown",
   "metadata": {},
   "source": [
    "**Figure 14 |** Evolution of foreground peak by spectral window. Note that the foreground peak changes by roughly 3-4 orders of magnitude over the full band."
   ]
  },
  {
   "cell_type": "code",
   "execution_count": null,
   "metadata": {},
   "outputs": [],
   "source": [
    "# delete the spectra just to be safe\n",
    "del spectra"
   ]
  },
  {
   "cell_type": "markdown",
   "metadata": {},
   "source": [
    "## Frequency-Dependent EoR Amplitude"
   ]
  },
  {
   "cell_type": "markdown",
   "metadata": {},
   "source": [
    "In the previous section, we found issues regarding the extraction of the expected EoR signal, likely due to issues regarding windowing and the difference in dynamic range of EoR and foregrounds. In this section, we perform the same analysis as in the previous section, but with an amplified, frequency-dependent EoR signal."
   ]
  },
  {
   "cell_type": "code",
   "execution_count": null,
   "metadata": {},
   "outputs": [],
   "source": [
    "simple_spec_glob = sorted(glob.glob(os.path.join(spec_path_full_day, \"*freq_dep_eor*simple*.psc\")))\n",
    "abs_spec_glob = sorted(glob.glob(os.path.join(spec_path_full_day, \"*freq_dep_eor*.abs_vis.psc\")))\n",
    "smooth_spec_glob = sorted(glob.glob(os.path.join(spec_path_full_day, \"*freq_dep_eor*smooth*.psc\")))\n",
    "uncal_spec_glob = sorted(glob.glob(os.path.join(spec_path_full_day, \"*freq_dep_eor*uncal.psc\")))\n",
    "omni_spec_glob = sorted(glob.glob(os.path.join(spec_path_full_day, \"*freq_dep_eor*omni*.psc\")))\n",
    "true_spec_glob = sorted(glob.glob(os.path.join(spec_path_full_day, \"*freq_dep_eor.true.psc\")))\n",
    "eor_spec_glob = sorted(glob.glob(os.path.join(spec_path_full_day, \"*.freq_dep_eor.psc\")))\n",
    "fg_spec_glob = sorted(glob.glob(os.path.join(spec_path_full_day, \"*.fg_only.psc\")))"
   ]
  },
  {
   "cell_type": "code",
   "execution_count": null,
   "metadata": {},
   "outputs": [],
   "source": [
    "globs = (simple_spec_glob, abs_spec_glob, smooth_spec_glob, uncal_spec_glob, \n",
    "         omni_spec_glob, true_spec_glob, eor_spec_glob, fg_spec_glob)"
   ]
  },
  {
   "cell_type": "code",
   "execution_count": null,
   "metadata": {},
   "outputs": [],
   "source": [
    "for spec_glob in globs:\n",
    "    print(len(spec_glob))"
   ]
  },
  {
   "cell_type": "code",
   "execution_count": null,
   "metadata": {},
   "outputs": [],
   "source": [
    "%%time\n",
    "# incoherently average all the spectra\n",
    "# each spw has 154 channels, but we'll be folding the spectra\n",
    "\n",
    "# initialize some dictionaries\n",
    "simple_cal_spectra = {spw: {} for spw in range(6)}\n",
    "abs_cal_spectra = {spw: {} for spw in range(6)}\n",
    "smooth_abs_cal_spectra = {spw: {} for spw in range(6)}\n",
    "omni_cal_spectra = {spw: {} for spw in range(6)}\n",
    "uncal_spectra = {spw: {} for spw in range(6)}\n",
    "true_spectra = {spw: {} for spw in range(6)}\n",
    "eor_spectra = {spw: {} for spw in range(6)}\n",
    "fg_spectra = {spw: {} for spw in range(6)}\n",
    "\n",
    "# some stuff for making things easy\n",
    "spectra = {\"simple\" : simple_cal_spectra,\n",
    "           \"abs\" : abs_cal_spectra,\n",
    "           \"smooth\" : smooth_abs_cal_spectra, \n",
    "           \"uncal\" : uncal_spectra,\n",
    "           \"omni\" : omni_cal_spectra,\n",
    "           \"true\" : true_spectra,\n",
    "           \"eor\" : eor_spectra,\n",
    "           \"fg\" : fg_spectra}\n",
    "\n",
    "labels = tuple(spectra.keys())\n",
    "assert len(labels) == len(globs)\n",
    "\n",
    "skip_data = (\"uncal\", \"omni\")\n",
    "#skip_data = (key for key in spectra.keys() if key != \"eor\")\n",
    "\n",
    "for label, spec_glob in zip(labels, globs):\n",
    "    if label in skip_data:\n",
    "        continue\n",
    "    spec_by_spw = spectra[label]\n",
    "    for spec_file in spec_glob:\n",
    "        psc = hera_pspec.container.PSpecContainer(spec_file, keep_open=False)\n",
    "        uvp = psc.get_pspec(psc.groups()[0])[0]\n",
    "        uvp.fold_spectra()\n",
    "        for key in uvp.get_all_keys():\n",
    "            spw = key[0]\n",
    "            blp = key[1]\n",
    "            try:\n",
    "                spec_by_spw[spw][blp].append(uvp.get_data(key))\n",
    "            except KeyError:\n",
    "                spec_by_spw[spw][blp] = [uvp.get_data(key),]\n",
    "        \n",
    "# get the k_parallel arrays\n",
    "k_paras = [uvp.get_kparas(spw) for spw in range(6)]\n",
    "\n",
    "# delete the pspec container and power spectra\n",
    "del psc, uvp"
   ]
  },
  {
   "cell_type": "code",
   "execution_count": null,
   "metadata": {},
   "outputs": [],
   "source": [
    "# the spectra dictionaries should have 6 spws, and each spw should have Nblp dictionaries\n",
    "# each dictionary spectra[spec_file][spw][blp] should have a list with length Nfiles\n",
    "# each entry in the list should have shape (10, 76)\n",
    "for label, spec_dict in spectra.items():\n",
    "    if label in skip_data:\n",
    "        continue\n",
    "    for spw in spec_dict.keys():\n",
    "        for blp in spec_dict[spw].keys():\n",
    "            for spec in spec_dict[spw][blp]:\n",
    "                assert spec.shape == (10,76)\n",
    "                \n",
    "# now let's re-shape from (Nfiles, Ntimes, Ndlys) to (Nfiles * Ntimes, Ndlys)\n",
    "for label, spec_dict in spectra.items():\n",
    "    if label in skip_data:\n",
    "        continue\n",
    "    for spec_by_spw in spec_dict.values():\n",
    "        for blp, spec in spec_by_spw.items():\n",
    "            spec = np.array(spec)\n",
    "            new_shape = (spec.shape[0] * spec.shape[1], spec.shape[2])\n",
    "            spec_by_spw[blp] = spec.reshape(new_shape)\n",
    "            \n",
    "# in the end we have an array of shape (Nspw, Nblps, Nfiles * Ntimes, Ndlys)"
   ]
  },
  {
   "cell_type": "code",
   "execution_count": null,
   "metadata": {},
   "outputs": [],
   "source": [
    "# get the spectral window edges, k_parallel values, and delays\n",
    "psc = hera_pspec.container.PSpecContainer(eor_spec_glob[0], keep_open=False)\n",
    "uvp = psc.get_pspec(psc.groups()[0])[0]\n",
    "uvp.fold_spectra()\n",
    "spw_edges = [(spw[0], spw[1]) for spw in uvp.get_spw_ranges()]\n",
    "k_paras = [uvp.get_kparas(j) for j in range(6)]\n",
    "#k_paras = [uvp.get_kparas(j, little_h=False) for j in range(6)]\n",
    "dlys = [uvp.get_dlys(j) for j in range(6)]\n",
    "\n",
    "# now get the expected power spectrum for each spectral window\n",
    "aliased_spectra = {}\n",
    "for j, kparas in enumerate(k_paras):\n",
    "    # get the frequencies in the spectral window\n",
    "    spw = uvp.freq_array[j*154 : (j+1)*154] # 154 channels per spectral window\n",
    "    \n",
    "    # get redshift at center of spectral window\n",
    "    z = cosmo.f2z(np.mean(spw))\n",
    "    \n",
    "    # get co-moving distances sampled along LoS\n",
    "    sampled_distances = np.array([cosmo.DC(z) for z in cosmo.f2z(spw)])\n",
    "    \n",
    "    # convert to approximate sampling frequency\n",
    "    ks_est = np.pi/np.mean(np.abs(np.diff(sampled_distances)))\n",
    "    \n",
    "    # calculate aliased power spectrum\n",
    "    aliased_spectra[j] = aliased_power_spectrum(kparas, ks_est, z=z, cosmo=cosmo, freq_dep=True)\n",
    "    \n",
    "del psc, uvp"
   ]
  },
  {
   "cell_type": "code",
   "execution_count": null,
   "metadata": {
    "scrolled": false
   },
   "outputs": [],
   "source": [
    "# for now, let's only plot the abscal, smoothed abscal, simple cal, and true power spectra\n",
    "labels = (\"simple\", \"abs\", \"smooth\", \"true\", \"eor\", \"fg\")\n",
    "#labels = (\"eor\", \"fg\",)\n",
    "spec_to_plot = {label : spectra[label] for label in labels}\n",
    "#colors = (\"forestgreen\", \"dodgerblue\",)\n",
    "#alphas = (0.3, 0.3,)\n",
    "#linestyles = ('-', '-',)\n",
    "#lws = (6, 6,)\n",
    "colors = (\"darkorange\", \"magenta\", \"cyan\", \"gray\", \"forestgreen\", \"dodgerblue\")\n",
    "alphas = (0.5, 0.6, 0.6, 0.4, 0.3, 0.3)\n",
    "linestyles = ('-', ':', '--', '-', '-', '-')\n",
    "lws = (4, 4, 4, 6, 6, 6)\n",
    "\n",
    "# bundle these things into an iterator\n",
    "plot_iterator = lambda : zip(spec_to_plot.values(), labels, colors, alphas, linestyles, lws)\n",
    "\n",
    "# create a figure and axes objects\n",
    "fig = plt.figure(figsize=(15,35))\n",
    "axes = fig.subplots(6)\n",
    "\n",
    "# setup stuff\n",
    "for j in range(6):\n",
    "    ax = axes[j]\n",
    "    #ax.set_xlim(0.4, k_paras[j].max())\n",
    "    #ax.set_ylim(10**2.75, 10**5.5)\n",
    "    ax.grid(b=True, which=\"major\", axis=\"y\")\n",
    "    ax.grid(b=True, which=\"both\", axis=\"x\")\n",
    "    fmin, fmax = spw_edges[j]\n",
    "    ax.set_title(\"A Collection of Spectra, All Baseline Pairs\\n\" + \\\n",
    "                  \"Spectral Window: {:4.1f} MHz to {:4.1f} MHz\".format(fmin/1e6, fmax/1e6),\n",
    "                  fontsize=12)\n",
    "    ax.set_xlabel(r\"$k_\\parallel$ [$h$ Mpc$^{-1}$]\", fontsize=12)\n",
    "    #ax.set_xlabel(\"Delay [ns]\", fontsize=12)\n",
    "    ax.set_ylabel(r\"Power [mK$^2$ $h^{-3}$ Mpc$^3$]\", fontsize=12)\n",
    "    \n",
    "# plot all the (\"measured\") things    \n",
    "for spec_dict, label, color, alpha, ls, lw in plot_iterator():\n",
    "    for spw, kparas in enumerate(k_paras):\n",
    "        ax = axes[spw]\n",
    "        spec_by_spw = spec_dict[spw]\n",
    "        bl_avg = []\n",
    "        for blp, spec in spec_by_spw.items():\n",
    "            #ax.loglog(kparas, np.abs(spec.mean(axis=0)), marker='o', ms=2, color=color, alpha=0.3, lw=0)\n",
    "            #ax.semilogy(dlys[spw], np.abs(spec.mean(axis=0)), marker='o', ms=2, color=color, alpha=0.3, lw=0)\n",
    "            bl_avg.append(spec.mean(axis=0))\n",
    "        bl_avg = np.array(bl_avg).mean(axis=0)\n",
    "        ax.loglog(kparas, np.abs(bl_avg), lw=lw, ls=ls, color=color, alpha=alpha, label=label)\n",
    "        #ax.semilogy(dlys[spw], np.abs(bl_avg), lw=lw, ls=ls, color=color, alpha=alpha, label=label)\n",
    "        \n",
    "# now plot the expected power spectra\n",
    "for spw, kparas in enumerate(k_paras):\n",
    "    ax = axes[spw]\n",
    "    ax.loglog(kparas, aliased_spectra[spw], color='k', lw=4, ls='--', alpha=0.3, label=\"expected\")\n",
    "    ax.legend(ncol=2)\n",
    "plt.tight_layout()\n",
    "plt.show()\n",
    "save_path = os.path.join(plot_path, \"full_day_with_aliased_expectation_all_kparas_freq_dep_eor.pdf\")\n",
    "fig.savefig(save_path)\n",
    "fig.savefig(save_path.replace(\".pdf\", \".png\"))"
   ]
  },
  {
   "cell_type": "markdown",
   "metadata": {},
   "source": [
    "**Figure 15 |** Same as Fig. 11, but for the boosted EoR spectrum."
   ]
  },
  {
   "cell_type": "code",
   "execution_count": null,
   "metadata": {
    "scrolled": false
   },
   "outputs": [],
   "source": [
    "# create a figure and axes objects\n",
    "fig = plt.figure(figsize=(15,35))\n",
    "axes = fig.subplots(6)\n",
    "\n",
    "# setup stuff\n",
    "for j in range(6):\n",
    "    ax = axes[j]\n",
    "    ax.set_xlim(0.4, k_paras[j].max())\n",
    "    ax.set_ylim(10**2.75, 10**6.5)\n",
    "    ax.grid(b=True, which=\"major\", axis=\"y\")\n",
    "    ax.grid(b=True, which=\"both\", axis=\"x\")\n",
    "    fmin, fmax = spw_edges[j]\n",
    "    ax.set_title(\"A Collection of Spectra, All Baseline Pairs\\n\" + \\\n",
    "                  \"Spectral Window: {:4.1f} MHz to {:4.1f} MHz\".format(fmin/1e6, fmax/1e6),\n",
    "                  fontsize=12)\n",
    "    ax.set_xlabel(r\"$k_\\parallel$ [$h$ Mpc$^{-1}$]\", fontsize=12)\n",
    "    #ax.set_xlabel(\"Delay [ns]\", fontsize=12)\n",
    "    ax.set_ylabel(r\"Power [mK$^2$ $h^{-3}$ Mpc$^3$]\", fontsize=12)\n",
    "    \n",
    "# plot all the (\"measured\") things    \n",
    "for spec_dict, label, color, alpha, ls, lw in plot_iterator():\n",
    "    for spw, kparas in enumerate(k_paras):\n",
    "        ax = axes[spw]\n",
    "        spec_by_spw = spec_dict[spw]\n",
    "        bl_avg = []\n",
    "        for blp, spec in spec_by_spw.items():\n",
    "            bl_avg.append(spec.mean(axis=0))\n",
    "        bl_avg = np.array(bl_avg).mean(axis=0)\n",
    "        ax.loglog(kparas, np.abs(bl_avg), lw=lw, ls=ls, color=color, alpha=alpha, label=label)\n",
    "        \n",
    "# now plot the expected power spectra\n",
    "for spw, kparas in enumerate(k_paras):\n",
    "    ax = axes[spw]\n",
    "    ax.loglog(kparas, aliased_spectra[spw], color='k', lw=4, ls='--', alpha=0.3, label=\"expected\")\n",
    "    ax.legend(ncol=2)\n",
    "plt.tight_layout()\n",
    "plt.show()\n",
    "save_path = os.path.join(plot_path, \"full_day_with_aliased_expectation_freq_dep_eor.pdf\")\n",
    "fig.savefig(save_path)\n",
    "fig.savefig(save_path.replace(\".pdf\", \".png\"))"
   ]
  },
  {
   "cell_type": "markdown",
   "metadata": {},
   "source": [
    "**Figure 16 |** Same as Fig. 12, but for the boosted EoR spectrum."
   ]
  },
  {
   "cell_type": "code",
   "execution_count": null,
   "metadata": {},
   "outputs": [],
   "source": [
    "# calculate the average of the true spectrum\n",
    "true_spec_bl_avg = {}\n",
    "for spw, spec_dict in true_spectra.items():\n",
    "    bl_avg = []\n",
    "    for spec in spec_dict.values():\n",
    "        bl_avg.append(spec.mean(axis=0))\n",
    "    true_spec_bl_avg[spw] = np.asarray(bl_avg).mean(axis=0)"
   ]
  },
  {
   "cell_type": "code",
   "execution_count": null,
   "metadata": {
    "scrolled": false
   },
   "outputs": [],
   "source": [
    "# create a figure and axes objects\n",
    "fig = plt.figure(figsize=(15,35))\n",
    "axes = fig.subplots(6)\n",
    "\n",
    "# setup stuff\n",
    "for j in range(6):\n",
    "    ax = axes[j]\n",
    "    #ax.set_xlim(0.4, k_paras[j].max())\n",
    "    ax.set_ylim(-0.1, 0.1)\n",
    "    ax.grid(b=True, which=\"major\", axis=\"y\")\n",
    "    ax.grid(b=True, which=\"both\", axis=\"x\")\n",
    "    fmin, fmax = spw_edges[j]\n",
    "    ax.set_title(\"A Collection of Spectra, All Baseline Pairs\\n\" + \\\n",
    "                  \"Spectral Window: {:4.1f} MHz to {:4.1f} MHz\".format(fmin/1e6, fmax/1e6),\n",
    "                  fontsize=12)\n",
    "    ax.set_xlabel(r\"$k_\\parallel$ [$h$ Mpc$^{-1}$]\", fontsize=12)\n",
    "    ax.set_ylabel(\"Fractional Error\", fontsize=12)\n",
    "    \n",
    "# plot all the (\"measured\") things    \n",
    "for spec_dict, label, color, alpha, ls, lw in plot_iterator():\n",
    "    if label in (\"fg\", \"true\", \"eor\",):\n",
    "        continue\n",
    "    for spw, kparas in enumerate(k_paras):\n",
    "        ax = axes[spw]\n",
    "        spec_by_spw = spec_dict[spw]\n",
    "        bl_avg = []\n",
    "        for blp, spec in spec_by_spw.items():\n",
    "            #ax.loglog(kparas, np.abs(spec.mean(axis=0)), marker='o', ms=2, color=color, alpha=0.3, lw=0)\n",
    "            #ax.semilogy(dlys[spw], np.abs(spec.mean(axis=0)), marker='o', ms=2, color=color, alpha=0.3, lw=0)\n",
    "            bl_avg.append(spec.mean(axis=0))\n",
    "        bl_avg = np.asarray(bl_avg).mean(axis=0)\n",
    "        fractional_error = (np.real(bl_avg) - np.real(true_spec_bl_avg[spw]))\n",
    "        fractional_error /= np.real(true_spec_bl_avg[spw])\n",
    "        ax.plot(kparas, fractional_error, lw=lw, ls=ls, color=color, alpha=alpha, label=label)\n",
    "        ax.legend(ncol=2)\n",
    "\n",
    "plt.tight_layout()\n",
    "plt.show()\n",
    "save_path = os.path.join(plot_path, \"full_day_residuals_freq_dep_eor.pdf\")\n",
    "fig.savefig(save_path)\n",
    "fig.savefig(save_path.replace(\".pdf\", \".png\"))"
   ]
  },
  {
   "cell_type": "markdown",
   "metadata": {},
   "source": [
    "**Figure 17 |** Plot of the fractional residuals of power spectra, measured relative to the true (perfectly calibrated) power spectrum estimate."
   ]
  },
  {
   "cell_type": "code",
   "execution_count": null,
   "metadata": {},
   "outputs": [],
   "source": [
    "# include some sort of summary statistics: mean fractional difference over entire spw;\n",
    "# mean fractional diff over spw with k > 0.5; etc"
   ]
  },
  {
   "cell_type": "code",
   "execution_count": null,
   "metadata": {},
   "outputs": [],
   "source": [
    "del spectra, simple_cal_spectra, abs_cal_spectra, smooth_abs_cal_spectra\n",
    "del omni_cal_spectra, uncal_spectra, true_spectra, eor_spectra, fg_spectra"
   ]
  },
  {
   "cell_type": "code",
   "execution_count": null,
   "metadata": {},
   "outputs": [],
   "source": []
  }
 ],
 "metadata": {
  "kernelspec": {
   "display_name": "Python 3",
   "language": "python",
   "name": "python3"
  },
  "language_info": {
   "codemirror_mode": {
    "name": "ipython",
    "version": 3
   },
   "file_extension": ".py",
   "mimetype": "text/x-python",
   "name": "python",
   "nbconvert_exporter": "python",
   "pygments_lexer": "ipython3",
   "version": "3.7.6"
  },
  "toc": {
   "base_numbering": 1,
   "nav_menu": {},
   "number_sections": true,
   "sideBar": true,
   "skip_h1_title": false,
   "title_cell": "Table of Contents",
   "title_sidebar": "Contents",
   "toc_cell": false,
   "toc_position": {},
   "toc_section_display": true,
   "toc_window_display": false
  }
 },
 "nbformat": 4,
 "nbformat_minor": 2
}
