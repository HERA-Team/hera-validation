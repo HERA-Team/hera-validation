{
 "cells": [
  {
   "cell_type": "markdown",
   "metadata": {},
   "source": [
    "# Testing `hera_pspec` with EoR and Diffuse and Point-Source Foregrounds\n",
    "\n",
    "Jovanni Castaneda, Steven Murray, Bobby Pascua, Zachary Martinot, and the HERA Validation Team"
   ]
  },
  {
   "cell_type": "markdown",
   "metadata": {},
   "source": [
    "## Setup and Metadata"
   ]
  },
  {
   "cell_type": "markdown",
   "metadata": {},
   "source": [
    "### Abstract"
   ]
  },
  {
   "cell_type": "markdown",
   "metadata": {},
   "source": [
    "We simulate ideal observations of a sky with a $1/k^2$ EoR power spectrum, a point-source foreground model from GLEAM, and a diffuse foreground model from eGSM, with `RIMEz`. The EoR part of the sky is the same simulation as used in Step 0.2.0.\n",
    "\n",
    "We then run a fiducial `hera_pspec` pipeline over the simulation, ensuring that outside the wedge region the power spectrum is unbiased as compared to the known analytic input to the level of 1%. "
   ]
  },
  {
   "cell_type": "markdown",
   "metadata": {},
   "source": [
    "### Imports"
   ]
  },
  {
   "cell_type": "code",
   "execution_count": 1,
   "metadata": {},
   "outputs": [],
   "source": [
    "%matplotlib inline\n",
    "import matplotlib.pyplot as plt\n",
    "import numpy as np\n",
    "from datetime import datetime\n",
    "import os\n",
    "import copy\n",
    "import glob\n",
    "import sys\n",
    "import pathlib\n",
    "from collections import defaultdict\n",
    "\n",
    "import astropy\n",
    "import astropy.units as units\n",
    "import h5py\n",
    "\n",
    "import hera_cal\n",
    "import hera_pspec\n",
    "import pyuvdata\n",
    "import uvtools\n",
    "\n",
    "from pyuvdata import UVData, UVBeam\n",
    "from hera_cal import io\n",
    "from hera_pspec.data import DATA_PATH as PSPEC_DATA_PATH\n",
    "\n",
    "sys.path.append(\"../../\")\n",
    "import template_tools"
   ]
  },
  {
   "cell_type": "markdown",
   "metadata": {},
   "source": [
    "### Description"
   ]
  },
  {
   "cell_type": "code",
   "execution_count": 2,
   "metadata": {
    "variables": {
     "str(datetime.now())": "2020-01-14 19:00:07.557491"
    }
   },
   "outputs": [
    {
     "name": "stdout",
     "output_type": "stream",
     "text": [
      "Last executed: 2020-05-14 10:45:56.033278\n"
     ]
    }
   ],
   "source": [
    "print(f'Last executed: {str(datetime.now())}')"
   ]
  },
  {
   "cell_type": "markdown",
   "metadata": {},
   "source": [
    "### Summary"
   ]
  },
  {
   "cell_type": "markdown",
   "metadata": {},
   "source": [
    "- **Major Step Description:** Simulate visibilities of diffuse and point-source foregrounds and $1/k^2$ EoR power spectrum. Extract power spectrum estimates with `hera_pspec`.\n",
    "- **Minor Variation Description:** Use GLEAM and eGSM to provide foregrounds, simulated by `RIMEz`.\n",
    "- **Pipelines Tested:** `pspec`\n",
    "- **Criteria**:\n",
    "  1. Residuals to known analytic input EoR PS within 1% after incoherent averaging over 8 hours, outside wedge. \n",
    "  2. Residuals of EoR+FG, where EoR dominates, should match EoR-only (even with random fluctuations), proving that FG have no broad effect outside their regime."
   ]
  },
  {
   "cell_type": "markdown",
   "metadata": {},
   "source": [
    "### Software"
   ]
  },
  {
   "cell_type": "code",
   "execution_count": 3,
   "metadata": {},
   "outputs": [
    {
     "name": "stdout",
     "output_type": "stream",
     "text": [
      "Module pyuvdata   ....\tVersion 1.5.0  .......\tGit \n",
      "Module hera_stats ....\tVersion 1.5.0  .......\tGit \n"
     ]
    },
    {
     "name": "stderr",
     "output_type": "stream",
     "text": [
      "/users/smurray/miniconda3/envs/validation/lib/python3.7/site-packages/hera_sim/visibilities/__init__.py:22: UserWarning: HealVis failed to import.\n",
      "  warnings.warn(\"HealVis failed to import.\")\n",
      "/users/smurray/miniconda3/envs/validation/lib/python3.7/site-packages/hera_sim/visibilities/__init__.py:27: UserWarning: PRISim failed to import.\n",
      "  warnings.warn(\"PRISim failed to import.\")\n",
      "/users/smurray/miniconda3/envs/validation/lib/python3.7/site-packages/hera_sim/visibilities/__init__.py:33: UserWarning: VisGPU failed to import.\n",
      "  warnings.warn(\"VisGPU failed to import.\")\n",
      "/users/smurray/miniconda3/envs/validation/lib/python3.7/site-packages/hera_sim/__init__.py:36: FutureWarning: \n",
      "In the next major release, all HERA-specific variables will be removed from the codebase. The following variables will need to be accessed through new class-like structures to be introduced in the next major release: \n",
      "\n",
      "noise.HERA_Tsky_mdl\n",
      "noise.HERA_BEAM_POLY\n",
      "sigchain.HERA_NRAO_BANDPASS\n",
      "rfi.HERA_RFI_STATIONS\n",
      "\n",
      "Additionally, the next major release will involve modifications to the package's API, which move toward a regularization of the way in which hera_sim methods are interfaced with; in particular, changes will be made such that the Simulator class is the most intuitive way of interfacing with the hera_sim package features.\n",
      "  FutureWarning)\n"
     ]
    },
    {
     "name": "stdout",
     "output_type": "stream",
     "text": [
      "Module hera_sim   ....\tVersion 0.3.0  .......\tGit b\"b'3c7818556a8c84049d6c153a01c58deed317e831'\"\n",
      "Module hera_qm    ....\tVersion 1.0    .......\tGit 393ee1add2bd582b1142f5f5a85ef33664383382\n",
      "Module hera_pspec ....\tVersion 0.2.0  .......\tGit dad85a51adb57501dc24081cd7ea9687cf512e7c\n",
      "Module linsolve   ....\tVersion 0.0.1  .......\tGit \n",
      "Module uvtools    ....\tVersion 0.1.0  .......\tGit c9fbb3f9fe5697b86f5f768a8593c660f4c3c6df\n",
      "Module numpy      ....\tVersion 1.18.1 .......\tGit None\n",
      "Module healpy     ....\tVersion 1.12.9 .......\tGit None\n",
      "Module h5py       ....\tVersion 2.9.0  .......\tGit None\n",
      "Module astropy    ....\tVersion 4.0    .......\tGit None\n",
      "Module hera_cal   ....\tVersion 3.0    .......\tGit 2da0354a83992ac2d0e365b7b5215c509c4d2464\n"
     ]
    }
   ],
   "source": [
    "template_tools.print_dep_versions(extras=['astropy', 'hera_cal'], ignore=['healvis'])"
   ]
  },
  {
   "cell_type": "markdown",
   "metadata": {},
   "source": [
    "### Data"
   ]
  },
  {
   "cell_type": "markdown",
   "metadata": {},
   "source": [
    "The following paths reflect the exact locations of all data used in this test:"
   ]
  },
  {
   "cell_type": "code",
   "execution_count": 26,
   "metadata": {},
   "outputs": [],
   "source": [
    "# Root directory where all the simulated data lives\n",
    "root_path = pathlib.Path(\"/lustre/aoc/projects/hera/Validation/\")\n",
    "data_path = root_path / 'test-1.2.0'\n",
    "\n",
    "# data_prefix = \"hera_hex37_100-200MHz_HERA_dipole_\"\n",
    "vis_path = data_path / \"visibilities\"\n",
    "spec_path = data_path / \"spectra\"\n",
    "plot_path = data_path / \"plots\"\n",
    "\n",
    "# Path to beam normalization data\n",
    "omegas_data_path = root_path / 'HERA_dipole_Omegas/HERA_dipole_Omegas.h5'\n",
    "assert omegas_data_path.exists()"
   ]
  },
  {
   "cell_type": "markdown",
   "metadata": {},
   "source": [
    "The following paths point to the original simulation files used to create the data for this notebook, but are never read directly here."
   ]
  },
  {
   "cell_type": "code",
   "execution_count": 27,
   "metadata": {},
   "outputs": [
    {
     "name": "stdout",
     "output_type": "stream",
     "text": [
      "Base EOR Simulation:  /lustre/aoc/projects/hera/Validation/hera_hex37_100-200MHz_HERA_dipole_beam_pow_neg2_pspec/realization_0.uvh5\n",
      "Base GLEAM Simulation:  /lustre/aoc/projects/hera/Validation/hera_hex37_100-200MHz_HERA_dipole_full_gleam_plus_brights_v01/hera_hex37_full_gleam_plus_brights_v01.uvh5\n"
     ]
    }
   ],
   "source": [
    "data_prefix = 'hera_hex37_100-200MHz_HERA_dipole_'\n",
    "\n",
    "eor_path = os.path.join(root_path, data_prefix + 'beam_pow_neg2_pspec/realization_0.uvh5')\n",
    "gleam_path = os.path.join(root_path, data_prefix + 'full_gleam_plus_brights_v01/' +\n",
    "                          'hera_hex37_full_gleam_plus_brights_v01.uvh5')\n",
    "\n",
    "print(\"Base EOR Simulation: \", eor_path)\n",
    "print(\"Base GLEAM Simulation: \", gleam_path)"
   ]
  },
  {
   "cell_type": "markdown",
   "metadata": {},
   "source": [
    "## Extra Utility Functions"
   ]
  },
  {
   "cell_type": "code",
   "execution_count": 6,
   "metadata": {},
   "outputs": [],
   "source": [
    "def astropyPlanck15_for_hera_pspec():\n",
    "    H0 = 67.74\n",
    "    h = H0/100.\n",
    "\n",
    "    Om_b = 0.02230/h**2.\n",
    "    Om_c = 0.1188/h**2.\n",
    "    Om_L = 0.6911\n",
    "    Om_k = 1. - (Om_b + Om_c + Om_L)\n",
    "\n",
    "    hps_cosmo = hera_pspec.conversions.Cosmo_Conversions(Om_L=Om_L,\n",
    "                                                         Om_b=Om_b,\n",
    "                                                         Om_c=Om_c,\n",
    "                                                         H0=H0,)\n",
    "    return hps_cosmo"
   ]
  },
  {
   "cell_type": "code",
   "execution_count": 7,
   "metadata": {},
   "outputs": [],
   "source": [
    "# get a Vokes-I uvdata object from the input uvh5 file\n",
    "def get_VI_data(vis_data_path, flag_nchan_low=50, flag_nchan_high=50):\n",
    "    # choose only data that hasn't been flagged, assuming 1024 frequency channels\n",
    "    chans = np.arange(1024)[flag_nchan_low:-flag_nchan_high]\n",
    "    \n",
    "    uvd = UVData()\n",
    "    uvd.read_uvh5(vis_data_path, freq_chans=chans, keep_all_metadata=False)\n",
    "    \n",
    "    # one of these days...\n",
    "    xx_integer = pyuvdata.utils.polstr2num('xx')\n",
    "    yy_integer = pyuvdata.utils.polstr2num('yy')\n",
    "    \n",
    "    xx_ind = np.argwhere(uvd.polarization_array == xx_integer)[0][0]\n",
    "    yy_ind = np.argwhere(uvd.polarization_array == yy_integer)[0][0]\n",
    "    \n",
    "    VI_data = uvd.data_array[:,:,:,xx_ind] + uvd.data_array[:,:,:,yy_ind]\n",
    "    \n",
    "    uvd.select(polarizations=(-5))\n",
    "    uvd.polarization_array[0] = 1\n",
    "    uvd.data_array = VI_data.reshape(VI_data.shape + (1,))\n",
    "    \n",
    "    return uvd"
   ]
  },
  {
   "cell_type": "code",
   "execution_count": 8,
   "metadata": {},
   "outputs": [],
   "source": [
    "def plot_spectra(uvp_avgs, labels, blps, spws=[0], polpair=('pI', 'pI'),\n",
    "                 fig=None, ax=None, linestyles=None, linewidths=None,\n",
    "                 colors=None, alpha=0.5, figsize=(10, 7)):\n",
    "    \n",
    "    # Expects a list of averaged uvps and the label/name of each\n",
    "    assert len(uvp_avgs) == len(labels)\n",
    "    \n",
    "    # Set up defaults for plotting\n",
    "    if linestyles is None:\n",
    "        linestyles = ['-'] * len(uvp_avgs)\n",
    "    if linewidths is None:\n",
    "        linewidths = [3.5] * len(uvp_avgs)\n",
    "    if colors is None:\n",
    "        colors = ['k'] * len(uvp_avgs)\n",
    "    \n",
    "    ax_arg = True\n",
    "    if ax is None:\n",
    "        fig, ax = plt.subplots(len(blps), len(spws), sharex='col', sharey='row', figsize=figsize)\n",
    "        ax_arg = False\n",
    "        \n",
    "    for i in range(len(blps)):\n",
    "        for j in range(len(spws)):\n",
    "            key = (spws[j], blps[i], polpair)\n",
    "            freq_range = uvp_avgs[0].get_spw_ranges(spws[j])[0][:2]\n",
    "            \n",
    "            k_paras = uvp_avgs[0].get_kparas(spws[j])\n",
    "            analytic_spectrum = get_analytic_spectrum(uvp_avgs[0], spws[j])            \n",
    "                                   \n",
    "            # Set up for plotting\n",
    "            # Deal with cases when there is only one subplot, one spw, or one baseline pair\n",
    "            # First make sure that if there was an axis passed, we use it\n",
    "            if ax_arg:\n",
    "                ax_plot = ax\n",
    "            # Otherwise, deal with the cases of only having one subplot, one row, and/or one column\n",
    "            else:\n",
    "                if len(fig.get_axes()) == 1:\n",
    "                    ax_plot = ax\n",
    "                elif len(blps) == 1:\n",
    "                    ax_plot = ax[j]\n",
    "                elif len(spws) == 1:\n",
    "                    ax_plot = ax[i]\n",
    "                else:\n",
    "                    ax_plot = ax[i, j]\n",
    "            \n",
    "            # Actually plot the spectra\n",
    "            ax_plot.loglog(k_paras, np.abs(analytic_spectrum), ls=':', lw=2, color='#3F3F3F',\n",
    "                           alpha=0.75, label='Analytic EoR')\n",
    "            for k in range(len(uvp_avgs)):\n",
    "                uvp_plot = uvp_avgs[k].get_data(key)\n",
    "                ax_plot.loglog(k_paras, np.abs(uvp_plot[0]), ls=linestyles[k], lw=linewidths[k],\n",
    "                               color=colors[k], alpha=alpha, label=labels[k])\n",
    "\n",
    "            ax_plot.set_xlabel(r'$k_\\parallel$ [$h$ Mpc$^{-1}$]', fontsize=16)\n",
    "            ax_plot.set_ylabel(r'Power [mK$^2$ $h^{-3}$ Mpc$^3$]', fontsize=16)\n",
    "            ax_plot.set_title('spw: {:0.0f} - {:0.0f} MHz; '.format(freq_range[0] / 1e6, freq_range[1] / 1e6) +\n",
    "                              'blp: {}; pol: {}'.format(key[1], key[2]), fontsize=14)\n",
    "            ax_plot.legend(fontsize=12)"
   ]
  },
  {
   "cell_type": "code",
   "execution_count": 9,
   "metadata": {},
   "outputs": [],
   "source": [
    "def get_pspec(pspec_file):\n",
    "    psc = hera_pspec.container.PSpecContainer(pspec_file, keep_open=False)\n",
    "    uvp = psc.get_pspec(psc.groups()[0])[0]\n",
    "    return uvp"
   ]
  },
  {
   "cell_type": "code",
   "execution_count": 10,
   "metadata": {},
   "outputs": [],
   "source": [
    "def get_k_nyquist(uvp, spw=0):\n",
    "    keys = uvp.get_all_keys()\n",
    "    dly = uvp.get_dlys(spw)\n",
    "    \n",
    "    if dly.size % 2 == 0:\n",
    "        tau_nyquist = np.amax(dly)\n",
    "    else:\n",
    "        ddly = np.diff(dly)[0]\n",
    "        tau_nyquist = np.amax(dly) + ddly/2.\n",
    "\n",
    "    spw_freqs = uvp.freq_array[uvp.spw_freq_array == spw]\n",
    "    z_mean = uvp.cosmo.f2z(np.mean(spw_freqs))\n",
    "\n",
    "    return np.amax(tau_nyquist)*uvp.cosmo.tau_to_kpara(z_mean, little_h=True)\n",
    "\n",
    "def aliased_power_spectrum(k, k_nyquist, z, freq_dep=False):\n",
    "    A0 = 1e1 * (1./0.2)**-2.\n",
    "    Pk = 1e6 * A0 * (np.pi)**2. * 1./(2. * k_nyquist * np.sin(np.pi*k /(2*k_nyquist)))**2\n",
    "    \n",
    "    if freq_dep:\n",
    "        # assume we're working with the power spectrum w/ frequency-scaled amplitude\n",
    "        # so follow the steps in the 0.2.0 notebook\n",
    "        \n",
    "        # frequency of HI line at the source\n",
    "        f21_emit = 1420.4057517667 # MHz\n",
    "        \n",
    "        # redshifted 21-cm line\n",
    "        f21_obs = f21_emit/(1 + z)\n",
    "        \n",
    "        # scale the power spectrum by an overall factor of 100 at 100 MHz\n",
    "        # also put in the freq scaling\n",
    "        Pk *= 100 * (100 / f21_obs)**6\n",
    "        \n",
    "    return Pk * cosmo.h / (1 + z)**2\n",
    "\n",
    "def get_analytic_spectrum(uvp, spw, freq_dep=False):\n",
    "    # Get redshift of band center for scaling the aliased spectrum\n",
    "    freq_range = uvp.get_spw_ranges(spw)[0][:2]\n",
    "    center = (freq_range[0] + freq_range[1]) / 2\n",
    "    z = 1420405751.7667 / center - 1\n",
    "    k_paras = uvp.get_kparas(spw)\n",
    "    k_nyquist = get_k_nyquist(uvp, spw=spw)\n",
    "    \n",
    "    return aliased_power_spectrum(k_paras, k_nyquist, z, freq_dep)"
   ]
  },
  {
   "cell_type": "markdown",
   "metadata": {},
   "source": [
    "## Single File Test"
   ]
  },
  {
   "cell_type": "markdown",
   "metadata": {},
   "source": [
    "Initially, we want to test the pipeline on a small amount of data to get the feel for what is happening and to make sure the pipeline works. To do this, we run the script referenced below on the full simulations, splitting up the visibilities into smaller chunks of time that can be read in separately. We use the first such chunk in this section. "
   ]
  },
  {
   "cell_type": "code",
   "execution_count": 28,
   "metadata": {},
   "outputs": [
    {
     "name": "stdout",
     "output_type": "stream",
     "text": [
      "Data created with /lustre/aoc/projects/hera/Validation/test-1.2.0/prepare_data.py\n"
     ]
    }
   ],
   "source": [
    "print(f\"Data created with {data_path / 'prepare_data.py'}\")"
   ]
  },
  {
   "cell_type": "markdown",
   "metadata": {},
   "source": [
    "### Data Reading"
   ]
  },
  {
   "cell_type": "code",
   "execution_count": 29,
   "metadata": {},
   "outputs": [
    {
     "name": "stdout",
     "output_type": "stream",
     "text": [
      "/lustre/aoc/projects/hera/Validation/test-1.2.0/visibilities/zen.2451545.16100.RR.eor.uvh5\n",
      "/lustre/aoc/projects/hera/Validation/test-1.2.0/visibilities/zen.2451545.16100.RR.foregrounds.uvh5\n",
      "/lustre/aoc/projects/hera/Validation/test-1.2.0/visibilities/zen.2451545.16100.RR.true.uvh5\n"
     ]
    }
   ],
   "source": [
    "single_eor_path = pathlib.Path(sorted(glob.glob(str(vis_path / 'zen.*.RR.eor.uvh5')))[0])\n",
    "single_fg_path = pathlib.Path(str(single_eor_path).replace(\"eor\", \"foregrounds\"))\n",
    "single_sum_path = pathlib.Path(str(single_eor_path).replace(\"eor\", \"true\"))\n",
    "print(single_eor_path)\n",
    "print(single_fg_path)\n",
    "print(single_sum_path)"
   ]
  },
  {
   "cell_type": "markdown",
   "metadata": {},
   "source": [
    "Now let's read in the data as `hera_cal.HERAData` objects: "
   ]
  },
  {
   "cell_type": "code",
   "execution_count": 30,
   "metadata": {},
   "outputs": [],
   "source": [
    "data_single = {label: {} for label in ['eor', 'fg', 'sum']}\n",
    "vis_single_files = [single_eor_path, single_fg_path, single_sum_path]\n",
    "\n",
    "for label, pth in zip(data_single.keys(), vis_single_files):    \n",
    "    data_single[label]['vis'] = io.HERAData(str(pth))\n",
    "    data_single[label]['vis'].read(return_data=False)"
   ]
  },
  {
   "cell_type": "code",
   "execution_count": 31,
   "metadata": {},
   "outputs": [],
   "source": [
    "times = np.unique(data_single['eor']['vis'].time_array)\n",
    "lsts = np.unique(data_single['eor']['vis'].lst_array)\n",
    "freqs = np.unique(data_single['eor']['vis'].freq_array)"
   ]
  },
  {
   "cell_type": "markdown",
   "metadata": {},
   "source": [
    "### Power Spectra"
   ]
  },
  {
   "cell_type": "markdown",
   "metadata": {},
   "source": [
    "In this section, we inspect the power spectrum estimates for the \"single file\" set of data."
   ]
  },
  {
   "cell_type": "code",
   "execution_count": 32,
   "metadata": {},
   "outputs": [],
   "source": [
    "# define the cosmology\n",
    "cosmo = astropyPlanck15_for_hera_pspec()\n",
    "\n",
    "# choose only the unflagged frequencies (all should be unflagged since we did nothing with hera_cal, xrfi, etc.)\n",
    "freq_slice = slice(None)\n",
    "\n",
    "# load beam-dependent normalization data\n",
    "with h5py.File(omegas_data_path, 'r') as h5f:\n",
    "    Omega = h5f['Omega'][()][freq_slice]\n",
    "    Omegapp = h5f['Omegapp'][()][freq_slice]\n",
    "\n",
    "beam = hera_pspec.pspecbeam.PSpecBeamFromArray(Omega, Omegapp, freqs[freq_slice], cosmo=cosmo)\n",
    "\n",
    "# wrapper for pspec_run\n",
    "def calc_pspec(vis_file, outfile, spw_ranges=None, blpairs=None):\n",
    "    uvdI = get_VI_data(str(vis_file))\n",
    "    hera_pspec.pspecdata.pspec_run(\n",
    "        [uvdI], str(outfile), dset_pairs=[(0, 0)], file_type=\"uvh5\",\n",
    "        taper=\"blackman-harris\", beam=beam, cosmo=cosmo,\n",
    "        spw_ranges=spw_ranges, blpairs=blpairs, pol_pairs=[('pI','pI')],\n",
    "        Jy2mK=True, exclude_cross_bls=True, \n",
    "        overwrite=True, verbose=True\n",
    "    )"
   ]
  },
  {
   "cell_type": "code",
   "execution_count": 33,
   "metadata": {},
   "outputs": [],
   "source": [
    "spec_single_files = [str(v).replace(\".uvh5\", \".psc\") for v in vis_single_files]\n",
    "\n",
    "spws = [(400, 600)]\n",
    "blps = [((32, 0), (32, 0))]"
   ]
  },
  {
   "cell_type": "code",
   "execution_count": 34,
   "metadata": {},
   "outputs": [
    {
     "name": "stdout",
     "output_type": "stream",
     "text": [
      "Extracting spectrum from zen.2451545.16100.RR.eor.uvh5\n",
      "Opening /lustre/aoc/projects/hera/Validation/test-1.2.0/visibilities/zen.2451545.16100.RR.eor.psc in transactional mode\n",
      "\n",
      "Setting spectral range: (400, 600)\n",
      "\n",
      "Using polarization pair: ('pI', 'pI')\n",
      "\n",
      "(bl1, bl2) pair: ((32, 0), (32, 0))\n",
      "pol: (1, 1)\n",
      "  Building G...\n",
      "  Building q_hat...\n",
      "  Normalizing power spectrum...\n",
      "  Computing and multiplying scalar...\n",
      "Storing dset0_x_dset0\n",
      "Extracting spectrum from zen.2451545.16100.RR.foregrounds.uvh5\n",
      "Opening /lustre/aoc/projects/hera/Validation/test-1.2.0/visibilities/zen.2451545.16100.RR.foregrounds.psc in transactional mode\n",
      "\n",
      "Setting spectral range: (400, 600)\n",
      "\n",
      "Using polarization pair: ('pI', 'pI')\n",
      "\n",
      "(bl1, bl2) pair: ((32, 0), (32, 0))\n",
      "pol: (1, 1)\n",
      "  Building G...\n",
      "  Building q_hat...\n",
      "  Normalizing power spectrum...\n",
      "  Computing and multiplying scalar...\n",
      "Storing dset0_x_dset0\n",
      "Extracting spectrum from zen.2451545.16100.RR.true.uvh5\n",
      "Opening /lustre/aoc/projects/hera/Validation/test-1.2.0/visibilities/zen.2451545.16100.RR.true.psc in transactional mode\n",
      "\n",
      "Setting spectral range: (400, 600)\n",
      "\n",
      "Using polarization pair: ('pI', 'pI')\n",
      "\n",
      "(bl1, bl2) pair: ((32, 0), (32, 0))\n",
      "pol: (1, 1)\n",
      "  Building G...\n",
      "  Building q_hat...\n",
      "  Normalizing power spectrum...\n",
      "  Computing and multiplying scalar...\n",
      "Storing dset0_x_dset0\n",
      "CPU times: user 52.3 s, sys: 1.04 s, total: 53.4 s\n",
      "Wall time: 53.5 s\n"
     ]
    }
   ],
   "source": [
    "%%time\n",
    "for vis_file, pspec_file in zip(vis_single_files, spec_single_files):\n",
    "    print(\"Extracting spectrum from {}\".format(vis_file.name))\n",
    "    calc_pspec(vis_file, pspec_file, spws, blps)"
   ]
  },
  {
   "cell_type": "code",
   "execution_count": 35,
   "metadata": {},
   "outputs": [],
   "source": [
    "# Now read in the power spectra from the files we just made, and average them over time.\n",
    "for fl, key in zip(spec_single_files, data_single.keys()):\n",
    "    data_single[key]['ps'] = get_pspec(str(fl))\n",
    "    blpair_group = [[blp] for blp in np.unique(data_single[key]['ps'].blpair_array)]\n",
    "    data_single[key]['avg'] = data_single[key]['ps'].average_spectra(\n",
    "        blpair_groups=blpair_group, time_avg=True, inplace=False\n",
    "    )\n",
    "    data_single[key]['avg'].fold_spectra()"
   ]
  },
  {
   "cell_type": "code",
   "execution_count": 36,
   "metadata": {},
   "outputs": [
    {
     "data": {
      "image/png": "[encoded data removed]",
      "text/plain": [
       "<Figure size 648x432 with 1 Axes>"
      ]
     },
     "metadata": {
      "needs_background": "light"
     },
     "output_type": "display_data"
    }
   ],
   "source": [
    "labels = list(data_single.keys())\n",
    "colors = ['#DA4E3B', '#3D5789', '#270B52']\n",
    "linewidths, linestyles = [3, 3, 3], ['--', '-.', '-']\n",
    "uvp_avgs = [val['avg'] for val in data_single.values()]\n",
    "plot_spectra(\n",
    "    uvp_avgs, labels, \n",
    "    blps, \n",
    "    colors=colors, \n",
    "    linestyles=linestyles,         \n",
    "    linewidths=linewidths, \n",
    "    alpha=0.8, \n",
    "    figsize=(9, 6)\n",
    ")\n",
    "\n",
    "fig = plt.gcf()\n",
    "ax = fig.get_axes()\n",
    "fig.subplots_adjust(hspace=0.2)\n",
    "ax[0].legend(loc='upper right', fontsize=14, handlelength=3.25);\n",
    "\n"
   ]
  },
  {
   "cell_type": "markdown",
   "metadata": {},
   "source": [
    "**Figure 1** | Power spectrum estimates from various visibility data sets for a \"single file\" worth of data (66 integrations). The EoR dominates the foregrounds above about k∼0.5Mpc/h. "
   ]
  },
  {
   "cell_type": "markdown",
   "metadata": {},
   "source": [
    "## Full Day Results"
   ]
  },
  {
   "cell_type": "markdown",
   "metadata": {},
   "source": [
    "In this section, we examine the resulting power spectra from performing the above analysis on a data set spanning 8 hours. Python scripts for all of the data preparation and analysis can be found in the data_path as defined above (see the scripts with _multiprocessing in their names for power spectrum retrieval; see the preparation scripts in the master_data subdirectory to see how the raw simulation files were modified to work with a modified version of the pipeline's makeflow; see the scripts in the makeflow subdirectory to see how the makeflow for this test was configured). A brief summary of the test steps is as follows:\n",
    "\n",
    "Visibilities were simulated for 24 hours over the full HERA H1C bandwidth (100 MHz - 200 MHz) over 1024 frequency channels with a uniform integration time of 10.7 seconds. Two sets of visibilities were simulated: one component is for point-source foregrounds, simulated using the GLEAM diffuse sky model; the other component is for the EoR signal, with a power spectrum amplitude that goes like $P(k)=A_0 k^{−2}$ each visibility component contains simulated observations for four polarizations (XX, XY, YX, YY). The simulations were carried out with the RIMEz simulation package, using the HERA dipole beam model. The individual visibility files were added together to form the \"true\" sky model, but only the first eight hours of the simulated data were used for this test. Finally, note that the visibility simulations are noiseless and perfectly calibrated.\n",
    "\n",
    "In detail, the point-source foreground sky model was sourced from http://vizier.u-strasbg.fr/viz-bin/VizieR-3?-source=VIII/100/gleamegc, *as well as* the set of peeled sources described in Table 2 of https://arxiv.org/abs/1610.08318.  Only sources for which the GLEAM catalog provides a spectral model were included. Each source is modelled with a power-law spectrum with the spectral index obtained from the GLEAM catalog. More details on the GLEAM simulation can be obtained [here](http://reionization.org/wp-content/uploads/2020/04/HERA078_Calibration_vs__RIMEz.pdf).\n",
    "\n",
    "The power spectrum estimates were obtained using the ``pspec_run`` function in the hera_pspec.pspecdata module, exactly as defined in the \"Single-File Test\" section. This test used four spectral windows over the bandwidth 120-180 MHz and a Blackman-Harris taper for calculating the power spectrum estimates. We present the results on a per-spectral-window basis, showing both a scatter plot of power spectrum estimates on a per-baseline basis, as well as a line plot that has been averaged over all baselines. Each power spectrum presented has been incoherently averaged over the full eight hours. "
   ]
  },
  {
   "cell_type": "markdown",
   "metadata": {},
   "source": [
    "### Power Spectrum Results "
   ]
  },
  {
   "cell_type": "markdown",
   "metadata": {},
   "source": [
    "In this section, we load and visualize the power spectrum estimations for every data set for the full eight hours investigated in this test. "
   ]
  },
  {
   "cell_type": "code",
   "execution_count": 37,
   "metadata": {},
   "outputs": [],
   "source": [
    "paths = {key: sorted(glob.glob(str(spec_path / f\"*.RR.{kind}.psc\"))) for key, kind in zip(['eor', 'fg', 'sum'], ['eor', 'foregrounds', 'true'])}"
   ]
  },
  {
   "cell_type": "markdown",
   "metadata": {},
   "source": [
    "Let's check how many power spectra we have on disk for each kind: "
   ]
  },
  {
   "cell_type": "code",
   "execution_count": 38,
   "metadata": {},
   "outputs": [
    {
     "name": "stdout",
     "output_type": "stream",
     "text": [
      "0\n",
      "0\n",
      "0\n"
     ]
    }
   ],
   "source": [
    "for path_list in paths.values():\n",
    "    print(len(path_list))"
   ]
  },
  {
   "cell_type": "markdown",
   "metadata": {},
   "source": [
    "Set up a dictionary to house the spectra for all spectral windows: "
   ]
  },
  {
   "cell_type": "code",
   "execution_count": 22,
   "metadata": {},
   "outputs": [],
   "source": [
    "spectra = {}"
   ]
  },
  {
   "cell_type": "code",
   "execution_count": 25,
   "metadata": {},
   "outputs": [
    {
     "name": "stdout",
     "output_type": "stream",
     "text": [
      "CPU times: user 11 µs, sys: 0 ns, total: 11 µs\n",
      "Wall time: 16 µs\n"
     ]
    }
   ],
   "source": [
    "%%time\n",
    "# incoherently average all the spectra\n",
    "# each spw has 154 channels, but we'll be folding the spectra\n",
    "\n",
    "for label, path in paths.items():\n",
    "    for pth in path:\n",
    "        \n",
    "        uvp = get_pspec(pth)\n",
    "        uvp.fold_spectra()\n",
    "        \n",
    "        if label not in spectra:\n",
    "            spectra[label] = {spw: defaultdict(list) for spw in uvp.spw_array}\n",
    "            \n",
    "        for key in uvp.get_all_keys():\n",
    "            spw = key[0]\n",
    "            blp = key[1]\n",
    "            spectra[label][spw][blp].append(uvp.get_data(key))"
   ]
  },
  {
   "cell_type": "code",
   "execution_count": 24,
   "metadata": {},
   "outputs": [
    {
     "ename": "NameError",
     "evalue": "name 'uvp' is not defined",
     "output_type": "error",
     "traceback": [
      "\u001b[0;31m---------------------------------------------------------------------------\u001b[0m",
      "\u001b[0;31mNameError\u001b[0m                                 Traceback (most recent call last)",
      "\u001b[0;32m<ipython-input-24-245dd0be6380>\u001b[0m in \u001b[0;36m<module>\u001b[0;34m\u001b[0m\n\u001b[0;32m----> 1\u001b[0;31m \u001b[0mspw_edges\u001b[0m \u001b[0;34m=\u001b[0m \u001b[0;34m[\u001b[0m\u001b[0;34m(\u001b[0m\u001b[0mspw\u001b[0m\u001b[0;34m[\u001b[0m\u001b[0;36m0\u001b[0m\u001b[0;34m]\u001b[0m\u001b[0;34m,\u001b[0m \u001b[0mspw\u001b[0m\u001b[0;34m[\u001b[0m\u001b[0;36m1\u001b[0m\u001b[0;34m]\u001b[0m\u001b[0;34m)\u001b[0m \u001b[0;32mfor\u001b[0m \u001b[0mspw\u001b[0m \u001b[0;32min\u001b[0m \u001b[0muvp\u001b[0m\u001b[0;34m.\u001b[0m\u001b[0mget_spw_ranges\u001b[0m\u001b[0;34m(\u001b[0m\u001b[0;34m)\u001b[0m\u001b[0;34m]\u001b[0m\u001b[0;34m\u001b[0m\u001b[0;34m\u001b[0m\u001b[0m\n\u001b[0m\u001b[1;32m      2\u001b[0m \u001b[0mk_paras\u001b[0m \u001b[0;34m=\u001b[0m \u001b[0;34m[\u001b[0m\u001b[0muvp\u001b[0m\u001b[0;34m.\u001b[0m\u001b[0mget_kparas\u001b[0m\u001b[0;34m(\u001b[0m\u001b[0mj\u001b[0m\u001b[0;34m)\u001b[0m \u001b[0;32mfor\u001b[0m \u001b[0mj\u001b[0m \u001b[0;32min\u001b[0m \u001b[0mrange\u001b[0m\u001b[0;34m(\u001b[0m\u001b[0mlen\u001b[0m\u001b[0;34m(\u001b[0m\u001b[0mspw_edges\u001b[0m\u001b[0;34m)\u001b[0m\u001b[0;34m)\u001b[0m\u001b[0;34m]\u001b[0m\u001b[0;34m\u001b[0m\u001b[0;34m\u001b[0m\u001b[0m\n\u001b[1;32m      3\u001b[0m \u001b[0mdlys\u001b[0m \u001b[0;34m=\u001b[0m \u001b[0;34m[\u001b[0m\u001b[0muvp\u001b[0m\u001b[0;34m.\u001b[0m\u001b[0mget_dlys\u001b[0m\u001b[0;34m(\u001b[0m\u001b[0mj\u001b[0m\u001b[0;34m)\u001b[0m \u001b[0;32mfor\u001b[0m \u001b[0mj\u001b[0m \u001b[0;32min\u001b[0m \u001b[0mrange\u001b[0m\u001b[0;34m(\u001b[0m\u001b[0mlen\u001b[0m\u001b[0;34m(\u001b[0m\u001b[0mspw_edges\u001b[0m\u001b[0;34m)\u001b[0m\u001b[0;34m)\u001b[0m\u001b[0;34m]\u001b[0m\u001b[0;34m\u001b[0m\u001b[0;34m\u001b[0m\u001b[0m\n",
      "\u001b[0;31mNameError\u001b[0m: name 'uvp' is not defined"
     ]
    }
   ],
   "source": [
    "spw_edges = [(spw[0], spw[1]) for spw in uvp.get_spw_ranges()]\n",
    "k_paras = [uvp.get_kparas(j) for j in range(len(spw_edges))]\n",
    "dlys = [uvp.get_dlys(j) for j in range(len(spw_edges))]"
   ]
  },
  {
   "cell_type": "code",
   "execution_count": null,
   "metadata": {},
   "outputs": [],
   "source": [
    "# the spectra dictionaries should have 6 spws, and each spw should have Nblp dictionaries\n",
    "# each dictionary spectra[spec_file][spw][blp] should have a list with length Nfiles\n",
    "# each entry in the list should have shape (66, 99) corredsponding to (Ntimes, Nkpara)\n",
    "\n",
    "spectra_avg = {}\n",
    "for label, spec_dict in spectra.items():\n",
    "    spectra_avg[label] = {}\n",
    "    \n",
    "    for spw, spec_by_spw in spec_dict.items():\n",
    "        spectra_avg[label][spw] = {}\n",
    "        \n",
    "        bl_avg = 0\n",
    "        for blp, spec in spec_by_spw.items():\n",
    "            # assert all(s.shape == (66, 99) for s in spec)\n",
    "\n",
    "            # Reshape the spectra so we can do an easier average.\n",
    "            # New arrays have the shape (Nfiles*Ntimes, Nkpara)\n",
    "            spec = np.array(spec)\n",
    "            spec_by_spw[blp] = spec.reshape((-1, spec.shape[-1]))\n",
    "            \n",
    "            spectra_avg[label][spw][blp] = np.mean(spec_by_spw[blp], axis=0)\n",
    "            bl_avg += spectra_avg[label][spw][blp]\n",
    "            \n",
    "        spectra_avg[label][spw]['average'] = bl_avg / len(spec_dict[0])"
   ]
  },
  {
   "cell_type": "code",
   "execution_count": null,
   "metadata": {},
   "outputs": [],
   "source": [
    "Nkinds = len(spectra)\n",
    "Nspws  = len(spectra['eor'])\n",
    "Nblps  = len(spectra['eor'][0])"
   ]
  },
  {
   "cell_type": "code",
   "execution_count": null,
   "metadata": {},
   "outputs": [],
   "source": [
    "# now get the expected power spectrum for each spectral window\n",
    "aliased_spectra = {spw: get_analytic_spectrum(uvp, spw) for spw in uvp.spw_array}"
   ]
  },
  {
   "cell_type": "code",
   "execution_count": null,
   "metadata": {},
   "outputs": [],
   "source": [
    "def plot_avg_spectra(spectra_avg, analytic, resid=False, xlim=None, ylim=None):\n",
    "    # for now, let's only plot the abscal, smoothed abscal, simple cal, and true power spectra\n",
    "    colors = ['#DA4E3B', '#3D5789', '#270B52']\n",
    "    alphas = (0.5, 0.6, 0.6)\n",
    "\n",
    "    linestyles = ('-', ':', '--', '-', '-', '-')\n",
    "    lws = (4, 4, 4, 6, 6, 6)\n",
    "\n",
    "    # bundle these up into a tuple of things to be iterated over\n",
    "    plot_iterator = lambda : zip(spec_to_plot.values(), labels, colors, alphas, linestyles, lws)\n",
    "\n",
    "    # create a figure and axes objects\n",
    "    fig = plt.figure(figsize=(15, 5.8 * Nspws))\n",
    "    axes = fig.subplots(Nspws)\n",
    "\n",
    "    # setup stuff\n",
    "    for j in range(Nspws):\n",
    "        ax = axes[j]\n",
    "        if xlim:\n",
    "            ax.set_xlim(xlim)\n",
    "        if ylim:\n",
    "            ax.set_ylim(ylim)\n",
    "        ax.grid(b=True, which=\"major\", axis=\"y\")\n",
    "        ax.grid(b=True, which=\"both\", axis=\"x\")\n",
    "        fmin, fmax = spw_edges[j]\n",
    "        ax.set_title(\"A Collection of Spectra, All Baseline Pairs\\n\" + \\\n",
    "                      \"Spectral Window: {:4.1f} MHz to {:4.1f} MHz\".format(fmin/1e6, fmax/1e6),\n",
    "                      fontsize=12)\n",
    "\n",
    "        ax.set_xlabel(r\"$k_\\parallel$ [$h$ Mpc$^{-1}$]\", fontsize=12)\n",
    "        \n",
    "        \n",
    "        ax.set_xscale('log')\n",
    "        if not resid:\n",
    "            ax.set_ylabel(r\"Power [mK$^2$ $h^{-3}$ Mpc$^3$]\", fontsize=12)\n",
    "            ax.set_yscale('log')\n",
    "        else:\n",
    "            ax.set_ylabel(r\"Fractional Residual Power\", fontsize=12)\n",
    "            \n",
    "    # plot all the (\"measured\") things    \n",
    "    for spw, kparallel in enumerate(k_paras):\n",
    "        ax = axes[spw]\n",
    "        \n",
    "        for (label, spec), color, alpha, ls, lw in zip(spectra_avg.items(), colors, alphas, linestyles, lws):\n",
    "            \n",
    "            if resid:\n",
    "                ax.plot(kparallel, (np.abs(spec[spw]['average']) - analytic[spw])/analytic[spw], lw=lw, ls=ls, color=color, alpha=alpha, label=label)\n",
    "                ax.axhline(0, lw=2, color='k')\n",
    "            else:\n",
    "                ax.plot(kparallel, np.abs(spec[spw]['average']), lw=lw, ls=ls, color=color, alpha=alpha, label=label)\n",
    "        \n",
    "        if resid:\n",
    "            ax.plot(\n",
    "                kparallel, \n",
    "                (spectra_avg['fg'][spw]['average'] + spectra_avg['eor'][spw]['average'] - analytic[spw])/analytic[spw], \n",
    "                color='C2', lw=2, ls='--', label=r'$P_{\\rm FG} + P_{\\rm EoR}$'\n",
    "            )\n",
    "        if not resid:\n",
    "            ax.plot(kparallel, analytic[spw], color='k', lw=4, ls='--', alpha=0.3, label=\"expected\")\n",
    "            \n",
    "        ax.legend(ncol=2)\n",
    "\n",
    "        \n",
    "\n",
    "    plt.tight_layout()"
   ]
  },
  {
   "cell_type": "code",
   "execution_count": null,
   "metadata": {},
   "outputs": [],
   "source": [
    "plot_avg_spectra(spectra_avg, aliased_spectra);"
   ]
  },
  {
   "cell_type": "markdown",
   "metadata": {},
   "source": [
    "**Figure 2** | Power spectra for the three spectral windows used in this analysis. We show the EoR and foreground contributions individually, the combined EoR and foregrounds, and the analytic spectra. Note that \"sum\" here denotes the power spectrum of the summed *visibilities* (not the sum of the power spectra). Only auto-baseline pairs were used for power spectrum estimation (the power spectrum estimate was obtained by only cross-multiplying a visibility with itself, rather than averaging over all pairs of visibilities within a redundant group). Each line notes the power spectrum estimate, incoherently averaged in time over the full eight hours of simulated data used and averaged over all baseline pairs. We only see EoR dominate the signal at some $k$-modes in the upper spectral window."
   ]
  },
  {
   "cell_type": "code",
   "execution_count": null,
   "metadata": {},
   "outputs": [],
   "source": [
    "# Plot residual\n",
    "plot_avg_spectra(spectra_avg, aliased_spectra, resid=True, xlim=(0.2, 3), ylim=(-0.5, 0.5))"
   ]
  },
  {
   "cell_type": "markdown",
   "metadata": {},
   "source": [
    "**Figure 3** | Fractional residuals, measured relative to the analytic power spectrum. We show the residuals of the EoR contribution, foreground contribution, and the sum of the EoR and foreground visibilities, as well as the sum of EoR and foreground power spectra. Note that at low frequencies, the EoR is too weak to be detected at any $k_{||}$. At higher frequencies, the estimate of the spectrum of the sum is in good agreement with the sum of the spectra, so that residual non-EoR power at high $k_{||}$ is confirmed to be the result of residual foreground power. "
   ]
  },
  {
   "cell_type": "markdown",
   "metadata": {},
   "source": [
    "## Frequency-Dependent EoR Amplitude"
   ]
  },
  {
   "cell_type": "markdown",
   "metadata": {},
   "source": [
    "In the previous section, we found issues regarding the extraction of the expected EoR signal, likely due to issues regarding windowing and the difference in dynamic range of EoR and foregrounds. In this section, we perform the same analysis as in the previous section, but with an amplified, frequency-dependent EoR signal, where EoR visibilities are amplified overall by a factor of 10 and have a frequency dependence $(f_0/f)^3$, with $f_0 =$ 100 MHz."
   ]
  },
  {
   "cell_type": "code",
   "execution_count": null,
   "metadata": {},
   "outputs": [],
   "source": [
    "# Root directory where all the simulated data lives\n",
    "fdep_data_path = data_path / 'freq_dep_eor'\n",
    "\n",
    "fdep_vis_path = fdep_data_path / \"visibilities\"\n",
    "fdep_spec_path = fdep_data_path / \"spectra\""
   ]
  },
  {
   "cell_type": "code",
   "execution_count": null,
   "metadata": {},
   "outputs": [],
   "source": [
    "fdep_spec_path"
   ]
  },
  {
   "cell_type": "code",
   "execution_count": null,
   "metadata": {},
   "outputs": [],
   "source": [
    "fdep_paths = {key: sorted(glob.glob(str(fdep_spec_path / f\"*.RR.{kind}.psc\"))) for key, kind in zip(['eor', 'fg', 'sum'], ['eor', 'foregrounds', 'true'])}"
   ]
  },
  {
   "cell_type": "code",
   "execution_count": null,
   "metadata": {},
   "outputs": [],
   "source": [
    "fdep_spectra = {}"
   ]
  },
  {
   "cell_type": "code",
   "execution_count": null,
   "metadata": {},
   "outputs": [],
   "source": [
    "%%time\n",
    "# incoherently average all the spectra\n",
    "# each spw has 154 channels, but we'll be folding the spectra\n",
    "\n",
    "for label, path in fdep_paths.items():\n",
    "    for pth in path:\n",
    "        \n",
    "        uvp = get_pspec(pth)\n",
    "        uvp.fold_spectra()\n",
    "        \n",
    "        if label not in fdep_spectra:\n",
    "            fdep_spectra[label] = {spw: defaultdict(list) for spw in uvp.spw_array}\n",
    "            \n",
    "        for key in uvp.get_all_keys():\n",
    "            spw = key[0]\n",
    "            blp = key[1]\n",
    "            fdep_spectra[label][spw][blp].append(uvp.get_data(key))"
   ]
  },
  {
   "cell_type": "code",
   "execution_count": null,
   "metadata": {},
   "outputs": [],
   "source": [
    "fdep_spectra_avg = {}\n",
    "for label, spec_dict in fdep_spectra.items():\n",
    "    fdep_spectra_avg[label] = {}\n",
    "    \n",
    "    for spw, spec_by_spw in spec_dict.items():\n",
    "        fdep_spectra_avg[label][spw] = {}\n",
    "        \n",
    "        bl_avg = 0\n",
    "        for blp, spec in spec_by_spw.items():\n",
    "            # assert all(s.shape == (66, 99) for s in spec)\n",
    "\n",
    "            # Reshape the spectra so we can do an easier average.\n",
    "            # New arrays have the shape (Nfiles*Ntimes, Nkpara)\n",
    "            spec = np.array(spec)\n",
    "            spec_by_spw[blp] = spec.reshape((-1, spec.shape[-1]))\n",
    "            \n",
    "            fdep_spectra_avg[label][spw][blp] = np.mean(spec_by_spw[blp], axis=0)\n",
    "            bl_avg += fdep_spectra_avg[label][spw][blp]\n",
    "            \n",
    "        fdep_spectra_avg[label][spw]['average'] = bl_avg / len(spec_dict[0])"
   ]
  },
  {
   "cell_type": "code",
   "execution_count": null,
   "metadata": {},
   "outputs": [],
   "source": [
    "fdep_aliased_spectra = {spw: get_analytic_spectrum(uvp, spw, freq_dep=True) for spw in uvp.spw_array}"
   ]
  },
  {
   "cell_type": "code",
   "execution_count": null,
   "metadata": {},
   "outputs": [],
   "source": [
    "plot_avg_spectra(fdep_spectra_avg, fdep_aliased_spectra);"
   ]
  },
  {
   "cell_type": "markdown",
   "metadata": {},
   "source": [
    "**Figure 4** | Same as Figure 2, but with an amplified, frequency-dependent EoR spectrum. Note that the EoR is detected without signal loss in each spectral window. "
   ]
  },
  {
   "cell_type": "code",
   "execution_count": null,
   "metadata": {},
   "outputs": [],
   "source": [
    "plot_avg_spectra(fdep_spectra_avg, fdep_aliased_spectra, resid=True, xlim=(0.2, 3), ylim=(-0.5, 0.5))"
   ]
  },
  {
   "cell_type": "markdown",
   "metadata": {},
   "source": [
    "**Figure 5** | Residuals of averaged spectra compared to analytic expectation, same as Figure 3. Since the EoR variability is boosted by a factor of 100, the residuals are expectedly 100x noisier. It is clear that with lower fractional contribution from foregrounds at high $k_{||}$ (compared to Figure 3), the power spectrum of summed EoR and FG is closer to the analytic expectation, suggesting that the relative level of foregrounds are the only barrier to pristine estimates of the EoR power. Furthermore, the sum of spectra is shown to be very close to the spectra of the sum, which verifies that these uncorrelated signals are not introducing spurious power in `hera_pspec`."
   ]
  }
 ],
 "metadata": {
  "kernelspec": {
   "display_name": "Python [conda env:validation]",
   "language": "python",
   "name": "conda-env-validation-py"
  },
  "language_info": {
   "codemirror_mode": {
    "name": "ipython",
    "version": 3
   },
   "file_extension": ".py",
   "mimetype": "text/x-python",
   "name": "python",
   "nbconvert_exporter": "python",
   "pygments_lexer": "ipython3",
   "version": "3.7.3"
  },
  "toc": {
   "base_numbering": 1,
   "nav_menu": {},
   "number_sections": true,
   "sideBar": true,
   "skip_h1_title": false,
   "title_cell": "Table of Contents",
   "title_sidebar": "Contents",
   "toc_cell": false,
   "toc_position": {},
   "toc_section_display": true,
   "toc_window_display": false
  }
 },
 "nbformat": 4,
 "nbformat_minor": 2
}
