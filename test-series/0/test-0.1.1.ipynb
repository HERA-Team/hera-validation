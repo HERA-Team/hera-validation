{
 "cells": [
  {
   "cell_type": "markdown",
   "metadata": {},
   "source": [
    "# Imaginary Power from Time-Offset Visibilities\n",
    "\n",
    "Bobby Pascua and the HERA Validation Team"
   ]
  },
  {
   "cell_type": "markdown",
   "metadata": {},
   "source": [
    "## Setup and Metadata"
   ]
  },
  {
   "cell_type": "markdown",
   "metadata": {},
   "source": [
    "### Abstract"
   ]
  },
  {
   "cell_type": "markdown",
   "metadata": {},
   "source": [
    "In this notebook, we show how a power spectrum estimate may have a nonvanishing imaginary component when derived from time-offset visibility measurements&mdash;which have not been phased to a common phase-center&mdash;of an uncorrelated, Gaussian sky. We show that `hera_pspec.pspecdata` recovers a power spectrum estimate whose imaginary component agrees with the predictions made here to better than 1.5%."
   ]
  },
  {
   "cell_type": "markdown",
   "metadata": {},
   "source": [
    "### Imports"
   ]
  },
  {
   "cell_type": "code",
   "execution_count": 1,
   "metadata": {},
   "outputs": [],
   "source": [
    "%matplotlib inline\n",
    "import matplotlib.pyplot as plt\n",
    "import numpy as np\n",
    "import astropy.units as u\n",
    "import astropy.constants as const\n",
    "import glob\n",
    "import re\n",
    "import multiprocessing as mp\n",
    "from IPython.utils import io\n",
    "from datetime import datetime\n",
    "\n",
    "import aipy\n",
    "import healpy as hpy\n",
    "import hera_pspec as hp\n",
    "from pyuvdata import UVData\n",
    "import os\n",
    "import glob"
   ]
  },
  {
   "cell_type": "code",
   "execution_count": 2,
   "metadata": {},
   "outputs": [
    {
     "data": {
      "application/javascript": [
       "MathJax.Hub.Config({\n",
       "    TeX: { equationNumbers: { autoNumber: \"AMS\" } }\n",
       "});\n",
       "MathJax.Hub.Queue(\n",
       "  [\"resetEquationNumbers\", MathJax.InputJax.TeX],\n",
       "  [\"PreProcess\", MathJax.Hub],\n",
       "  [\"Reprocess\", MathJax.Hub]\n",
       ");"
      ],
      "text/plain": [
       "<IPython.core.display.Javascript object>"
      ]
     },
     "metadata": {},
     "output_type": "display_data"
    }
   ],
   "source": [
    "%%javascript\n",
    "MathJax.Hub.Config({\n",
    "    TeX: { equationNumbers: { autoNumber: \"AMS\" } }\n",
    "});\n",
    "MathJax.Hub.Queue(\n",
    "  [\"resetEquationNumbers\", MathJax.InputJax.TeX],\n",
    "  [\"PreProcess\", MathJax.Hub],\n",
    "  [\"Reprocess\", MathJax.Hub]\n",
    ");"
   ]
  },
  {
   "cell_type": "markdown",
   "metadata": {},
   "source": [
    "### Description"
   ]
  },
  {
   "cell_type": "markdown",
   "metadata": {},
   "source": [
    "Last executed: 2019-08-01 15:46:31.601325\n",
    "\n",
    "- **Major Step Description:** Simulate sky-locked, white-spectrum Gaussian field and estimate power spectrum with `hera_pspec.pspecdata`.\n",
    "- **Minor Variation Description:** Correctly predict the average imaginary power introduced to the power spectrum estimate when using time-offset visibilities to estimate $P(k)$.\n",
    "- **Pipelines Tested:** `hera_pspec.pspecdata`\n",
    "- **Criteria**:\n",
    "  1. Imaginary component of ensemble average computed with `hera_pspec.pspecdata` agrees with semi-analytic expectation.\n",
    "  "
   ]
  },
  {
   "cell_type": "markdown",
   "metadata": {},
   "source": [
    "### Summary"
   ]
  },
  {
   "cell_type": "markdown",
   "metadata": {},
   "source": [
    "The results of this validation test, in reference to the outlined criteria, are\n",
    "1. Passed. The expected average imaginary power agrees with the calculated average imaginary power to within 1.5% for each baseline.\n",
    "\n",
    "The histograms for imaginary power look somewhat strange&mdash;all of the power is either positive or negative, *except* for a bump on the other side of zero-power. This bump contains up to 5% of all power estimates for a given baseline, and the amplitude of the bump seems to be smaller for baselines that are closer to East-West oriented."
   ]
  },
  {
   "cell_type": "markdown",
   "metadata": {},
   "source": [
    "### Software"
   ]
  },
  {
   "cell_type": "markdown",
   "metadata": {},
   "source": [
    "HERA software used in this validation test, with associate git commit hash:\n",
    "\n",
    "* ``pyuvdata``: ``d1829efacb60da384f64a8f25a280441bfa9d68a``\n",
    "* ``hera_pspec``: ``4a877f16c9c899affa656926461f37bca6683dcc``\n",
    "\n",
    "Versions of other software used in this validation test:\n",
    "\n",
    "* ``aipy``: ``v3.0.0rc2``\n",
    "* ``astropy``: ``v2.0.14``\n",
    "* ``healpy``: ``v1.12.9``\n",
    "* ``multiprocessing``: ``v0.70a1`` (assumed; not documented in Python 3 implementation)\n",
    "* ``matplotlib``: ``v2.2.3``\n",
    "* ``numpy``: ``v1.14.3``\n",
    "* ``re``: ``v2.2.1``"
   ]
  },
  {
   "cell_type": "markdown",
   "metadata": {},
   "source": [
    "### Data"
   ]
  },
  {
   "cell_type": "markdown",
   "metadata": {},
   "source": [
    "The following paths reflect the exact locations of all data used in this test:"
   ]
  },
  {
   "cell_type": "code",
   "execution_count": 3,
   "metadata": {},
   "outputs": [],
   "source": [
    "sim_path = \"/lustre/aoc/projects/hera/alanman/eor_sky_sim/\"\n",
    "spec_path = \"/lustre/aoc/projects/hera/Validation/test-0.1/Spectra/\"\n",
    "config_path = \"/lustre/aoc/projects/hera/Validation/test-0.1/config_files\""
   ]
  },
  {
   "cell_type": "markdown",
   "metadata": {},
   "source": [
    "## Power Spectrum Retrieval from Visibility Simulations"
   ]
  },
  {
   "cell_type": "markdown",
   "metadata": {},
   "source": [
    "In this section, we show how the power spectra were obtained for this variation of step 0.1. The details are mostly the same as in step-0.1.0, with the slight modification of splitting the visibility data for each simulation into two sets of visibility data: one set corresponds to all the even-indexed time values, whereas the other corresponds to all the odd-indexed time values."
   ]
  },
  {
   "cell_type": "code",
   "execution_count": 4,
   "metadata": {},
   "outputs": [
    {
     "name": "stdout",
     "output_type": "stream",
     "text": [
      "Preprocessed files found. Now histogramming powers and computing ensemble averaged spectrum.\n"
     ]
    }
   ],
   "source": [
    "# try to make a glob of the pre-processed files, make glob of sim files if not\n",
    "try:\n",
    "    dfiles = sorted(glob.glob('{}eor*.npz'.format(spec_path)))\n",
    "    data = np.load(dfiles[0])['arr_1']\n",
    "    # XXX do we want to look at the distribution of imaginary powers? can we predict what it will be?\n",
    "    print('Preprocessed files found. Now histogramming powers and computing ensemble averaged spectrum.')\n",
    "    prepro_npz = True\n",
    "    prepro_psc = False\n",
    "except:\n",
    "    try:\n",
    "        dfiles = sorted(glob.glob('{}eorsky_offset*.psc'.format(spec_path)))\n",
    "        psc = hp.container.PSpecContainer(dfiles[0])\n",
    "        print('Preprocessed psc files found. Now histogramming powers and computing ensemble-averaged spectrum.')\n",
    "        prepro_psc = True\n",
    "    except:\n",
    "        dfiles = sorted(glob.glob('{}*24.*.uvh5'.format(sim_path)))\n",
    "        print('Preprocessed files not found. Now beginning power spectrum extraction.')\n",
    "        print('WARNING: This process may take up to 30 hours. To speed up the process, ensure \\\n",
    "               \\nthat your interactive job has requested multiple processors per node and sufficient \\\n",
    "               \\nmemory. We recommend at least 5 processors and 64 GB memory.')\n",
    "        prepro_npz = False\n",
    "        prepro_psc = False"
   ]
  },
  {
   "cell_type": "code",
   "execution_count": 5,
   "metadata": {},
   "outputs": [],
   "source": [
    "# either way, we want to make a histogram, so let's define the bin edges\n",
    "bins = np.concatenate([np.linspace(-2e5, 0, 25), np.linspace(0, 2e5, 25)])\n",
    "\n",
    "# define a function for calculating histograms and ensemble average from psc files\n",
    "def ensemble_averager():\n",
    "    # first, define some things for some clarity on what's happening\n",
    "    # first, load in one of the simulation files\n",
    "    uvd = UVData()\n",
    "    dfile = glob.glob('{}*24*.uvh5'.format(sim_path))[0]\n",
    "    uvd.read_uvh5(dfile)\n",
    "    \n",
    "    # next, define the tapers used in this analysis\n",
    "    tapers = ['blackman-harris', 'none']\n",
    "    \n",
    "    # now get the baseline pairs; these are (0,11), (0,12), (11,12)\n",
    "    bls = uvd.get_antpairs()\n",
    "    blpairs = zip(bls,bls)\n",
    "    \n",
    "    # get the size of the time array\n",
    "    Ntimes = len(np.unique(uvd.time_array))/2 # visibilities were split in half by time\n",
    "    \n",
    "    # get the size of the frequency array\n",
    "    Nfreqs = len(np.unique(uvd.freq_array))\n",
    "    \n",
    "    # initialize an array to hold the averaged spectrum\n",
    "    avg_spec = np.zeros( (len(tapers), len(blpairs), Ntimes, Nfreqs), dtype=np.complex )\n",
    "    \n",
    "    # also initialize an array for the histograms\n",
    "    hist = np.zeros( (len(tapers), len(blpairs), len(bins)-1), dtype=np.complex )\n",
    "    \n",
    "    # loop over tapers\n",
    "    for i, taper in enumerate(tapers):\n",
    "        # make glob of data files\n",
    "        specfiles = sorted(glob.glob('{}*offset*{}.psc'.format(path1, taper)))\n",
    "        \n",
    "        # now loop over files\n",
    "        for specfile in specfiles:\n",
    "            # load PSpecContainer object\n",
    "            psc = hp.container.PSpecContainer(specfile)\n",
    "            \n",
    "            # get UVPSpec object from pspec container\n",
    "            uvp = psc.get_pspec(psc.groups()[0])[0]\n",
    "            \n",
    "            # loop over baseline pairs\n",
    "            for j, blp in enumerate(blpairs):\n",
    "                # make key to get pspec\n",
    "                # we used the full spectral range, so spw = 0\n",
    "                # all of the data has polarization pI\n",
    "                key = (0, blp, 'pI')\n",
    "                \n",
    "                # retrieve the power spectrum\n",
    "                pspec = uvp.get_data(key)\n",
    "                \n",
    "                # add it to the ensemble average array\n",
    "                avg_spec[i,j] += pspec\n",
    "                \n",
    "                # histogram real and imaginary components\n",
    "                re_hist = 1.0*np.histogram(pspec.real, bins=bins)[0]\n",
    "                im_hist = 1.0*np.histogram(pspec.imag, bins=bins)[0]\n",
    "                \n",
    "                # normalize the histograms\n",
    "                re_hist /= re_hist.sum()\n",
    "                im_hist /= im_hist.sum()\n",
    "                \n",
    "                # update the histogram\n",
    "                hist[i,j] += re_hist + 1j*im_hist\n",
    "                            \n",
    "    # divide out by the number of files for the ensemble average\n",
    "    avg_spec /= len(dfiles)\n",
    "    \n",
    "    return avg_spec, hist\n",
    "\n",
    "# if pre-processed files can't be found, then we need to process the simulation files\n",
    "if not (prepro_npz or prepro_psc):\n",
    "    # if we can't find the pre-processed files, then they must not be on the cluster\n",
    "    # so let's just process all the files and save them\n",
    "    \n",
    "    # define a function that accepts an input uvh5 file, calculates the power spectrum,\n",
    "    # and saves the result in a PSpecContainer object\n",
    "    def calc_pspec(infile):\n",
    "        # use regular expressions to get simulation number\n",
    "        p1 = re.compile('\\d+.uvh5')\n",
    "        substr = p1.findall(infile)[0]\n",
    "        p2 = re.compile('\\d+')\n",
    "        fnum = p2.findall(substr)[0]\n",
    "        # make name for PSpecContainer save file\n",
    "        outfile = '{}eorsky_offset_spec{}'.format(spec_path,fnum)\n",
    "        \n",
    "        # initialize UVData object and load infile\n",
    "        uvd = UVData()\n",
    "        # read data file, but suppress message about eorsky not being a known telescope\n",
    "        with io.capture_output() as captured:\n",
    "            uvd.read_uvh5(infile)\n",
    "        \n",
    "        # define the cosmology\n",
    "        cosmo = hp.conversions.Cosmo_Conversions()\n",
    "        \n",
    "        # get parameters for making a Gaussian beam\n",
    "        bm_fwhm = np.radians(uvd.extra_keywords[u'bm_fwhm'])\n",
    "        freqs = np.unique(uvd.freq_array)\n",
    "        \n",
    "        # make the beam\n",
    "        beam = hp.PSpecBeamGauss(bm_fwhm, freqs, cosmo=cosmo)\n",
    "        \n",
    "        # make blpairs using only autopairs\n",
    "        bls = uvd.get_antpairs()\n",
    "        blpairs = zip(bls, bls)\n",
    "            \n",
    "        # define tapers to be used\n",
    "        tapers = ['blackman-harris', 'none']\n",
    "        \n",
    "        # make sure output is in temperature units\n",
    "        Jy2mK = uvd.vis_units.upper()=='JY'\n",
    "        \n",
    "        # split visibilities according to even/odd time indices\n",
    "        times = np.unique(np.array(uvd.time_array))\n",
    "        uvd1 = uvd.select(times=times[:-1:2], inplace=False)\n",
    "        uvd2 = uvd.select(times=times[1::2], inplace=False)\n",
    "        \n",
    "        # calculate the spectra with pspec_run for each taper\n",
    "        for taper in tapers:\n",
    "            # update outfile name\n",
    "            new_outfile = '{}_{}.psc'.format(outfile, taper)\n",
    "            \n",
    "            # capture the output from when Jy2mK is asked to act on a dset already set\n",
    "            # to mK units\n",
    "            with io.capture_output() as captured:\n",
    "                # get power spectrum\n",
    "                psc, ds = hp.pspecdata.pspec_run([uvd1,uvd2], new_outfile, blpairs=blpairs,\n",
    "                                                 taper=taper, beam=beam, cosmo=cosmo,\n",
    "                                                 Jy2mK=Jy2mK, verbose=False)\n",
    "        return 0\n",
    "    \n",
    "    # now process the files in parallel\n",
    "    if __name__=='__main__':\n",
    "        # get the user name to retrieve number of processors requested for job\n",
    "        user = !whoami\n",
    "        user = user[0]\n",
    "        \n",
    "        # assume everyone follows the guidelines for using jupyter notebooks\n",
    "        # and assume that an interactive job using multiple processors is run\n",
    "        # using the job scheduler\n",
    "        try:\n",
    "            jn_pbs_path = '/users/{}/jupyter_notebook.pbs'.format(user)\n",
    "        except:\n",
    "            print('Please set up a jupyter_notebook.pbs script in your personal directory.')\n",
    "            sys.exit()\n",
    "        with open(jn_pbs_path) as f:\n",
    "            # read the contents of the .pbs script\n",
    "            text = f.read()\n",
    "            \n",
    "            # use regular expressions to find the number of processors requested\n",
    "            p1 = re.compile('nodes=\\d+')\n",
    "            p2 = re.compile('ppn=\\d+')\n",
    "            p3 = re.compile('\\d+')\n",
    "            \n",
    "            nodes = int(p3.findall(p1.findall(text)[0])[0])\n",
    "            ppn = int(p3.findall(p2.findall(text)[0])[0])\n",
    "            \n",
    "            # check that the interactive job has enough memory requested, since\n",
    "            # each instance of an opened uvh5 file via UVData requires approx\n",
    "            # 2 GB of memory\n",
    "            p1 = re.compile('vmem=\\d+G')\n",
    "            mem = int(p3.findall(p1.findall(text)[0])[0])\n",
    "\n",
    "            \n",
    "        # choose number of processors such that there won't be a MemoryError,\n",
    "        # but also such that at least one processor is used\n",
    "        Nprocs = max(1,min(mem/4 - nodes, nodes*(ppn - 1)))\n",
    "        # note that there are times in the pspec pipeline where the data is copied\n",
    "        # before it is discarded; this can cause memory spikes up to Nprocs * 4 GB\n",
    "        # when the pspec pipeline is run in parallel over Nprocs processors\n",
    "\n",
    "        # start pool of workers\n",
    "        pool = mp.Pool(Nprocs)\n",
    "        # process files in parallel\n",
    "        pool.map(calc_pspec, dfiles)\n",
    "        # close the pool\n",
    "        pool.close()\n",
    "        \n",
    "    # now that the files have been processed, let's retrieve the ensemble averaged pspec\n",
    "    # as well as the histograms\n",
    "    avg_spec, hist = ensemble_averager()\n",
    "\n",
    "elif prepro_psc:\n",
    "    # the preprocessed files already exist, so let's just get the ensemble average and histograms\n",
    "    avg_spec, hist = ensemble_averager()\n",
    "else:\n",
    "    # get the ensemble average and fill out the histogram\n",
    "    \n",
    "    # first, make an array of zeros for the ensemble average\n",
    "    avg_spec = np.zeros(data.shape, dtype=np.complex)\n",
    "    \n",
    "    # since we were able to load in the pre-processed files, let's make\n",
    "    # histograms for spectra computed with and without a taper\n",
    "    hist = np.zeros( (2, 3, len(bins)-1), dtype=np.complex)\n",
    "    \n",
    "    # we'll need to loop over data files\n",
    "    for dfile in dfiles:\n",
    "        # load in the data\n",
    "        data = np.load(dfile)['arr_1']\n",
    "        \n",
    "        # add it to the average spectrum, to be divided by the number of realizations\n",
    "        # later on in the script\n",
    "        avg_spec += data\n",
    "        \n",
    "        # update the histograms\n",
    "        # from the README, axis-0 -> tapers, axis-1 -> baselines\n",
    "        tapers = ['blackman-harris', 'none']\n",
    "        bls = [(0,11), (0,12), (11,12)]\n",
    "        for i in range(len(tapers)):\n",
    "            for j in range(len(bls)):\n",
    "                # get histograms of real and imaginary components\n",
    "                re_hist = 1.0*np.histogram(data[i,j].real, bins=bins)[0]\n",
    "                im_hist = 1.0*np.histogram(data[i,j].imag, bins=bins)[0]\n",
    "                \n",
    "                # normalize histograms\n",
    "                re_hist /= re_hist.sum()\n",
    "                im_hist /= im_hist.sum()\n",
    "                \n",
    "                # now add them to the histogram\n",
    "                hist[i,j] = re_hist + 1j*im_hist\n",
    "                \n",
    "    # we're done with our loops, so now divide the average spectrum array by the \n",
    "    # number of realizations\n",
    "    avg_spec /= len(dfiles)"
   ]
  },
  {
   "cell_type": "markdown",
   "metadata": {},
   "source": [
    "## Prediction for Imaginary Power"
   ]
  },
  {
   "cell_type": "markdown",
   "metadata": {},
   "source": [
    "In this section, we outline the model used to predict the existence of imaginary power in the spectra computed in the previous section and present the computational methods used to make the prediction."
   ]
  },
  {
   "cell_type": "markdown",
   "metadata": {},
   "source": [
    "### The Model"
   ]
  },
  {
   "cell_type": "markdown",
   "metadata": {},
   "source": [
    "We begin with our assumptions of the sky used to generate the visibility data used in the previous section. We assume that the signal is sky-locked and that the brightness temperature on the sky is normally distributed in frequency and angular position, and that the value of the brightness temperature in any voxel is uncorrelated with that in any other voxel. We additionally assume that the telescope beam is Gaussian, centered on zenith as determined by the (time-dependent) HERA position.  \n",
    "  \n",
    "In order to obtain a prediction for what we expect the `hera_pspec.pspecdata` pipeline to output, we begin with the power spectrum estimator given in Equation 4 of Parsons et al. (ApJ 788 (2), 106, 2014):  \n",
    "  \n",
    "$$\n",
    "\\begin{equation}\n",
    "\\hat{P}(\\mathbf{k}) = \\biggl(\\frac{\\lambda^2}{2k_b}\\biggr)^2\\frac{X^2Y}{\\Omega_\\mathrm{pp}B} \\Bigl\\langle\\tilde{V}_i(\\tau,t)\\tilde{V}^*_j(\\tau,t)\\Bigr\\rangle_{i<j}, \n",
    "\\end{equation}\n",
    "$$\n",
    "  \n",
    "where $\\lambda$ is the observing frequency, $X$ and $Y$ are cosmological scalars that convert angles and frequencies into comoving distances, $\\Omega_\\mathrm{pp}$ is the integral of the beam-power-squared over the sky, $B$ is the observing bandwidth, $\\langle\\cdots\\rangle_{i<j}$ denotes an average over redundant baselines, and $\\tilde{V}$ is the delay-transformed visibility. We use the usual definition of visibility in a sky-locked frame,  \n",
    "  \n",
    "$$\n",
    "\\begin{equation}\n",
    "V(\\nu,t) = \\int \\mathrm{d}\\Omega A_\\nu(\\hat{\\mathbf{n}},t)I_\\nu(\\hat{\\mathbf{n}})\\mathrm{e}^{-i2\\pi\\nu\\mathbf{b}(t)\\cdot\\hat{\\mathbf{n}}/c},\n",
    "\\end{equation}\n",
    "$$\n",
    "  \n",
    "where $A$ is the beam-power, $I$ is the intensity on the sky, and $\\mathbf{b}$ is the baseline making the visibility measurement. We define the brightness temperature $T_\\nu$ such that\n",
    "  \n",
    "$$\n",
    "\\begin{equation}\n",
    "I_\\nu(\\hat{\\mathbf{n}}) = \\frac{2k_b}{\\lambda^2}T_\\nu(\\hat{\\mathbf{n}}).\n",
    "\\end{equation}\n",
    "$$\n",
    "  \n",
    "The delay-transformed visibility is obtained by taking the Fourier transform of the visibility along the frequency-axis:\n",
    "  \n",
    "$$\n",
    "\\begin{equation}\n",
    "\\tilde{V}(\\tau,t) =  \\frac{2k_b}{\\lambda^2}\\int \\mathrm{d}\\nu\\mathrm{d}\\Omega A_\\nu(\\hat{\\mathbf{n}},t)T_\\nu(\\hat{\\mathbf{n}})\\mathrm{e}^{-i2\\pi\\nu\\bigl(\\mathbf{b}(t)\\cdot\\hat{\\mathbf{n}}/c - \\tau\\bigr)}.\n",
    "\\end{equation}\n",
    "$$\n",
    "  \n",
    "Using these definitions, we can rewrite the power spectrum estimator as  \n",
    "  \n",
    "$$\n",
    "\\begin{equation}\n",
    "\\hat{P}(\\mathbf{k}) = \\frac{X^2Y}{\\Omega_\\mathrm{pp}B}\\biggl\\langle\\int\\mathrm{d}\\nu'\\mathrm{d}\\nu\\mathrm{d}\\Omega'\\mathrm{d}\\Omega A_{\\nu'}(\\hat{\\mathbf{n}}',t)A_\\nu(\\hat{\\mathbf{n}},t)T_{\\nu'}(\\hat{\\mathbf{n}}')T_\\nu(\\hat{\\mathbf{n}})\\exp\\bigl(-i2\\pi(\\nu'-\\nu)\\tau\\bigr)\\exp\\bigl(-i2\\pi(\\nu'\\mathbf{b}_j\\cdot\\hat{\\mathbf{n}}'/c - \\nu\\mathbf{b}_i\\cdot\\hat{\\mathbf{n}}/c)\\bigr)\\biggr\\rangle.\n",
    "\\end{equation}\n",
    "$$\n",
    "  \n",
    "(Complex conjugation has been left off of quantities assumed to be real-valued.) We now use the assumption that the temperature field is normally distributed and that the value it takes on in one voxel is independent from that of any other voxel, and take the average over redundant baselines to be an ensemble average, so that  \n",
    "  \n",
    "$$\n",
    "\\begin{equation}\n",
    "\\bigl\\langle T_{\\nu'}(\\hat{\\mathbf{n}}')T_\\nu(\\hat{\\mathbf{n}})\\bigr\\rangle = \\sigma^2\\Delta\\nu\\Delta\\Omega\\delta_D(\\nu'-\\nu)\\delta_D(\\hat{\\mathbf{n}}'-\\hat{\\mathbf{n}}),\n",
    "\\end{equation}\n",
    "$$\n",
    "  \n",
    "where $\\delta_D(\\cdots)$ indicates the Dirac delta function, $\\sigma^2$ is the variance of the temperature field, $\\Delta\\nu$ is the size of a frequency channel, and $\\Delta\\Omega$ is the solid angle subtended by a pixel (for our case, these must be the same value as those used for the simulation in order for the normalization to be correct). From this, it follows that the power spectrum estimator simplifies to  \n",
    "  \n",
    "$$\n",
    "\\begin{equation}\n",
    "\\hat{P}(\\mathbf{k}) = \\sigma^2\\Delta\\nu\\Delta\\Omega\\frac{X^2Y}{\\Omega_\\mathrm{pp}B}\\int\\mathrm{d}\\nu\\mathrm{d}\\Omega |A_\\nu(\\hat{\\mathbf{n}},t)|^2\\exp\\bigl(-i2\\pi\\nu\\Delta \\mathbf{b}_{ij}(t)\\cdot\\hat{\\mathbf{n}}/c\\bigr),\n",
    "\\end{equation}\n",
    "$$\n",
    "  \n",
    "where $\\Delta\\mathbf{b}_{ij} = \\mathbf{b}_j-\\mathbf{b}_i$. We can now evaluate the frequency integral over the bandwidth $\\nu\\in[\\nu_1,\\nu_2]$ where $\\nu_2 - \\nu_1 = B$ to get  \n",
    "  \n",
    "$$\n",
    "\\begin{equation}\n",
    "\\hat{P}(\\mathbf{k}) = \\sigma^2\\Delta\\nu\\Delta\\Omega\\frac{X^2Y}{\\Omega_\\mathrm{pp}B}\\int\\mathrm{d}\\Omega|A_\\nu(\\hat{\\mathbf{n}}, t)|^2\\frac{\\mathrm{e}^{-i2\\pi\\nu_2\\Delta\\mathbf{b}_{ij}\\cdot\\hat{\\mathbf{n}}/c} - \\mathrm{e}^{-i2\\pi\\nu_1\\Delta\\mathbf{b}_{ij}\\cdot\\hat{\\mathbf{n}}/c}}{-i2\\pi\\Delta\\mathbf{b}_{ij}\\cdot\\hat{\\mathbf{n}}/c}.\n",
    "\\end{equation}\n",
    "$$\n",
    "  \n",
    "To put the above expression into a nicer form, let's define the band-center frequency $\\nu_0 = (\\nu_1 + \\nu_2)/2$, so that $\\nu_2 = \\nu_0 + B/2$ and $\\nu_1 = \\nu_0 - B/2$. We can then factor out $\\exp(-i2\\pi\\nu_0\\Delta\\mathbf{b}_{ij}\\cdot\\hat{\\mathbf{n}}/c)$ from the difference of exponentials and use Euler's identity, along with the identity $z - z^* = 2i\\mathrm{Im}(z)$ for any complex $z$, to rewrite the above equation as  \n",
    "  \n",
    "$$\n",
    "\\begin{equation}\n",
    "\\hat{P}(\\mathbf{k}) = \\sigma^2\\Delta\\nu\\Delta\\Omega\\frac{X^2Y}{\\Omega_\\mathrm{pp}B}\\int\\mathrm{d}\\Omega|A_\\nu(\\hat{\\mathbf{n}})|^2\\exp\\bigl(-i2\\pi\\nu_0\\Delta\\mathbf{b}_{ij}\\cdot\\hat{\\mathbf{n}}/c\\bigr)\\frac{\\sin(\\pi B\\Delta\\mathbf{b}_{ij}\\cdot\\hat{\\mathbf{n}}/c)}{\\pi\\Delta\\mathbf{b}_{ij}\\cdot\\hat{\\mathbf{n}}/c}.\n",
    "\\end{equation}\n",
    "$$\n",
    "  \n",
    "We can pull the factor of $1/B$ under the integral and use the definition $\\mathrm{sinc}(x) \\equiv \\sin(x)/x$ to rewrite the above equation somewhat more compactly:  \n",
    "  \n",
    "$$\n",
    "\\begin{equation}\n",
    "\\label{eq:pspec-expectation}\n",
    "\\hat{P}(\\mathbf{k}) = \\sigma^2\\Delta\\nu\\Delta\\Omega\\frac{X^2Y}{\\Omega_\\mathrm{pp}}\\int\\mathrm{d}\\Omega|A(\\hat{\\mathbf{n}}, t)|^2\\exp\\bigl(-i2\\pi\\nu_0\\Delta\\mathbf{b}_{ij}\\cdot\\hat{\\mathbf{n}}/c\\bigr)\\mathrm{sinc}\\bigl(\\pi B\\Delta\\mathbf{b}_{ij}\\cdot\\hat{\\mathbf{n}}/c\\bigr).\n",
    "\\end{equation}\n",
    "$$\n",
    "  \n",
    "Notice that in the limit $\\Delta\\mathbf{b}_{ij} = 0$, the above equation reduces to the expected result:  \n",
    "  \n",
    "$$\n",
    "\\begin{equation}\n",
    "\\hat{P}(\\mathbf{k}) = \\sigma^2\\Delta\\nu\\Delta\\Omega X^2Y.\n",
    "\\end{equation}\n",
    "$$\n",
    "  \n",
    "For the case of calculating $\\hat{P}(\\mathbf{k})$ with autocorrelations of time-offset visibilites, the quantity $\\Delta\\mathbf{b}_{ij}$ may be written as  \n",
    "  \n",
    "$$\n",
    "\\begin{equation}\n",
    "\\Delta\\mathbf{b}_{ii}(t) = \\bigl(\\mathbf{R}(\\mathbf{\\omega}_\\oplus\\delta t) - \\mathbf{I}\\bigr)\\mathbf{b}_{i}(t),\n",
    "\\end{equation}\n",
    "$$\n",
    "  \n",
    "where $\\mathbf{I}$ is the identity matrix, $\\mathbf{R}(\\mathbf{\\omega}_\\oplus\\delta t)$ is a matrix that rotates $\\mathbf{b}_i$ about the Earth's rotational axis by a phase $\\omega_\\oplus{\\delta}t$, where $\\omega_\\oplus$ is the angular frequency of Earth's rotation and ${\\delta}t$ is the time-offset between visibilities. For our case, ${\\delta}t$ corresponds to the integration time-step used in the simulation. In order to determine the expected amplitude of the imaginary component of the power spectrum, we integrate equation$~\\ref{eq:pspec-expectation}$ numerically using a HEALPix map."
   ]
  },
  {
   "cell_type": "code",
   "execution_count": 6,
   "metadata": {},
   "outputs": [],
   "source": [
    "# let's define some important parameters for the numerical simulation\n",
    "# first, load in one of the simulation files to get some parameters from that\n",
    "dfile = sorted(glob.glob('{}*24*.uvh5'.format(sim_path)))[0]\n",
    "uvd = UVData()\n",
    "with io.capture_output() as captured:\n",
    "    uvd.read_uvh5(dfile)\n",
    "\n",
    "# get baselines\n",
    "bls = uvd.get_antpairs()\n",
    "\n",
    "# get antenna positions for computing baselines\n",
    "antpos = uvd.antenna_positions\n",
    "\n",
    "# now get baseline vectors (I wish there was a simpler way of doing this)\n",
    "# note that uvd.uvw_array gives the baselines in the ENU frame, but we want\n",
    "# it in the equatorial frame... so this seems like the simplest way\n",
    "bl_vecs = []\n",
    "for bl in bls:\n",
    "    ant1 = np.argwhere(uvd.antenna_numbers==bl[0])[0][0]\n",
    "    ant2 = np.argwhere(uvd.antenna_numbers==bl[1])[0][0]\n",
    "    bl_vecs.append(antpos[ant1] - antpos[ant2])\n",
    "bl_vecs = np.array(bl_vecs)\n",
    "\n",
    "# get time offset between visibilities in seconds\n",
    "dt = np.diff(np.unique(uvd.time_array)).mean()*u.day.to('s')\n",
    "\n",
    "# get the number of time steps\n",
    "Ntimes = len(np.unique(uvd.time_array)[:-1:2])\n",
    "\n",
    "# get the bandwidth and band-center frequency\n",
    "freqs = np.unique(uvd.freq_array)                    # Hz\n",
    "B = freqs[-1] - freqs[0]                             # Hz\n",
    "f0 = np.median(freqs)                                # Hz\n",
    "\n",
    "# get Earth's rotational angular frequency\n",
    "omega = 2*np.pi/u.sday.to('s')                       # rad/s\n",
    "\n",
    "# get lat, lon, alt for HERA\n",
    "lat, lon, alt = uvd.telescope_location_lat_lon_alt\n",
    "colat = np.pi/2 - lat\n",
    "\n",
    "# define y and z basis vectors for generating rotation matrices\n",
    "yhat = np.array([0,1,0])\n",
    "zhat = np.array([0,0,1])\n",
    "\n",
    "# define rotation matrices for correctly calculating the beam position\n",
    "Ry = aipy.coord.rot_m(-colat, yhat)\n",
    "Rz = aipy.coord.rot_m(-lon, zhat)\n",
    "Ryz = np.dot(Ry, Rz)\n",
    "\n",
    "# define projection matrix\n",
    "Mproj = aipy.coord.rot_m(omega*dt, zhat) - np.eye(3)\n",
    "\n",
    "# define parameters for HEALPix map\n",
    "NSIDE = 32\n",
    "NPIX = hpy.nside2npix(NSIDE)\n",
    "pixel_area = 4*np.pi/NPIX                             # sr\n",
    "map_vecs = np.array(hpy.pix2vec(nside=NSIDE, ipix=np.arange(NPIX)))\n",
    "\n",
    "# get extra keywords necessary for computing power spectrum amplitude\n",
    "dOmega = 4*np.pi/(12*uvd.extra_keywords[u'nside']**2) # sr\n",
    "df = np.diff(freqs).mean()                            # Hz\n",
    "Omega_pp = uvd.extra_keywords[u'bsq_int']             # sr\n",
    "skysig = uvd.extra_keywords[u'skysig'] * 1e3          # mK\n",
    "f_21cm = 1420.4057511 * 1e6                           # Hz\n",
    "z = f_21cm/f0 - 1      # redshift of 21cm line at band center\n",
    "\n",
    "# need to choose a cosmology to get X2Y\n",
    "cosmo = hp.conversions.Cosmo_Conversions()\n",
    "X2Y = cosmo.X2Y(z)\n",
    "\n",
    "# get power spectrum amplitude\n",
    "P0 = skysig**2 * df * dOmega * X2Y     # mK^2 (h^-1 Mpc)^3\n",
    "\n",
    "# get the beam standard deviation\n",
    "bm_fwhm = np.radians(uvd.extra_keywords[u'bm_fwhm'])\n",
    "sig_b = bm_fwhm/np.sqrt(8*np.log(2))   # radians"
   ]
  },
  {
   "cell_type": "markdown",
   "metadata": {},
   "source": [
    "To tidy up notation a bit (and increase clarity of the code), we will define the delay-like quantity $T \\equiv \\Delta\\mathbf{b}\\cdot\\hat{\\mathbf{n}}/c$."
   ]
  },
  {
   "cell_type": "code",
   "execution_count": 7,
   "metadata": {},
   "outputs": [],
   "source": [
    "# make an empty array for holding values for computing the integral\n",
    "Tvals = np.zeros( (3,Ntimes,NPIX) )\n",
    "A2vals = np.zeros( (Ntimes,NPIX) )             # placeholder for beam-squared values\n",
    "\n",
    "# now fill out those arrays\n",
    "for j in range(Ntimes):\n",
    "    # calculate the phase by which the baselines and beam have been rotated\n",
    "    # due to Earth rotation\n",
    "    tot_phase = j * omega * dt\n",
    "    \n",
    "    # define rotation matrix for Earth rotation\n",
    "    Rt = aipy.coord.rot_m(tot_phase, zhat)\n",
    "    \n",
    "    # get rotation matrix for the beam\n",
    "    Rtot = np.dot(Ryz, np.linalg.inv(Rt))\n",
    "    \n",
    "    # rotate the HEALPix map vectors\n",
    "    rot_vecs = np.dot(Rtot, map_vecs)\n",
    "    \n",
    "    # get the colatitudes for calculating the beam power squared\n",
    "    rot_colats = np.array(hpy.vec2ang(rot_vecs.T))[0]\n",
    "    \n",
    "    # get the beam power squared\n",
    "    A2vals[j] = np.exp(-(rot_colats/sig_b)**2)\n",
    "    \n",
    "    # now calculate the delay-like term for each baseline\n",
    "    for k, bl_vec in enumerate(bl_vecs):\n",
    "        # get the rotated baseline\n",
    "        rot_bl = np.dot(Rt, bl_vec)\n",
    "        \n",
    "        # now get the change due to time-offset\n",
    "        db = np.dot(Mproj, rot_bl)\n",
    "        \n",
    "        # calculate the delay-like term\n",
    "        Tvals[k,j] = np.dot(db, map_vecs)/const.c.value\n",
    "        \n",
    "# initialize an array for the integrand\n",
    "integrand = np.zeros(Tvals.shape, dtype=np.complex)\n",
    "\n",
    "# now fill it in\n",
    "for j in range(Tvals.shape[0]):\n",
    "    integrand[j] = A2vals*np.sinc(B*Tvals[j])*np.exp(-2j*np.pi*f0*Tvals[j])\n",
    "\n",
    "# now compute the power spectrum\n",
    "pspec = skysig**2 * df * dOmega * (X2Y/Omega_pp) * integrand.sum(axis=2) * pixel_area"
   ]
  },
  {
   "cell_type": "code",
   "execution_count": 8,
   "metadata": {},
   "outputs": [
    {
     "name": "stdout",
     "output_type": "stream",
     "text": [
      "Discrepancy between measured and expected real:imaginary ratio: 1.58829419556%\n",
      "Discrepancy between measured and expected real power: 0.164369444923%\n",
      "Discrepancy between measured and expected imaginary power: -1.44690587262%\n",
      "\n",
      "Discrepancy between measured and expected real:imaginary ratio: 1.57114349308%\n",
      "Discrepancy between measured and expected real power: 0.136116987709%\n",
      "Discrepancy between measured and expected imaginary power: -1.45793272044%\n",
      "\n",
      "Discrepancy between measured and expected real:imaginary ratio: 1.5491652375%\n",
      "Discrepancy between measured and expected real power: 0.244213413088%\n",
      "Discrepancy between measured and expected imaginary power: -1.32548578949%\n",
      "\n"
     ]
    }
   ],
   "source": [
    "# now let's compare to the ensemble average computed with no taper\n",
    "meas_pspec = avg_spec[1]\n",
    "meas_real = meas_pspec.real.mean(axis=-1).mean(axis=-1)\n",
    "meas_imag = meas_pspec.imag.mean(axis=-1).mean(axis=-1)\n",
    "exp_real = pspec.real.mean(axis=1)\n",
    "exp_imag = pspec.imag.mean(axis=1)\n",
    "\n",
    "meas_ratios = meas_real/meas_imag\n",
    "exp_ratios = exp_real/exp_imag\n",
    "\n",
    "for j, bl in enumerate(bls):\n",
    "    disc = (exp_ratios[j] - meas_ratios[j])/exp_ratios[j] * 100 # percent\n",
    "    re_disc = (exp_real[j] - meas_real[j])/exp_real[j] * 100 # percent\n",
    "    im_disc = (exp_imag[j] - meas_imag[j])/exp_imag[j] * 100 # percent\n",
    "    print(\"Discrepancy between measured and expected real:imaginary ratio: {}%\".format(disc))\n",
    "    print(\"Discrepancy between measured and expected real power: {}%\".format(re_disc))\n",
    "    print(\"Discrepancy between measured and expected imaginary power: {}%\\n\".format(im_disc))"
   ]
  },
  {
   "cell_type": "code",
   "execution_count": 9,
   "metadata": {},
   "outputs": [
    {
     "name": "stdout",
     "output_type": "stream",
     "text": [
      "HERA Location: 30.7215277778 deg S, 21.4283055556 deg E\n",
      "0.0 180.0 -180.0 180.0\n",
      "The interval between parallels is 30 deg -0.00'.\n",
      "The interval between meridians is 30 deg -0.00'.\n"
     ]
    },
    {
     "data": {
      "image/png": "[encoded data removed]",
      "text/plain": [
       "<Figure size 864x576 with 2 Axes>"
      ]
     },
     "metadata": {
      "needs_background": "light"
     },
     "output_type": "display_data"
    }
   ],
   "source": [
    "# for those curious about the process for rotating the beam...\n",
    "print('HERA Location: {} deg S, {} deg E'.format(-np.degrees(lat), np.degrees(lon)))\n",
    "fig = plt.figure(figsize=(12,8))\n",
    "ax = fig.add_subplot(1,1,1)\n",
    "hpy.mollview(A2vals[0], title='HERA Beam Power Squared Map', hold=True)\n",
    "hpy.graticule()\n",
    "plt.show()"
   ]
  },
  {
   "cell_type": "markdown",
   "metadata": {},
   "source": [
    "**Figure 1 |** Mollweide view of a HEALPix map used to model the beam-power-squared. This figure shows that the passive transformations used in the numerical integration scheme accurately produce a Gaussian beam centered at the HERA telescope location."
   ]
  },
  {
   "cell_type": "code",
   "execution_count": 10,
   "metadata": {},
   "outputs": [
    {
     "data": {
      "image/png": "[encoded data removed]",
      "text/plain": [
       "<Figure size 1080x1080 with 6 Axes>"
      ]
     },
     "metadata": {
      "needs_background": "light"
     },
     "output_type": "display_data"
    }
   ],
   "source": [
    "tapers = ['blackman-harris', 'none']\n",
    "powers = 0.5*(bins[:-1]+bins[1:])\n",
    "\n",
    "fig = plt.figure(figsize=(15,15))\n",
    "axes = fig.subplots(3,2)\n",
    "for i in range(axes.shape[0]):\n",
    "    for j in range(axes.shape[1]):\n",
    "        bl = bls[i]\n",
    "        axes[i,j].set_xlabel(r'Power [mK$^2$ $h^{-3}$ Mpc$^3$]',\n",
    "                             fontsize=12)\n",
    "        axes[i,j].set_ylabel(r'$N/N_0$', fontsize=12)\n",
    "        axes[i,j].set_title('Baseline: {}; Taper: {}'.format(bls[i], tapers[j]))\n",
    "        axes[i,j].scatter(powers, hist[j,i].imag, marker='o', color='gold', label='Imag')\n",
    "plt.tight_layout()\n",
    "plt.show()"
   ]
  },
  {
   "cell_type": "markdown",
   "metadata": {},
   "source": [
    "**Figure 2 |** Histograms of the imaginary component of the power spectra computed from time-offset visibilities. The distributions clearly exhibit baseline dependence. The expected distribution is currently unknown. The origin of the bump that occurs on the side opposite that of the majority of the distribution for each histogram is also unknown (just to the right of zero for (0,12) and (11,12) and just to the left of zero for (0,11))."
   ]
  },
  {
   "cell_type": "code",
   "execution_count": null,
   "metadata": {},
   "outputs": [],
   "source": []
  }
 ],
 "metadata": {
  "kernelspec": {
   "display_name": "Python 2",
   "language": "python",
   "name": "python2"
  },
  "language_info": {
   "codemirror_mode": {
    "name": "ipython",
    "version": 2
   },
   "file_extension": ".py",
   "mimetype": "text/x-python",
   "name": "python",
   "nbconvert_exporter": "python",
   "pygments_lexer": "ipython2",
   "version": "2.7.16"
  },
  "toc": {
   "base_numbering": 1,
   "nav_menu": {},
   "number_sections": true,
   "sideBar": true,
   "skip_h1_title": false,
   "title_cell": "Table of Contents",
   "title_sidebar": "Contents",
   "toc_cell": false,
   "toc_position": {},
   "toc_section_display": true,
   "toc_window_display": false
  }
 },
 "nbformat": 4,
 "nbformat_minor": 2
}
