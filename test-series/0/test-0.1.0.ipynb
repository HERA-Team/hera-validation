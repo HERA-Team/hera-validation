{
 "cells": [
  {
   "cell_type": "markdown",
   "metadata": {},
   "source": [
    "# Flat-<i>k</i> Gaussian <i>P(k)</i>\n",
    "\n",
    "Bobby Pascua and the HERA Validation Team"
   ]
  },
  {
   "cell_type": "markdown",
   "metadata": {
    "toc": true
   },
   "source": [
    "<h1>Table of Contents<span class=\"tocSkip\"></span></h1>\n",
    "<div class=\"toc\"><ul class=\"toc-item\"><li><span><a href=\"#Flat-k-Gaussian-P(k)\" data-toc-modified-id=\"Flat-k-Gaussian-P(k)-1\"><span class=\"toc-item-num\">1&nbsp;&nbsp;</span>Flat-<i>k</i> Gaussian <i>P(k)</i></a></span><ul class=\"toc-item\"><li><span><a href=\"#Setup-and-Metadata\" data-toc-modified-id=\"Setup-and-Metadata-1.1\"><span class=\"toc-item-num\">1.1&nbsp;&nbsp;</span>Setup and Metadata</a></span><ul class=\"toc-item\"><li><span><a href=\"#Abstract\" data-toc-modified-id=\"Abstract-1.1.1\"><span class=\"toc-item-num\">1.1.1&nbsp;&nbsp;</span>Abstract</a></span></li><li><span><a href=\"#Imports\" data-toc-modified-id=\"Imports-1.1.2\"><span class=\"toc-item-num\">1.1.2&nbsp;&nbsp;</span>Imports</a></span></li><li><span><a href=\"#Description\" data-toc-modified-id=\"Description-1.1.3\"><span class=\"toc-item-num\">1.1.3&nbsp;&nbsp;</span>Description</a></span></li><li><span><a href=\"#Summary\" data-toc-modified-id=\"Summary-1.1.4\"><span class=\"toc-item-num\">1.1.4&nbsp;&nbsp;</span>Summary</a></span></li><li><span><a href=\"#Software\" data-toc-modified-id=\"Software-1.1.5\"><span class=\"toc-item-num\">1.1.5&nbsp;&nbsp;</span>Software</a></span></li><li><span><a href=\"#Data\" data-toc-modified-id=\"Data-1.1.6\"><span class=\"toc-item-num\">1.1.6&nbsp;&nbsp;</span>Data</a></span></li></ul></li><li><span><a href=\"#Data-Retrieval\" data-toc-modified-id=\"Data-Retrieval-1.2\"><span class=\"toc-item-num\">1.2&nbsp;&nbsp;</span>Data Retrieval</a></span><ul class=\"toc-item\"><li><span><a href=\"#Power-Spectrum-Retrieval\" data-toc-modified-id=\"Power-Spectrum-Retrieval-1.2.1\"><span class=\"toc-item-num\">1.2.1&nbsp;&nbsp;</span>Power Spectrum Retrieval</a></span></li><li><span><a href=\"#Power-Spectrum-Amplitude-Expectation\" data-toc-modified-id=\"Power-Spectrum-Amplitude-Expectation-1.2.2\"><span class=\"toc-item-num\">1.2.2&nbsp;&nbsp;</span>Power Spectrum Amplitude Expectation</a></span></li></ul></li><li><span><a href=\"#Data-Visualization\" data-toc-modified-id=\"Data-Visualization-1.3\"><span class=\"toc-item-num\">1.3&nbsp;&nbsp;</span>Data Visualization</a></span><ul class=\"toc-item\"><li><span><a href=\"#Ensemble-Averaged-Power-Spectrum\" data-toc-modified-id=\"Ensemble-Averaged-Power-Spectrum-1.3.1\"><span class=\"toc-item-num\">1.3.1&nbsp;&nbsp;</span>Ensemble-Averaged Power Spectrum</a></span></li><li><span><a href=\"#Histograms\" data-toc-modified-id=\"Histograms-1.3.2\"><span class=\"toc-item-num\">1.3.2&nbsp;&nbsp;</span>Histograms</a></span></li></ul></li></ul></li></ul></div>"
   ]
  },
  {
   "cell_type": "markdown",
   "metadata": {},
   "source": [
    "## Setup and Metadata"
   ]
  },
  {
   "cell_type": "markdown",
   "metadata": {},
   "source": [
    "### Abstract"
   ]
  },
  {
   "cell_type": "markdown",
   "metadata": {},
   "source": [
    "This notebook validates the `hera_pspec.pspecdata` pipeline's ability to recover a flat-<i>k</i> Gaussian power spectrum from an ensemble of noiseless simulations. We extract the power spectrum estimate from each simulation using the `hera_pspec.pspecdata` pipeline and perform an ensemble average on the resulting spectra. We find agreement between the measured and predicted power spectrum amplitude at the 0.15% level. Additionally, we histogram the measured powers from the full ensemble and find that the distribution is consistent with an exponential distribution, with the scale parameter given by the expected power spectrum amplitude."
   ]
  },
  {
   "cell_type": "markdown",
   "metadata": {},
   "source": [
    "### Imports"
   ]
  },
  {
   "cell_type": "code",
   "execution_count": 2,
   "metadata": {},
   "outputs": [
    {
     "ename": "ModuleNotFoundError",
     "evalue": "No module named 'hera_pspec'",
     "output_type": "error",
     "traceback": [
      "\u001b[0;31m---------------------------------------------------------------------------\u001b[0m",
      "\u001b[0;31mModuleNotFoundError\u001b[0m                       Traceback (most recent call last)",
      "\u001b[0;32m<ipython-input-2-7fa6d15efef5>\u001b[0m in \u001b[0;36m<module>\u001b[0;34m\u001b[0m\n\u001b[1;32m      5\u001b[0m \u001b[0;32mfrom\u001b[0m \u001b[0mdatetime\u001b[0m \u001b[0;32mimport\u001b[0m \u001b[0mdatetime\u001b[0m\u001b[0;34m\u001b[0m\u001b[0;34m\u001b[0m\u001b[0m\n\u001b[1;32m      6\u001b[0m \u001b[0;34m\u001b[0m\u001b[0m\n\u001b[0;32m----> 7\u001b[0;31m \u001b[0;32mimport\u001b[0m \u001b[0mhera_pspec\u001b[0m \u001b[0;32mas\u001b[0m \u001b[0mhp\u001b[0m\u001b[0;34m\u001b[0m\u001b[0;34m\u001b[0m\u001b[0m\n\u001b[0m\u001b[1;32m      8\u001b[0m \u001b[0;32mfrom\u001b[0m \u001b[0mpyuvdata\u001b[0m \u001b[0;32mimport\u001b[0m \u001b[0mUVData\u001b[0m\u001b[0;34m\u001b[0m\u001b[0;34m\u001b[0m\u001b[0m\n\u001b[1;32m      9\u001b[0m \u001b[0;32mimport\u001b[0m \u001b[0mpyuvdata\u001b[0m\u001b[0;34m\u001b[0m\u001b[0;34m\u001b[0m\u001b[0m\n",
      "\u001b[0;31mModuleNotFoundError\u001b[0m: No module named 'hera_pspec'"
     ]
    }
   ],
   "source": [
    "%matplotlib inline\n",
    "import matplotlib.pyplot as plt\n",
    "import numpy as np\n",
    "import glob\n",
    "from datetime import datetime\n",
    "\n",
    "import hera_pspec as hp\n",
    "from pyuvdata import UVData\n",
    "import pyuvdata\n",
    "import os"
   ]
  },
  {
   "cell_type": "code",
   "execution_count": 1,
   "metadata": {},
   "outputs": [
    {
     "data": {
      "application/javascript": [
       "MathJax.Hub.Config({\n",
       "    TeX: { equationNumbers: { autoNumber: \"AMS\" } }\n",
       "});\n",
       "MathJax.Hub.Queue(\n",
       "  [\"resetEquationNumbers\", MathJax.InputJax.TeX],\n",
       "  [\"PreProcess\", MathJax.Hub],\n",
       "  [\"Reprocess\", MathJax.Hub]\n",
       ");\n"
      ],
      "text/plain": [
       "<IPython.core.display.Javascript object>"
      ]
     },
     "metadata": {},
     "output_type": "display_data"
    }
   ],
   "source": [
    "%%javascript\n",
    "MathJax.Hub.Config({\n",
    "    TeX: { equationNumbers: { autoNumber: \"AMS\" } }\n",
    "});\n",
    "MathJax.Hub.Queue(\n",
    "  [\"resetEquationNumbers\", MathJax.InputJax.TeX],\n",
    "  [\"PreProcess\", MathJax.Hub],\n",
    "  [\"Reprocess\", MathJax.Hub]\n",
    ");"
   ]
  },
  {
   "cell_type": "markdown",
   "metadata": {},
   "source": [
    "### Description"
   ]
  },
  {
   "cell_type": "markdown",
   "metadata": {
    "variables": {
     "str(datetime.now())": "<p><strong>NameError</strong>: name &#39;datetime&#39; is not defined</p>\n"
    }
   },
   "source": [
    "Last executed: {{str(datetime.now())}}\n",
    "\n",
    "- **Major Step Description:** Simulate sky-locked, white-spectrum Gaussian field and estimate power spectrum with `hera_pspec.pspecdata`\n",
    "- **Minor Variation Description:** Generate flat-k, sky-locked Gaussian field and estimate power spectrum from an ensemble average.\n",
    "- **Pipelines Tested:** `hera_pspec.pspecdata`\n",
    "- **Criteria**:\n",
    "  1. Ensemble averaged power spectrum agrees with analytic prediction to within the predicted mean standard error.\n",
    "  "
   ]
  },
  {
   "cell_type": "markdown",
   "metadata": {},
   "source": [
    "### Summary"
   ]
  },
  {
   "cell_type": "markdown",
   "metadata": {},
   "source": [
    "The results of this validation test, in reference to the outlined criteria, are\n",
    "1. Test passed; ensemble averaged power spectrum estimate agrees with analytic expectation to 0.15%\n",
    "\n",
    "The ensemble of power spectrum estimates was histogrammed and the result nearly perfectly follows an exponential distribution with scale parameter set by the expected power spectrum amplitude."
   ]
  },
  {
   "cell_type": "markdown",
   "metadata": {},
   "source": [
    "### Software"
   ]
  },
  {
   "cell_type": "markdown",
   "metadata": {
    "variables": {
     "hp.version.git_hash": "<p><strong>NameError</strong>: name &#39;hp&#39; is not defined</p>\n",
     "np.version.version": "<p><strong>NameError</strong>: name &#39;np&#39; is not defined</p>\n",
     "pyuvdata.version.git_hash": "<p><strong>NameError</strong>: name &#39;pyuvdata&#39; is not defined</p>\n"
    }
   },
   "source": [
    "HERA software used in this validation test, with associate git commit hash:\n",
    "\n",
    "* ``hera_pspec``: ``{{hp.version.git_hash}}``\n",
    "* ``pyuvdata``: ``{{pyuvdata.version.git_hash}}``\n",
    "\n",
    "Versions of other software used in this validation test:\n",
    "\n",
    "* ``numpy``: ``v{{np.version.version}}``\n",
    "* ``matplotlib``: ``v2.2.3``"
   ]
  },
  {
   "cell_type": "markdown",
   "metadata": {},
   "source": [
    "### Data"
   ]
  },
  {
   "cell_type": "markdown",
   "metadata": {},
   "source": [
    "The following paths reflect the exact locations of all data used in this test:"
   ]
  },
  {
   "cell_type": "code",
   "execution_count": 3,
   "metadata": {},
   "outputs": [],
   "source": [
    "path0 = \"/lustre/aoc/projects/hera/alanman/eor_sky_sim/\"\n",
    "path1 = \"/lustre/aoc/projects/hera/Validation/test-0.1.0/Spectra/\""
   ]
  },
  {
   "cell_type": "markdown",
   "metadata": {},
   "source": [
    "## Data Retrieval\n",
    "\n"
   ]
  },
  {
   "cell_type": "markdown",
   "metadata": {},
   "source": [
    "### Power Spectrum Retrieval"
   ]
  },
  {
   "cell_type": "markdown",
   "metadata": {},
   "source": [
    "This section offers two methods of retrieving the ensemble of power spectra: the first is by loading in the pre-processed power spectra, while the second involves obtaining the power spectra from the visibility data."
   ]
  },
  {
   "cell_type": "code",
   "execution_count": 9,
   "metadata": {},
   "outputs": [],
   "source": [
    "# try to make a glob of the pre-processed files, make glob of sim files if not\n",
    "try:\n",
    "    dfiles = sorted(glob.glob('{}eor*.npz'.format(path1)))\n",
    "    data = np.load(dfiles[0])['arr_0']\n",
    "    prepro = True\n",
    "except:\n",
    "    dfiles = sorted(glob.glob('{}*24.*.uvh5'.format(path0)))\n",
    "    prepro = False\n",
    "\n",
    "# either way, we want to make a histogram, so let's define the bin edges\n",
    "bins = np.linspace(0, 1e7, 49)\n",
    "\n",
    "# if pre-processed files can't be found, then we need to process the simulation files\n",
    "if not prepro:\n",
    "    # process files\n",
    "    # this may be tricky, due to memory considerations. a single power spectrum data\n",
    "    # array occupies roughly 145 MB. if we only want to look at the ensemble averaged\n",
    "    # spectrum for one choice of taper, then this will certainly work with 32 GB of\n",
    "    # memory allocated to the process, but will be cutting it close and may throw a\n",
    "    # memory error if only 16 GB of memory is allocated to the process.\n",
    "    # this can be done in a much less memory-intensive way if we don't care about the\n",
    "    # individual power spectrum estimates, and only want the ensemble average. \n",
    "    # either way, this task is best done in parallel, but it's not exactly clear how\n",
    "    # to implement parallelization of this task.\n",
    "    # note that if this task is completed without using a parallelized algorithm,\n",
    "    # then it will take roughly 24 hours to complete on the NRAO cluster\n",
    "    \n",
    "    \n",
    "    pass # just leaving this here until I fill in the rest of this block\n",
    "else:\n",
    "    # get the ensemble average and fill out the histogram\n",
    "    \n",
    "    # first, make an array of zeros for the ensemble average\n",
    "    avg_spec = np.zeros(data.shape, dtype='complex128')\n",
    "    \n",
    "    # since we were able to load in the pre-processed files, let's make\n",
    "    # histograms for spectra computed with and without a taper\n",
    "    hist = np.zeros( (2, 3,len(bins)-1), dtype='float64') # no taper\n",
    "    \n",
    "    # we'll need to loop over data files\n",
    "    for f in dfiles:\n",
    "        # load in the data\n",
    "        data = np.load(f)['arr_0']\n",
    "        \n",
    "        # add it to the average spectrum, to be divided by the number of realizations\n",
    "        # later on in the script\n",
    "        avg_spec += data\n",
    "        \n",
    "        # update the histograms, but do this on a per-baseline basis\n",
    "        # we need to take the abs of the data first for histogramming\n",
    "        data = np.abs(data)\n",
    "        # from the README, axis-1 corresponds to baselines\n",
    "        for j in range(data.shape[1]):\n",
    "            # axis-0 corresponds to taper choice\n",
    "            # data[0] -> bh-taper\n",
    "            # data[1] -> no taper\n",
    "            hist[0,j] += np.histogram(data[1,j], bins=bins)[0]\n",
    "            hist[1,j] += np.histogram(data[0,j], bins=bins)[0]\n",
    "            \n",
    "    # we're done with our loops, so now divide the average spectrum array by the \n",
    "    # number of realizations\n",
    "    avg_spec /= len(dfiles)\n",
    "    \n",
    "    # let's normalize the histograms while we're at it\n",
    "    for j in range(hist.shape[1]):\n",
    "        hist[0,j] /= hist[0,j].sum()\n",
    "        hist[1,j] /= hist[1,j].sum()"
   ]
  },
  {
   "cell_type": "markdown",
   "metadata": {},
   "source": [
    "### Power Spectrum Amplitude Expectation"
   ]
  },
  {
   "cell_type": "markdown",
   "metadata": {},
   "source": [
    "In this section, we determine the expected amplitude of the power spectrum. The expected amplitude is given by $P_0 = \\sigma^2\\Delta\\nu\\Delta\\Omega X^2Y$, where $\\sigma^2$ is the variance of the sky-locked, spectrally-flat Gaussian distribution of 21-cm brightness temperature fluctuations; $\\Delta\\nu$ is the size of a frequency channel; $\\Delta\\Omega$ is the size of a pixel in the HEALPix map used for the simulation, given by $\\Delta\\Omega = 4\\pi/(12N_{side}^2)$; $X$ and $Y$ are cosmological scalars, used in the usual sense, evaluated at the redshift of the 21-cm line at band-center."
   ]
  },
  {
   "cell_type": "code",
   "execution_count": null,
   "metadata": {},
   "outputs": [],
   "source": [
    "# get a glob of simulation files and choose one at random\n",
    "dfile = glob.glob('{}*24*.uvh5'.format(path0))[0]\n",
    "\n",
    "# instantiate a UVData object and read the data file\n",
    "uvd = UVData()\n",
    "uvd.read_uvh5(dfile)\n",
    "\n",
    "# get the parameters needed to compute the expected amplitude of the power spectrum\n",
    "nside = uvd.extra_keywords[u'nside']\n",
    "dOmega = 4*np.pi/(12*nside**2)                 # sr\n",
    "skysig = uvd.extra_keywords[u'skysig'] * 1e3   # mK\n",
    "df = np.diff(np.unique(uvd.freq_array)).mean() # Hz\n",
    "f0 = 1420405751.767         # HI rest-frequency, Hz\n",
    "z = f0/np.median(np.unique(uvd.freq_array)) - 1 # redshift of HI line at band-center\n",
    "X2Y = hp.conversions.Cosmo_Conversions().X2Y(z) # (h^-1 Mpc)^3 sr^-1 Hz^-1\n",
    "\n",
    "# calculate expected power spectrum amplitude\n",
    "P0 = skysig**2*df*dOmega*X2Y                    # mK^2 h^-3 Mpc^3"
   ]
  },
  {
   "cell_type": "markdown",
   "metadata": {},
   "source": [
    "## Data Visualization"
   ]
  },
  {
   "cell_type": "markdown",
   "metadata": {},
   "source": [
    "In this section, we visualize the data collected in the previous section. We compare the ensemble-averaged power spectra to the expected power spectrum amplitude on a per-baseline basis, and we also examine the result averaged over baselines. We conclude the section by displaying the histograms calculated above, again on a per-baseline basis."
   ]
  },
  {
   "cell_type": "markdown",
   "metadata": {},
   "source": [
    "### Ensemble-Averaged Power Spectrum"
   ]
  },
  {
   "cell_type": "code",
   "execution_count": null,
   "metadata": {},
   "outputs": [],
   "source": [
    "# calculate the difference in the beam-squared integral (between the simulation and the\n",
    "# analytic result for a Gaussian beam), and get the delays for the power spectrum\n",
    "\n",
    "# define the cosmology\n",
    "cosmo = hp.conversions.Cosmo_Conversions()\n",
    "\n",
    "# get the beam fwhm\n",
    "bm_fwhm = np.radians(uvd.extra_keywords[u'bm_fwhm'])\n",
    "\n",
    "# make the beam object\n",
    "uvb = hp.PSpecBeamGauss(fwhm=bm_fwhm, beam_freqs=np.unique(uvd.freq_array), cosmo=cosmo)\n",
    "\n",
    "# get the beam-squared integral from the extra keywords and calculate it with hera_pspec\n",
    "bsq_int = uvd.extra_keywords[u'bsq_int']\n",
    "bsq_int_hp = uvb.power_beam_sq_int(pol='pI')\n",
    "\n",
    "# get the difference in the beam-squared integral\n",
    "# hera_pspec uses the analytic result, so we'll take that as the reference\n",
    "# for the correct value\n",
    "bsq_int_diff = bsq_int_hp - bsq_int\n",
    "bsq_int_diff_pct = 100*bsq_int_diff/bsq_int_hp\n",
    "\n",
    "# use hera_pspec.utils.get_delays to get the delays\n",
    "dlys = hp.utils.get_delays(np.unique(uvd.freq_array))\n",
    "\n",
    "# make a list of baselines\n",
    "bls = [(0,11), (0,12), (11,12)]"
   ]
  },
  {
   "cell_type": "code",
   "execution_count": null,
   "metadata": {},
   "outputs": [],
   "source": [
    "# average the results over time (axis-2) and plot the resulting delay spectrum for\n",
    "# each baseline, as well as the baseline-averaged result. for bonus points, include\n",
    "# a smaller figure with each plot showing the residual?\n",
    "time_avg_spec = avg_spec.mean(axis=2)\n",
    "bl_avg_spec = time_avg_spec.mean(axis=1)\n",
    "\n",
    "colors = ['teal', 'magenta', 'gold']\n",
    "tapers = ['Blackman-Harris', 'No']\n",
    "\n",
    "fig = plt.figure(figsize=(12,8))\n",
    "axes = fig.subplots(2,1)\n",
    "for j, taper in enumerate(tapers):\n",
    "    # label axes\n",
    "    axes[j].set_xlabel('Delay [ns]', fontsize=12)\n",
    "    axes[j].set_ylabel(r'Power [mK$^2$ $h^{-3}$ Mpc$^3$]', fontsize=12)\n",
    "    axes[j].set_title('Ensemble Averaged Power Spectrum Estimate Using {} Taper'.format(taper), fontsize=12)\n",
    "\n",
    "    # plot spectra for each baseline\n",
    "    for k, bl in enumerate(bls):\n",
    "        axes[j].plot(dlys, time_avg_spec[j,k], color=colors[k], alpha=0.7, label=bl)\n",
    "    \n",
    "    # plot baseline-averaged spectrum\n",
    "    axes[j].plot(dlys, bl_avg_spec[j], color='steelgrey', alpha=0.7, label='Baseline Average')\n",
    "    \n",
    "    # plot expected amplitude\n",
    "    axes[j].axhline(P0, ls='--', color='k', alpha=0.8, label='Expected Value')\n",
    "    \n",
    "    # make a legend\n",
    "    axes[j].legend(ncol=2)\n",
    "\n",
    "# show the plot\n",
    "plt.tight_layout()\n",
    "plt.show()"
   ]
  },
  {
   "cell_type": "markdown",
   "metadata": {},
   "source": [
    "**Figure x |** something"
   ]
  },
  {
   "cell_type": "code",
   "execution_count": null,
   "metadata": {},
   "outputs": [],
   "source": [
    "# show the discrepancy in the results numerically\n",
    "\n",
    "# calculate estimated power spectrum amplitudes\n",
    "avg_spec_amps = time_avg_spec.mean(axis=-1)\n",
    "\n",
    "# loop over tapers\n",
    "for j, taper in enumerate(tapers):\n",
    "    # loop over baselines\n",
    "    for k, bl in enumerate(bls):\n",
    "        disc = 100*(P0 - avg_spec_amps[j,k])/P0\n",
    "        print('\\nPercent discrepancy for baseline {} with {} taper: {}%'.format(bl, taper, disc))\n",
    "    \n",
    "    # show discrepancy for baseline-averaged results\n",
    "    disc = 100*(P0 - avg_spec_amps[j].mean())/P0\n",
    "    print('\\nPercent discrepancy for baseline-average with {} taper: {}%'.format(taper, disc))\n",
    "    \n",
    "# for reference, show discrepancy in beam-squared integral\n",
    "print('\\nDiscrepancy in beam-squared integral: {}%'.format(bsq_int_diff_pct))"
   ]
  },
  {
   "cell_type": "markdown",
   "metadata": {},
   "source": [
    "### Histograms"
   ]
  },
  {
   "cell_type": "code",
   "execution_count": null,
   "metadata": {},
   "outputs": [],
   "source": [
    "# calculate an exponential distribution using the bins from earlier and the power\n",
    "# spectrum expected amplitude. normalize it by using .sum() on the array. plot the\n",
    "# histograms on top of the exponential distribution.\n",
    "exp_dist = np.exp(-powers/P0)\n",
    "normed_exp = exp_dist/exp_dist.sum()\n",
    "\n",
    "# make plots\n",
    "fig = plt.figure(figsize=(15,15))\n",
    "axes = fig.subplots(3,2)\n",
    "for j, bl in enumerate(bls):\n",
    "    for k, taper in enumerate(tapers):\n",
    "        # label axes\n",
    "        axes[j,k].set_xlabel(r'Power [mK$^2$ $h^{-3}$ Mpc$^3$]', fontsize=12)\n",
    "        axes[j,k].set_ylabel(r'$N/N_\\mathrm{tot}$', fontsize=12)\n",
    "        axes[j,k].set_title('Baseline: {}; Taper: {}'.format(bl, taper))\n",
    "        \n",
    "        # plot exponential distribution first\n",
    "        axes[j,k].plot(powers, normed_exp, color='magenta', alpha=0.8, label='Expected Distribution')\n",
    "        \n",
    "        # plot measured distribution\n",
    "        axes[j,k].scatter(powers, hist[k,j], color='k', marker='o', label='Measured Distribution')\n",
    "        \n",
    "        # add a legend\n",
    "        axes[j,k].legend(loc='upper right')\n",
    "        \n",
    "# show the figure\n",
    "plt.tight_layout()\n",
    "plt.show()"
   ]
  },
  {
   "cell_type": "markdown",
   "metadata": {},
   "source": [
    "**Figure x |** something"
   ]
  }
 ],
 "metadata": {
  "kernelspec": {
   "display_name": "Python 3",
   "language": "python",
   "name": "python3"
  },
  "language_info": {
   "codemirror_mode": {
    "name": "ipython",
    "version": 3
   },
   "file_extension": ".py",
   "mimetype": "text/x-python",
   "name": "python",
   "nbconvert_exporter": "python",
   "pygments_lexer": "ipython3",
   "version": "3.7.3"
  },
  "toc": {
   "base_numbering": 1,
   "nav_menu": {},
   "number_sections": true,
   "sideBar": true,
   "skip_h1_title": false,
   "title_cell": "Table of Contents",
   "title_sidebar": "Contents",
   "toc_cell": true,
   "toc_position": {},
   "toc_section_display": true,
   "toc_window_display": false
  }
 },
 "nbformat": 4,
 "nbformat_minor": 2
}
