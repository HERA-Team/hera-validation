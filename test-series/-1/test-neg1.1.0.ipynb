{
 "cells": [
  {
   "cell_type": "markdown",
   "metadata": {},
   "source": [
    "# Validation of `RIMEz` against `pyuvsim` reference simulations\n",
    "\n",
    "Lily Whitler, Steven Murray, and the HERA Validation Team"
   ]
  },
  {
   "cell_type": "markdown",
   "metadata": {},
   "source": [
    "<h3 id=\"tocheading\">Table of Contents</h3>\n",
    "<div id=\"toc\"></div>"
   ]
  },
  {
   "cell_type": "code",
   "execution_count": 1,
   "metadata": {},
   "outputs": [
    {
     "data": {
      "application/javascript": [
       "$.getScript('https://kmahelona.github.io/ipython_notebook_goodies/ipython_notebook_toc.js')\n"
      ],
      "text/plain": [
       "<IPython.core.display.Javascript object>"
      ]
     },
     "metadata": {},
     "output_type": "display_data"
    }
   ],
   "source": [
    "%%javascript\n",
    "$.getScript('https://kmahelona.github.io/ipython_notebook_goodies/ipython_notebook_toc.js')"
   ]
  },
  {
   "cell_type": "markdown",
   "metadata": {},
   "source": [
    "## Setup and Metadata"
   ]
  },
  {
   "cell_type": "markdown",
   "metadata": {},
   "source": [
    "### Abstract"
   ]
  },
  {
   "cell_type": "markdown",
   "metadata": {},
   "source": [
    "We compare point-source visibilities simulated with `RIMEz` to the first set of reference simulations produced by `pyuvsim`."
   ]
  },
  {
   "cell_type": "markdown",
   "metadata": {},
   "source": [
    "### Imports"
   ]
  },
  {
   "cell_type": "code",
   "execution_count": 2,
   "metadata": {},
   "outputs": [],
   "source": [
    "%matplotlib inline\n",
    "import matplotlib.pyplot as plt\n",
    "import numpy as np\n",
    "from datetime import datetime\n",
    "import os\n",
    "\n",
    "import astropy.units as u\n",
    "from astropy.coordinates import SkyCoord, EarthLocation, AltAz\n",
    "from astropy.time import Time\n",
    "from astropy import constants as const\n",
    "\n",
    "import uvtools\n",
    "from pyuvdata import UVData"
   ]
  },
  {
   "cell_type": "code",
   "execution_count": 3,
   "metadata": {},
   "outputs": [
    {
     "data": {
      "application/javascript": [
       "MathJax.Hub.Config({\n",
       "    TeX: { equationNumbers: { autoNumber: \"AMS\" } }\n",
       "});\n",
       "MathJax.Hub.Queue(\n",
       "  [\"resetEquationNumbers\", MathJax.InputJax.TeX],\n",
       "  [\"PreProcess\", MathJax.Hub],\n",
       "  [\"Reprocess\", MathJax.Hub]\n",
       ");\n"
      ],
      "text/plain": [
       "<IPython.core.display.Javascript object>"
      ]
     },
     "metadata": {},
     "output_type": "display_data"
    }
   ],
   "source": [
    "%%javascript\n",
    "MathJax.Hub.Config({\n",
    "    TeX: { equationNumbers: { autoNumber: \"AMS\" } }\n",
    "});\n",
    "MathJax.Hub.Queue(\n",
    "  [\"resetEquationNumbers\", MathJax.InputJax.TeX],\n",
    "  [\"PreProcess\", MathJax.Hub],\n",
    "  [\"Reprocess\", MathJax.Hub]\n",
    ");"
   ]
  },
  {
   "cell_type": "markdown",
   "metadata": {},
   "source": [
    "### Description"
   ]
  },
  {
   "cell_type": "code",
   "execution_count": 4,
   "metadata": {},
   "outputs": [
    {
     "name": "stdout",
     "output_type": "stream",
     "text": [
      "Last executed: 2020-05-18 14:29:58.888724\n"
     ]
    }
   ],
   "source": [
    "print(\"Last executed: %s\"%str(datetime.now()))"
   ]
  },
  {
   "cell_type": "markdown",
   "metadata": {},
   "source": [
    "- **Major Step Description:** {Insert standard description of major step}\n",
    "- **Minor Variation Description:** {Insert standard description of minor step}\n",
    "- **Pipelines Tested:** {Brief list of explicit pipelines tested in the notebook}\n",
    "- **Criteria**:\n",
    "  1. {Explicit Criterion for success 1}\n",
    "  2. {Explicit Criterion for success 2}\n",
    "  "
   ]
  },
  {
   "cell_type": "markdown",
   "metadata": {},
   "source": [
    "### Summary"
   ]
  },
  {
   "cell_type": "markdown",
   "metadata": {},
   "source": [
    "The results of this validation test, in reference to the outlined criteria, are\n",
    "1. {Test results for criteria 1}\n",
    "2. {Test results for criteria 2...}\n",
    "\n",
    "{Brief notes on anything else interesting that was noted during testing}"
   ]
  },
  {
   "cell_type": "markdown",
   "metadata": {},
   "source": [
    "### Software"
   ]
  },
  {
   "cell_type": "markdown",
   "metadata": {},
   "source": [
    "HERA software used in this validation test, with associate git commit hash:\n",
    "\n",
    "* {``pyuvdata``: `a8f6b6fdd7261`}\n",
    "* {If you have the Python Markdown extension, you can do this: ``pyuvdata``: ``{pyuvdata.version.git_hash}``\n",
    "* {``hera_qm``: `f3e32c3cef36cbd`}\n",
    "* {etc.}\n",
    "\n",
    "Versions of other software used in this validation test:\n",
    "\n",
    "* {``numpy``: vx.x.x}\n",
    "* {etc. (only list imported modules).}"
   ]
  },
  {
   "cell_type": "markdown",
   "metadata": {},
   "source": [
    "### Utility Functions"
   ]
  },
  {
   "cell_type": "code",
   "execution_count": 5,
   "metadata": {},
   "outputs": [],
   "source": [
    "# Omnibus plotting function that got out of hand, I'll split this up later\n",
    "def plot_comparison(ref_uvd, rimez_uvd, bls, times, alt_az,\n",
    "                    horizon_cross=None,\n",
    "                    pol='ee', component='amp',\n",
    "                    difference=False, diff_first=True,\n",
    "                    fig=None, colors=['#5296C1', '#2F0F3E']):\n",
    "    # Map between X/Y and E/N polarizations\n",
    "    # X is east and Y is north in pyuvsim, per Adam Lanman\n",
    "    x_orientation, y_orientation = 'e', 'n'\n",
    "    ref_pols, rimez_pols = ref_uvd.get_pols(), rimez_uvd.get_pols()\n",
    "    pol_dict = {}\n",
    "    for xy_pol in ref_pols:\n",
    "        en_pol = xy_pol.replace('x', x_orientation).replace('y', y_orientation)\n",
    "        pol_dict[en_pol] = xy_pol  # Mapping between E/N and X/Y\n",
    "                \n",
    "    if component == 'real':\n",
    "        function = np.real\n",
    "        name = 'Real'\n",
    "    elif component == 'imag':\n",
    "        function = np.imag\n",
    "        name = 'Imag'\n",
    "    elif component == 'amp':\n",
    "        function = np.abs\n",
    "        name = 'Amp'\n",
    "    elif component == 'phase':\n",
    "        function = np.angle\n",
    "        name = 'Phase'\n",
    "    \n",
    "    if fig is None:\n",
    "        fig = plt.gcf()\n",
    "    ax = fig.axes  # This gives a list, even if there's only one subplot\n",
    "    \n",
    "    alt_az_cols, alt_az_lines = ['#3B4F8A', '#3FBC72'], ['-', '--']\n",
    "    ax[0].axhline(0, c='#6B6B6B', ls=':', lw=1.5)\n",
    "    for i, aa in enumerate(alt_az):\n",
    "        ax[0].plot(times, aa.alt, c=alt_az_cols[i % 2], ls=alt_az_lines[i % 2])\n",
    "        ax[1].plot(times, aa.az, c=alt_az_cols[i % 2], ls=alt_az_lines[i % 2])\n",
    "    ax[0].set_ylabel('Alt  [$^\\circ$]')\n",
    "    ax[1].set_ylabel('Az  [$^\\circ$]')\n",
    "        \n",
    "    for i, bl in enumerate(bls):\n",
    "        ant1, ant2 = ref_uvd.baseline_to_antnums(bl)\n",
    "        key_ref = (ant1, ant2, pol_dict[pol])\n",
    "        key_rimez = (ant1, ant2, pol)\n",
    "        \n",
    "        if horizon_cross is not None:\n",
    "            for cross in horizon_cross:\n",
    "                ax[i].axvspan(times[cross-1], times[cross], color='#6B6B6B')\n",
    "        \n",
    "        # Plot the difference\n",
    "        if difference:\n",
    "            times = ref_uvd.get_times(key_ref)\n",
    "            if diff_first:\n",
    "                diff_data = function(rimez_uvd.get_data(key_rimez) - ref_uvd.get_data(key_ref))\n",
    "                label = '{}(RIMEz - reference)'.format(name)\n",
    "            else:\n",
    "                diff_data = function(rimez_uvd.get_data(key_rimez)) - function(ref_uvd.get_data(key_ref))\n",
    "                label = '{}(RIMEz) - {}(reference)'.format(name, name)\n",
    "            ax[i+2].axhline(0, c='#6B6B6B', ls=':', lw=1.5)\n",
    "            ax[i+2].plot(times, diff_data, c=colors[1], label=label)\n",
    "            ncols = 1\n",
    "            \n",
    "        # Or just overplot the visibilities\n",
    "        else:\n",
    "            ref_data = function(ref_uvd.get_data(key_ref))\n",
    "            rimez_data = function(rimez_uvd.get_data(key_rimez))\n",
    "            ax[i+2].plot(times, ref_data, c=colors[0], label='reference')\n",
    "            ax[i+2].plot(times, rimez_data, c=colors[1], ls='-', label='RIMEz')\n",
    "            ncols = 2\n",
    "        ax[i+2].set_ylabel(name)\n",
    "        ax[i+2].text(1.02, 0.5, '({}, {})'.format(ant1, ant2), ha='center',\n",
    "                   va='center', rotation=270, transform=ax[i+2].transAxes)\n",
    "    ax[-1].set_xlabel('Time')\n",
    "    ax[-1].legend(loc='center', ncol=ncols, frameon=False, bbox_to_anchor=(0.5, -0.85))\n",
    "    fig.tight_layout()"
   ]
  },
  {
   "cell_type": "markdown",
   "metadata": {},
   "source": [
    "### Data"
   ]
  },
  {
   "cell_type": "markdown",
   "metadata": {},
   "source": [
    "The following paths point to the configuration files used to create the `RIMEz` simulations used in this notebook, but are never read here."
   ]
  },
  {
   "cell_type": "code",
   "execution_count": 6,
   "metadata": {},
   "outputs": [
    {
     "name": "stdout",
     "output_type": "stream",
     "text": [
      "1.1_uniform: /home/lwhitler/src/pyuvsim/reference_simulations/first_reference_simulations/obsparam_ref_1.1_downsampled_mwa.yaml\n",
      "1.2_uniform: /home/lwhitler/src/pyuvsim/reference_simulations/first_reference_simulations/obsparam_ref_1.2_uniform.yaml\n",
      "1.2_gauss: /home/lwhitler/src/pyuvsim/reference_simulations/first_reference_simulations/obsparam_ref_1.2_gauss.yaml\n",
      "1.3_uniform: /home/lwhitler/src/pyuvsim/reference_simulations/first_reference_simulations/obsparam_ref_1.3_uniform.yaml\n",
      "1.3_gauss: /home/lwhitler/src/pyuvsim/reference_simulations/first_reference_simulations/obsparam_ref_1.3_gauss.yaml\n"
     ]
    }
   ],
   "source": [
    "config_base = '/home/lwhitler/src/pyuvsim/reference_simulations/first_reference_simulations'\n",
    "config_dict = {'1.1_uniform': os.path.join(config_base, 'obsparam_ref_1.1_downsampled_mwa.yaml'),\n",
    "               '1.2_uniform': os.path.join(config_base, 'obsparam_ref_1.2_uniform.yaml'),\n",
    "               '1.2_gauss': os.path.join(config_base, 'obsparam_ref_1.2_gauss.yaml'),\n",
    "               '1.3_uniform': os.path.join(config_base, 'obsparam_ref_1.3_uniform.yaml'),\n",
    "               '1.3_gauss': os.path.join(config_base, 'obsparam_ref_1.3_gauss.yaml')}\n",
    "\n",
    "for key in config_dict.keys():\n",
    "    print('{}: {}'.format(key, config_dict[key]))"
   ]
  },
  {
   "cell_type": "markdown",
   "metadata": {},
   "source": [
    "The following paths reflect the exact locations of all data used in this test. The `RIMEz` data was created with the script found at `/home/lwhitler/data/validation/rimez/prepare_rimez_data.py`."
   ]
  },
  {
   "cell_type": "code",
   "execution_count": 7,
   "metadata": {},
   "outputs": [],
   "source": [
    "# All paths are temporarily on Enterprise until I can move things to Lustre\n",
    "ref_path = '/home/lwhitler/src/pyuvsim/reference_simulations/latest_ref_data/v1'\n",
    "ref_path_dict = {'1.1_uniform': os.path.join(ref_path, 'ref_1.1_uniform.uvh5'),\n",
    "                 '1.2_uniform': os.path.join(ref_path, 'ref_1.2_uniform.uvh5'),\n",
    "                 '1.2_gauss': os.path.join(ref_path, 'ref_1.2_gauss.uvh5'),\n",
    "                 '1.3_uniform': os.path.join(ref_path, 'ref_1.3_uniform.uvh5'),\n",
    "                 '1.3_gauss': os.path.join(ref_path, 'ref_1.3_gauss.uvh5')}\n",
    "\n",
    "# There is some trickiness with values of lmax in filenames--this will be addressed later\n",
    "rimez_path = '/home/lwhitler/data/validation/rimez/rimez_sims'\n",
    "rimez_path_dict = {'1.1_uniform': os.path.join(rimez_path, 'rimez_1.1_uniform_lmax249.uvh5'),\n",
    "                   '1.2_uniform': os.path.join(rimez_path, 'rimez_1.2_uniform_lmax250.uvh5'),\n",
    "                   '1.2_gauss': os.path.join(rimez_path, 'rimez_1.2_gauss_lmax250.uvh5'),\n",
    "                   '1.3_uniform': os.path.join(rimez_path, 'rimez_1.3_uniform_lmax470.uvh5'),\n",
    "                   '1.3_gauss': os.path.join(rimez_path, 'rimez_1.3_gauss_lmax470.uvh5')}"
   ]
  },
  {
   "cell_type": "markdown",
   "metadata": {},
   "source": [
    "## Reference simulations 1.2 (long time axis)"
   ]
  },
  {
   "cell_type": "code",
   "execution_count": 8,
   "metadata": {},
   "outputs": [
    {
     "name": "stderr",
     "output_type": "stream",
     "text": [
      "Telescope BLLITE is not in known_telescopes.\n",
      "Telescope RIMEz is not in known_telescopes.\n"
     ]
    }
   ],
   "source": [
    "uvd_ref_12_uniform, uvd_ref_12_gauss = UVData(), UVData()\n",
    "uvd_ref_12_uniform.read(ref_path_dict['1.2_uniform'], run_check_acceptability=False)\n",
    "uvd_ref_12_gauss.read(ref_path_dict['1.2_gauss'], run_check_acceptability=False)\n",
    "\n",
    "uvd_rimez_12_uniform, uvd_rimez_12_gauss = UVData(), UVData()\n",
    "uvd_rimez_12_uniform.read(rimez_path_dict['1.2_uniform'], run_check_acceptability=False)\n",
    "uvd_rimez_12_gauss.read(rimez_path_dict['1.2_gauss'], run_check_acceptability=False)"
   ]
  },
  {
   "cell_type": "markdown",
   "metadata": {},
   "source": [
    "### Array layout"
   ]
  },
  {
   "cell_type": "code",
   "execution_count": 14,
   "metadata": {},
   "outputs": [
    {
     "data": {
      "image/png": "[encoded data removed]",
      "text/plain": [
       "<Figure size 432x432 with 1 Axes>"
      ]
     },
     "metadata": {
      "needs_background": "light"
     },
     "output_type": "display_data"
    }
   ],
   "source": [
    "antpos, ants = uvd_ref_12_uniform.get_ENU_antpos()\n",
    "fig1, ax1 = plt.subplots(1, 1, figsize=(6, 6))\n",
    "for i in range(len(ants)):\n",
    "    ax1.scatter(antpos[i, 0], antpos[i, 1], c='k')\n",
    "    ax1.text(antpos[i, 0], antpos[i, 1]-5, 'Antenna {}'.format(i), ha='center', fontsize=14)\n",
    "ax1.set_xlabel('Distance  [m]')\n",
    "ax1.set_ylabel('Distance  [m]')\n",
    "ax1.set_xlim([-10, 60])\n",
    "ax1.set_ylim([-60, 5]);"
   ]
  },
  {
   "cell_type": "code",
   "execution_count": 16,
   "metadata": {},
   "outputs": [],
   "source": [
    "# NOTE: Would like to be able to plot the source path -- save alt/az from another notebook?"
   ]
  },
  {
   "cell_type": "markdown",
   "metadata": {},
   "source": [
    "### Uniform beam"
   ]
  },
  {
   "cell_type": "code",
   "execution_count": null,
   "metadata": {},
   "outputs": [],
   "source": [
    "# Overplot amplitudes\n",
    "fig3, ax3 = plt.subplots(len(bls)+2, 1, sharex='col', figsize=(8, 9))\n",
    "plot_comparison(ref_uniform, rimez_uniform, bls, times, alt_az, horizon_cross, component='amp', fig=fig3)\n",
    "for ax in ax3[2:]:\n",
    "    ax.set_ylim([0.495, 0.505])"
   ]
  },
  {
   "cell_type": "markdown",
   "metadata": {},
   "source": [
    "### Gaussian beam"
   ]
  },
  {
   "cell_type": "markdown",
   "metadata": {},
   "source": [
    "## Reference Simulations 1.3 (long frequency axis)"
   ]
  },
  {
   "cell_type": "markdown",
   "metadata": {},
   "source": [
    "### Uniform beam"
   ]
  },
  {
   "cell_type": "markdown",
   "metadata": {},
   "source": [
    "### Gaussian beam"
   ]
  },
  {
   "cell_type": "code",
   "execution_count": null,
   "metadata": {},
   "outputs": [],
   "source": []
  }
 ],
 "metadata": {
  "kernelspec": {
   "display_name": "Python 3",
   "language": "python",
   "name": "python3"
  },
  "language_info": {
   "codemirror_mode": {
    "name": "ipython",
    "version": 3
   },
   "file_extension": ".py",
   "mimetype": "text/x-python",
   "name": "python",
   "nbconvert_exporter": "python",
   "pygments_lexer": "ipython3",
   "version": "3.8.2"
  }
 },
 "nbformat": 4,
 "nbformat_minor": 2
}
