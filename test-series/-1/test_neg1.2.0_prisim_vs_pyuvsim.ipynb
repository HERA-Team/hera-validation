{
 "cells": [
  {
   "cell_type": "markdown",
   "metadata": {},
   "source": [
    "# Test -1.2: PRISim and pyuvsim Comparison\n",
    "\n",
    "Piyanat Kittiwisit, Steven Murray, and the HERA Validation Team"
   ]
  },
  {
   "cell_type": "markdown",
   "metadata": {},
   "source": [
    "<h3 id=\"tocheading\">Table of Contents</h3>\n",
    "<div id=\"toc\"></div>\n",
    "\n",
    "{We recommend installing jupyter_contrib_nbextensions and enabling the Table of Contents(2) extension, at which point this section can be removed, as it will be generated automatically.  The simplest way of doing this is ``conda install -c conda-forge jupyter_contrib_nbextensions``. To enable the extension, either go to ``localhost:xxxx/nbextensions`` and switch it on, or use ``jupyter nbextension enable toc2/main``. You'll also need to switch on the option to \"Add a Table of Contents cell at the top of the notebook\". Then delet this and the following javascript cell. \n",
    "\n",
    "If you don't want to install this, then leave the heading and javascript here, and execute the JS cell right before submitting the notebook.\n",
    "}"
   ]
  },
  {
   "cell_type": "code",
   "execution_count": 2,
   "metadata": {
    "ExecuteTime": {
     "end_time": "2020-01-13T15:12:48.714217Z",
     "start_time": "2020-01-13T15:12:48.689508Z"
    }
   },
   "outputs": [
    {
     "data": {
      "application/javascript": [
       "$.getScript('https://kmahelona.github.io/ipython_notebook_goodies/ipython_notebook_toc.js')\n"
      ],
      "text/plain": [
       "<IPython.core.display.Javascript object>"
      ]
     },
     "metadata": {},
     "output_type": "display_data"
    }
   ],
   "source": [
    "%%javascript\n",
    "$.getScript('https://kmahelona.github.io/ipython_notebook_goodies/ipython_notebook_toc.js')"
   ]
  },
  {
   "cell_type": "markdown",
   "metadata": {},
   "source": [
    "## Setup and Metadata"
   ]
  },
  {
   "cell_type": "markdown",
   "metadata": {},
   "source": [
    "### Abstract"
   ]
  },
  {
   "cell_type": "markdown",
   "metadata": {},
   "source": [
    "### Model\n",
    "\n",
    "The `healvis` sky model consists of a Gaussian with a peak value of 1 Jy/pixel, FWHM of 20°, drawn onto a HEALPix map with Nside=128. The observation time covers 24 hours of LST with time steps of 10 minutes. Frequencies are 100 to 130MHz with 97.66kHz channel widths.\n",
    "\n",
    "In order to run this sky model in `pyuvsim`, it needs to be converted to an equivalent set of point sources. `healvis` approximates a diffuse map as a set of point sources located at the pixel centers. The sky model is converted to a point source catalog by multiplying the pixel values by the pixel area and scaling by a conversion factor. This model is saved as an npz file to be loaded into `pyuvsim`.\n",
    "\n",
    "Since `pyuvsim` cannot yet simulate sources with spectral structure, the `healvis` model is made with a flat spectrum.\n",
    "\n",
    "The array layout is a 37 element hex with 14.6m spacing. Primary beams are Airy disk patterns with Diameter set to 14m."
   ]
  },
  {
   "cell_type": "markdown",
   "metadata": {},
   "source": [
    "### Imports"
   ]
  },
  {
   "cell_type": "code",
   "execution_count": 3,
   "metadata": {
    "ExecuteTime": {
     "end_time": "2020-01-13T15:15:48.155499Z",
     "start_time": "2020-01-13T15:15:46.212876Z"
    }
   },
   "outputs": [],
   "source": [
    "%matplotlib inline\n",
    "from datetime import datetime\n",
    "\n",
    "import numpy as np\n",
    "import matplotlib as mpl\n",
    "import matplotlib.pyplot as plt\n",
    "\n",
    "from pyuvdata import UVData\n",
    "import uvtools\n",
    "import healpy as hp\n",
    "\n",
    "mpl.rcParams['figure.figsize'] = [10, 8]"
   ]
  },
  {
   "cell_type": "code",
   "execution_count": 4,
   "metadata": {
    "ExecuteTime": {
     "end_time": "2020-01-13T15:13:05.651681Z",
     "start_time": "2020-01-13T15:13:05.641458Z"
    }
   },
   "outputs": [
    {
     "data": {
      "application/javascript": [
       "MathJax.Hub.Config({\n",
       "    TeX: { equationNumbers: { autoNumber: \"AMS\" } }\n",
       "});\n",
       "MathJax.Hub.Queue(\n",
       "  [\"resetEquationNumbers\", MathJax.InputJax.TeX],\n",
       "  [\"PreProcess\", MathJax.Hub],\n",
       "  [\"Reprocess\", MathJax.Hub]\n",
       ");\n"
      ],
      "text/plain": [
       "<IPython.core.display.Javascript object>"
      ]
     },
     "metadata": {},
     "output_type": "display_data"
    }
   ],
   "source": [
    "%%javascript\n",
    "MathJax.Hub.Config({\n",
    "    TeX: { equationNumbers: { autoNumber: \"AMS\" } }\n",
    "});\n",
    "MathJax.Hub.Queue(\n",
    "  [\"resetEquationNumbers\", MathJax.InputJax.TeX],\n",
    "  [\"PreProcess\", MathJax.Hub],\n",
    "  [\"Reprocess\", MathJax.Hub]\n",
    ");"
   ]
  },
  {
   "cell_type": "markdown",
   "metadata": {},
   "source": [
    "### Description"
   ]
  },
  {
   "cell_type": "code",
   "execution_count": 5,
   "metadata": {
    "ExecuteTime": {
     "end_time": "2020-01-13T15:13:07.431432Z",
     "start_time": "2020-01-13T15:13:07.424233Z"
    }
   },
   "outputs": [
    {
     "name": "stdout",
     "output_type": "stream",
     "text": [
      "Last executed: 2020-03-26 14:12:49.249877\n"
     ]
    }
   ],
   "source": [
    "print(\"Last executed: %s\"%str(datetime.now()))"
   ]
  },
  {
   "cell_type": "markdown",
   "metadata": {},
   "source": [
    "{If you installed the ``jupyter_contrib_nbextensions``, then enable the \"Python Markdown\" extension, remove the line above, and keep the following line. Otherwise, remove the following line and keep the line above.}\n",
    "\n",
    "Last executed: {str(datetime.now())}\n",
    "\n",
    "- **Major Step Description:** {Insert standard description of major step}\n",
    "- **Minor Variation Description:** {Insert standard description of minor step}\n",
    "- **Pipelines Tested:** {Brief list of explicit pipelines tested in the notebook}\n",
    "- **Criteria**:\n",
    "  1. {Explicit Criterion for success 1}\n",
    "  2. {Explicit Criterion for success 2}\n",
    "  "
   ]
  },
  {
   "cell_type": "markdown",
   "metadata": {},
   "source": [
    "### Summary"
   ]
  },
  {
   "cell_type": "markdown",
   "metadata": {},
   "source": [
    "The results of this validation test, in reference to the outlined criteria, are\n",
    "1. {Test results for criteria 1}\n",
    "2. {Test results for criteria 2...}\n",
    "\n",
    "{Brief notes on anything else interesting that was noted during testing}"
   ]
  },
  {
   "cell_type": "markdown",
   "metadata": {},
   "source": [
    "### Software"
   ]
  },
  {
   "cell_type": "markdown",
   "metadata": {},
   "source": [
    "HERA software used in this validation test, with associate git commit hash:\n",
    "\n",
    "* {``pyuvdata``: `229e0beeb6ed`}\n",
    "* {If you have the Python Markdown extension, you can do this: ``pyuvdata``: ``{pyuvdata.version.git_hash}``\n",
    "* {``healvis`` : version 1.1.0, `6d736fc8da42d`\n",
    "* {``pyuvsim`` : version 1.1.0, `da21d37048850`}\n",
    "\n",
    "Versions of other software used in this validation test:\n",
    "\n",
    "* {``numpy``: vx.x.x}\n",
    "* {etc. (only list imported modules).}"
   ]
  },
  {
   "cell_type": "markdown",
   "metadata": {},
   "source": [
    "### Data"
   ]
  },
  {
   "cell_type": "markdown",
   "metadata": {},
   "source": [
    "The following paths reflect the exact locations of all data used in this test:"
   ]
  },
  {
   "cell_type": "code",
   "execution_count": null,
   "metadata": {},
   "outputs": [],
   "source": []
  },
  {
   "cell_type": "code",
   "execution_count": 6,
   "metadata": {
    "ExecuteTime": {
     "end_time": "2020-01-13T15:16:00.785094Z",
     "start_time": "2020-01-13T15:16:00.780096Z"
    },
    "pycharm": {
     "name": "#%%\n"
    }
   },
   "outputs": [],
   "source": [
    "pyuvsim_vis_path = \"./pyuvsim_ref/simulation_results/\"\n",
    "prisim_vis_path = \"./prisim_ref2/\""
   ]
  },
  {
   "cell_type": "markdown",
   "metadata": {},
   "source": [
    "### Declaration"
   ]
  },
  {
   "cell_type": "code",
   "execution_count": 7,
   "metadata": {},
   "outputs": [],
   "source": [
    "def read_prisim(filepath):\n",
    "    \"\"\"Read PRISim simulation file and inverse antenna numbering.\n",
    "    \n",
    "    PRISim uses ant2 > ant1 for antenna numbering convernsion, \n",
    "    whereas pyuvsim uses ant1 > ant2. This function read the \n",
    "    PRISim simulation file (usually in *.uvfits) into a UVData \n",
    "    object and invert the antenna numbering.\n",
    "    \n",
    "    Parameters\n",
    "    ----------\n",
    "    filepath: str\n",
    "        Path to prisim simulation file\n",
    "    \n",
    "    Returns\n",
    "    -------\n",
    "    out: UVData\n",
    "        PRISim simulation in UVData object with antenna numbering\n",
    "        inverted (ant1 > ant2) to match pyuvsim convention.\n",
    "    \n",
    "    \"\"\"\n",
    "    UV = UVData()\n",
    "    UV.read(filepath)\n",
    "#     UV.select(frequencies=UV.freq_array[0][1])\n",
    "    inds = np.where(UV.ant_2_array > UV.ant_1_array)\n",
    "    UV.uvw_array[inds] *= (-1)\n",
    "    UV.data_array[inds] = np.conj(UV.data_array[inds])\n",
    "    dummy_1 = UV.ant_1_array[inds] \n",
    "    dummy_2 = UV.ant_2_array[inds] \n",
    "    UV.ant_1_array[inds] = dummy_2\n",
    "    UV.ant_2_array[inds] = dummy_1\n",
    "    UV.baseline_array = UV.antnums_to_baseline(UV.ant_1_array, UV.ant_2_array)\n",
    "    return UV"
   ]
  },
  {
   "cell_type": "markdown",
   "metadata": {},
   "source": [
    "## Reference 1.1"
   ]
  },
  {
   "cell_type": "markdown",
   "metadata": {},
   "source": [
    "Get file paths for reference 1.1"
   ]
  },
  {
   "cell_type": "code",
   "execution_count": 8,
   "metadata": {
    "ExecuteTime": {
     "end_time": "2020-01-13T15:16:01.533534Z",
     "start_time": "2020-01-13T15:16:01.528634Z"
    }
   },
   "outputs": [],
   "source": [
    "ref1_pyuvsim_path = pyuvsim_vis_path + \"/ref_1.1_uniform.uvfits\"\n",
    "ref1_prisim_path = prisim_vis_path + \"/1.1e/simdata/all-simvis-noiseless.uvfits\""
   ]
  },
  {
   "cell_type": "markdown",
   "metadata": {},
   "source": [
    "Read `pyuvsim` simulation"
   ]
  },
  {
   "cell_type": "code",
   "execution_count": 9,
   "metadata": {
    "ExecuteTime": {
     "end_time": "2020-01-13T15:16:01.835059Z",
     "start_time": "2020-01-13T15:16:01.827792Z"
    }
   },
   "outputs": [],
   "source": [
    "ref1_pyuvsim_data = UVData()\n",
    "ref1_pyuvsim_data.read(ref1_pyuvsim_path)"
   ]
  },
  {
   "cell_type": "markdown",
   "metadata": {},
   "source": [
    "Read `PRISim` simulation"
   ]
  },
  {
   "cell_type": "code",
   "execution_count": 10,
   "metadata": {},
   "outputs": [
    {
     "name": "stderr",
     "output_type": "stream",
     "text": [
      "Telescope custom is not in known_telescopes.\n"
     ]
    }
   ],
   "source": [
    "# ref1_prisim_data = UVData()\n",
    "# ref1_prisim_data.read(ref1_prisim_path)\n",
    "ref1_prisim_data = read_prisim(ref1_prisim_path)"
   ]
  },
  {
   "cell_type": "markdown",
   "metadata": {},
   "source": [
    "### Metadata Checking\n",
    "A few issues with the reference simulation\n",
    "* PRISim and pyuvsim reference simulations have different anttena reference numbers.\n",
    "* PRISim simulation has no `telescope_name` but `telescope_location` shows correct locations - so this should not post an issue.\n",
    "* PRISim simulation has two frequency channels and one polarization (xx), whereas pyuvsim simulation has full polarization and one frequency channel.\n",
    "* pyuvsim has 3916 correlated baselines with 88 antennas, not sure where the extra baselines come from.\n",
    "* **Data will have to be selected for comparison.**"
   ]
  },
  {
   "cell_type": "code",
   "execution_count": 11,
   "metadata": {
    "ExecuteTime": {
     "end_time": "2020-01-13T15:19:37.833402Z",
     "start_time": "2020-01-13T15:19:37.823673Z"
    }
   },
   "outputs": [
    {
     "name": "stdout",
     "output_type": "stream",
     "text": [
      "dataarray.shape = (3828, 1, 2, 1)\n",
      "ants = [ 0  1  2  3  4  5  6  7  8  9 10 11 12 13 14 15 16 17 18 19 20 21 22 23\n",
      " 24 25 26 27 28 29 30 31 32 33 34 35 36 37 38 39 40 41 42 43 44 45 46 47\n",
      " 48 49 50 51 52 53 54 55 56 57 58 59 60 61 62 63 64 65 66 67 68 69 70 71\n",
      " 72 73 74 75 76 77 78 79 80 81 82 83 84 85 86 87]\n",
      "baseline_nums = [ 69633  71681  71682 ... 245845 245846 245847]\n",
      "pols = ['xx']\n",
      "telescope_name = custom\n",
      "telescope_location = [ 5109342.76037543  2005241.90402741 -3239939.46926405]\n",
      "Nants_data = 88\n",
      "Nants_telescope = 88\n",
      "Nbls = 3828\n",
      "Nblts = 3828\n",
      "Nfreqs = 2\n",
      "freq_array = [[9.992e+07 1.000e+08]]\n"
     ]
    }
   ],
   "source": [
    "print('dataarray.shape =', ref1_prisim_data.data_array.shape)\n",
    "print('ants =', ref1_prisim_data.get_ants())\n",
    "print('baseline_nums =', ref1_prisim_data.get_baseline_nums())\n",
    "print('pols =', ref1_prisim_data.get_pols())\n",
    "print('telescope_name =', ref1_prisim_data.telescope_name)\n",
    "print('telescope_location =', ref1_prisim_data.telescope_location)\n",
    "# ref1_prisim_data.telescope_name = \"MWA\"\n",
    "# ref1_prisim_data.set_telescope_params()\n",
    "print('Nants_data =', ref1_prisim_data.Nants_data)\n",
    "print('Nants_telescope =', ref1_prisim_data.Nants_telescope)\n",
    "print('Nbls =', ref1_prisim_data.Nbls)\n",
    "print('Nblts =', ref1_prisim_data.Nblts)\n",
    "print('Nfreqs =', ref1_prisim_data.Nfreqs)\n",
    "print('freq_array =', ref1_prisim_data.freq_array)"
   ]
  },
  {
   "cell_type": "code",
   "execution_count": 12,
   "metadata": {},
   "outputs": [
    {
     "name": "stdout",
     "output_type": "stream",
     "text": [
      "dataarray.shape = (3916, 1, 1, 4)\n",
      "ants = [ 40  41  42  43  44  45  46  47  48  49  50  51  52  53  54  55  56  57\n",
      "  58  59  60  61  62  63  64  65  66  67  68  69  70  71  72  73  74  75\n",
      "  76  77  78  79  80  81  82  83  84  85  86  87  88  89  90  91  92  93\n",
      "  94  95  96  97  98  99 100 101 102 103 104 105 106 107 108 109 110 111\n",
      " 112 113 114 115 116 117 118 119 120 121 122 123 124 125 126 127]\n",
      "baseline_nums = [149545 151593 151594 ... 327806 327807 327808]\n",
      "pols = ['xx', 'yy', 'xy', 'yx']\n",
      "telescope_name = MWA\n",
      "telescope_location = [ 5109342.76037543  2005241.90402741 -3239939.46926405]\n",
      "Nants_data = 88\n",
      "Nants_telescope = 88\n",
      "Nbls = 3916\n",
      "Nblts = 3916\n",
      "Nfreqs = 1\n",
      "freq_array = [[1.e+08]]\n"
     ]
    }
   ],
   "source": [
    "print('dataarray.shape =', ref1_pyuvsim_data.data_array.shape)\n",
    "print('ants =', ref1_pyuvsim_data.get_ants())\n",
    "print('baseline_nums =', ref1_pyuvsim_data.get_baseline_nums())\n",
    "print('pols =', ref1_pyuvsim_data.get_pols())\n",
    "print('telescope_name =', ref1_pyuvsim_data.telescope_name)\n",
    "print('telescope_location =', ref1_pyuvsim_data.telescope_location)\n",
    "print('Nants_data =', ref1_pyuvsim_data.Nants_data)\n",
    "print('Nants_telescope =', ref1_pyuvsim_data.Nants_telescope)\n",
    "print('Nbls =', ref1_pyuvsim_data.Nbls)\n",
    "print('Nblts =', ref1_pyuvsim_data.Nblts)\n",
    "print('Nfreqs =', ref1_pyuvsim_data.Nfreqs)\n",
    "print('freq_array =', ref1_pyuvsim_data.freq_array)"
   ]
  },
  {
   "cell_type": "markdown",
   "metadata": {},
   "source": [
    "### Antenna Positions\n",
    "With the missmatching antenna reference numbers, it is wise to first plot and compare the antenna positions from the two simulations"
   ]
  },
  {
   "cell_type": "code",
   "execution_count": 13,
   "metadata": {},
   "outputs": [
    {
     "data": {
      "image/png": "[encoded data removed]",
      "text/plain": [
       "<Figure size 720x576 with 1 Axes>"
      ]
     },
     "metadata": {
      "needs_background": "light"
     },
     "output_type": "display_data"
    }
   ],
   "source": [
    "prisim_antpos, prisim_ants = ref1_prisim_data.get_ENU_antpos()\n",
    "pyuvsim_antpos, pyuvsim_ants = ref1_pyuvsim_data.get_ENU_antpos()\n",
    "plt.figure()\n",
    "plt.scatter(prisim_antpos[:, 1], prisim_antpos[:, 0], marker='o', label='PRISim')\n",
    "plt.scatter(pyuvsim_antpos[:, 1], pyuvsim_antpos[:, 0], marker='x', label='pyuvsim')\n",
    "plt.xlabel('E-W Position (meter)')\n",
    "plt.ylabel('N-S Position (meter)')\n",
    "plt.legend()\n",
    "plt.title('PRISim vs pyuvsim ref 1.1 uniform, ENU antpos')\n",
    "plt.savefig('ref1.1_uniform_ENU_antpos.pdf')\n",
    "plt.show()"
   ]
  },
  {
   "cell_type": "markdown",
   "metadata": {},
   "source": [
    "### Data Selection"
   ]
  },
  {
   "cell_type": "code",
   "execution_count": 14,
   "metadata": {},
   "outputs": [],
   "source": [
    "# ref1_prisim_data.antenna_numbers = ref1_pyuvsim_data.antenna_numbers\n",
    "# ref1_prisim_data.set_telescope_params()"
   ]
  },
  {
   "cell_type": "code",
   "execution_count": 15,
   "metadata": {},
   "outputs": [],
   "source": [
    "ref1_prisim_data_selected = ref1_prisim_data.select(\n",
    "    frequencies=ref1_prisim_data.freq_array[0, 1], inplace=False\n",
    ")"
   ]
  },
  {
   "cell_type": "code",
   "execution_count": 16,
   "metadata": {},
   "outputs": [],
   "source": [
    "# ref1_prisim_data2_selected = ref1_prisim_data2.select(\n",
    "#     frequencies=ref1_prisim_data.freq_array[0, 1], inplace=False\n",
    "# )"
   ]
  },
  {
   "cell_type": "code",
   "execution_count": 17,
   "metadata": {},
   "outputs": [],
   "source": [
    "ref1_pyuvsim_data_selected = ref1_pyuvsim_data.select(ant_str='cross', inplace=False)"
   ]
  },
  {
   "cell_type": "markdown",
   "metadata": {},
   "source": [
    "### UV Diff Plot"
   ]
  },
  {
   "cell_type": "code",
   "execution_count": 18,
   "metadata": {
    "ExecuteTime": {
     "end_time": "2020-01-13T15:34:56.468982Z",
     "start_time": "2020-01-13T15:34:55.398395Z"
    }
   },
   "outputs": [
    {
     "name": "stderr",
     "output_type": "stream",
     "text": [
      "invalid value encountered in less_equal\n",
      "invalid value encountered in less_equal\n"
     ]
    },
    {
     "data": {
      "image/png": "[encoded data removed]",
      "text/plain": [
       "<Figure size 1080x324 with 6 Axes>"
      ]
     },
     "metadata": {
      "needs_background": "light"
     },
     "output_type": "display_data"
    }
   ],
   "source": [
    "fig = uvtools.plot.plot_diff_uv(\n",
    "    ref1_pyuvsim_data_selected, ref1_prisim_data_selected, check_metadata=False, pol='xx'\n",
    ")\n",
    "fig.suptitle('PRISim vs. pyuvsim, Ref 1.1 Uniform', fontsize='x-large')\n",
    "fig.savefig('ref1.1_uniform_diff_uv_plot.pdf')"
   ]
  },
  {
   "cell_type": "markdown",
   "metadata": {},
   "source": [
    "## Reference 1.2"
   ]
  },
  {
   "cell_type": "code",
   "execution_count": 19,
   "metadata": {
    "ExecuteTime": {
     "end_time": "2020-01-13T15:37:46.776054Z",
     "start_time": "2020-01-13T15:37:46.770544Z"
    }
   },
   "outputs": [],
   "source": [
    "ref2_pyuvsim_path = pyuvsim_vis_path + \"/ref_1.2_gauss.uvfits\"\n",
    "ref2_prisim_path = prisim_vis_path + \"1.2_gauss/simdata/all-simvis-noiseless.uvfits\""
   ]
  },
  {
   "cell_type": "code",
   "execution_count": 20,
   "metadata": {
    "ExecuteTime": {
     "end_time": "2020-01-13T15:43:42.559403Z",
     "start_time": "2020-01-13T15:38:00.404649Z"
    }
   },
   "outputs": [
    {
     "name": "stderr",
     "output_type": "stream",
     "text": [
      "Telescope BLLITE is not in known_telescopes.\n"
     ]
    }
   ],
   "source": [
    "ref2_pyuvsim_data = UVData()\n",
    "ref2_pyuvsim_data.read(ref2_pyuvsim_path)"
   ]
  },
  {
   "cell_type": "code",
   "execution_count": 21,
   "metadata": {
    "ExecuteTime": {
     "end_time": "2020-01-13T15:57:59.496952Z",
     "start_time": "2020-01-13T15:52:40.196667Z"
    }
   },
   "outputs": [
    {
     "ename": "FileNotFoundError",
     "evalue": "[Errno 2] No such file or directory: './prisim_ref2/1.2_gauss/simdata/all-simvis-noiseless.uvfits'",
     "output_type": "error",
     "traceback": [
      "\u001b[0;31m---------------------------------------------------------------------------\u001b[0m",
      "\u001b[0;31mFileNotFoundError\u001b[0m                         Traceback (most recent call last)",
      "\u001b[0;32m<ipython-input-21-4981a09c6f1a>\u001b[0m in \u001b[0;36m<module>\u001b[0;34m\u001b[0m\n\u001b[1;32m      1\u001b[0m \u001b[0mref2_prisim_data\u001b[0m \u001b[0;34m=\u001b[0m \u001b[0mUVData\u001b[0m\u001b[0;34m(\u001b[0m\u001b[0;34m)\u001b[0m\u001b[0;34m\u001b[0m\u001b[0;34m\u001b[0m\u001b[0m\n\u001b[0;32m----> 2\u001b[0;31m \u001b[0mref2_prisim_data\u001b[0m\u001b[0;34m.\u001b[0m\u001b[0mread\u001b[0m\u001b[0;34m(\u001b[0m\u001b[0mref2_prisim_path\u001b[0m\u001b[0;34m)\u001b[0m\u001b[0;34m\u001b[0m\u001b[0;34m\u001b[0m\u001b[0m\n\u001b[0m",
      "\u001b[0;32m~/src/miniconda3/envs/hera/lib/python3.8/site-packages/pyuvdata/uvdata.py\u001b[0m in \u001b[0;36mread\u001b[0;34m(self, filename, axis, file_type, antenna_nums, antenna_names, ant_str, bls, frequencies, freq_chans, times, polarizations, blt_inds, time_range, keep_all_metadata, read_metadata, read_data, phase_type, correct_lat_lon, use_model, data_column, pol_order, data_array_dtype, run_check, check_extra, run_check_acceptability)\u001b[0m\n\u001b[1;32m   3443\u001b[0m                 \u001b[0mselect\u001b[0m \u001b[0;34m=\u001b[0m \u001b[0;32mFalse\u001b[0m\u001b[0;34m\u001b[0m\u001b[0;34m\u001b[0m\u001b[0m\n\u001b[1;32m   3444\u001b[0m \u001b[0;34m\u001b[0m\u001b[0m\n\u001b[0;32m-> 3445\u001b[0;31m             self.read_uvfits(filename, antenna_nums=antenna_nums,\n\u001b[0m\u001b[1;32m   3446\u001b[0m                              \u001b[0mantenna_names\u001b[0m\u001b[0;34m=\u001b[0m\u001b[0mantenna_names\u001b[0m\u001b[0;34m,\u001b[0m \u001b[0mant_str\u001b[0m\u001b[0;34m=\u001b[0m\u001b[0mant_str\u001b[0m\u001b[0;34m,\u001b[0m\u001b[0;34m\u001b[0m\u001b[0;34m\u001b[0m\u001b[0m\n\u001b[1;32m   3447\u001b[0m                              \u001b[0mbls\u001b[0m\u001b[0;34m=\u001b[0m\u001b[0mbls\u001b[0m\u001b[0;34m,\u001b[0m \u001b[0mfrequencies\u001b[0m\u001b[0;34m=\u001b[0m\u001b[0mfrequencies\u001b[0m\u001b[0;34m,\u001b[0m\u001b[0;34m\u001b[0m\u001b[0;34m\u001b[0m\u001b[0m\n",
      "\u001b[0;32m~/src/miniconda3/envs/hera/lib/python3.8/site-packages/pyuvdata/uvdata.py\u001b[0m in \u001b[0;36mread_uvfits\u001b[0;34m(self, filename, axis, antenna_nums, antenna_names, ant_str, bls, frequencies, freq_chans, times, polarizations, blt_inds, keep_all_metadata, read_data, read_metadata, run_check, check_extra, run_check_acceptability)\u001b[0m\n\u001b[1;32m   2602\u001b[0m             \u001b[0;32mif\u001b[0m \u001b[0mfunc\u001b[0m \u001b[0;34m==\u001b[0m \u001b[0;34m'read_uvfits'\u001b[0m\u001b[0;34m:\u001b[0m\u001b[0;34m\u001b[0m\u001b[0;34m\u001b[0m\u001b[0m\n\u001b[1;32m   2603\u001b[0m                 \u001b[0muvfits_obj\u001b[0m \u001b[0;34m=\u001b[0m \u001b[0muvfits\u001b[0m\u001b[0;34m.\u001b[0m\u001b[0mUVFITS\u001b[0m\u001b[0;34m(\u001b[0m\u001b[0;34m)\u001b[0m\u001b[0;34m\u001b[0m\u001b[0;34m\u001b[0m\u001b[0m\n\u001b[0;32m-> 2604\u001b[0;31m                 uvfits_obj.read_uvfits(filename, antenna_nums=antenna_nums,\n\u001b[0m\u001b[1;32m   2605\u001b[0m                                        \u001b[0mantenna_names\u001b[0m\u001b[0;34m=\u001b[0m\u001b[0mantenna_names\u001b[0m\u001b[0;34m,\u001b[0m \u001b[0mant_str\u001b[0m\u001b[0;34m=\u001b[0m\u001b[0mant_str\u001b[0m\u001b[0;34m,\u001b[0m\u001b[0;34m\u001b[0m\u001b[0;34m\u001b[0m\u001b[0m\n\u001b[1;32m   2606\u001b[0m                                        \u001b[0mbls\u001b[0m\u001b[0;34m=\u001b[0m\u001b[0mbls\u001b[0m\u001b[0;34m,\u001b[0m \u001b[0mfrequencies\u001b[0m\u001b[0;34m=\u001b[0m\u001b[0mfrequencies\u001b[0m\u001b[0;34m,\u001b[0m\u001b[0;34m\u001b[0m\u001b[0;34m\u001b[0m\u001b[0m\n",
      "\u001b[0;32m~/src/miniconda3/envs/hera/lib/python3.8/site-packages/pyuvdata/uvfits.py\u001b[0m in \u001b[0;36mread_uvfits\u001b[0;34m(self, filename, antenna_nums, antenna_names, ant_str, bls, frequencies, freq_chans, times, polarizations, blt_inds, read_data, read_metadata, run_check, check_extra, run_check_acceptability, keep_all_metadata)\u001b[0m\n\u001b[1;32m    307\u001b[0m             \u001b[0mrun_check\u001b[0m \u001b[0;34m=\u001b[0m \u001b[0;32mFalse\u001b[0m\u001b[0;34m\u001b[0m\u001b[0;34m\u001b[0m\u001b[0m\n\u001b[1;32m    308\u001b[0m \u001b[0;34m\u001b[0m\u001b[0m\n\u001b[0;32m--> 309\u001b[0;31m         \u001b[0;32mwith\u001b[0m \u001b[0mfits\u001b[0m\u001b[0;34m.\u001b[0m\u001b[0mopen\u001b[0m\u001b[0;34m(\u001b[0m\u001b[0mfilename\u001b[0m\u001b[0;34m,\u001b[0m \u001b[0mmemmap\u001b[0m\u001b[0;34m=\u001b[0m\u001b[0;32mTrue\u001b[0m\u001b[0;34m)\u001b[0m \u001b[0;32mas\u001b[0m \u001b[0mhdu_list\u001b[0m\u001b[0;34m:\u001b[0m\u001b[0;34m\u001b[0m\u001b[0;34m\u001b[0m\u001b[0m\n\u001b[0m\u001b[1;32m    310\u001b[0m             \u001b[0mvis_hdu\u001b[0m \u001b[0;34m=\u001b[0m \u001b[0mhdu_list\u001b[0m\u001b[0;34m[\u001b[0m\u001b[0;36m0\u001b[0m\u001b[0;34m]\u001b[0m  \u001b[0;31m# assumes the visibilities are in the primary hdu\u001b[0m\u001b[0;34m\u001b[0m\u001b[0;34m\u001b[0m\u001b[0m\n\u001b[1;32m    311\u001b[0m             \u001b[0mvis_hdr\u001b[0m \u001b[0;34m=\u001b[0m \u001b[0mvis_hdu\u001b[0m\u001b[0;34m.\u001b[0m\u001b[0mheader\u001b[0m\u001b[0;34m.\u001b[0m\u001b[0mcopy\u001b[0m\u001b[0;34m(\u001b[0m\u001b[0;34m)\u001b[0m\u001b[0;34m\u001b[0m\u001b[0;34m\u001b[0m\u001b[0m\n",
      "\u001b[0;32m~/src/miniconda3/envs/hera/lib/python3.8/site-packages/astropy/io/fits/hdu/hdulist.py\u001b[0m in \u001b[0;36mfitsopen\u001b[0;34m(name, mode, memmap, save_backup, cache, lazy_load_hdus, **kwargs)\u001b[0m\n\u001b[1;32m    155\u001b[0m         \u001b[0;32mraise\u001b[0m \u001b[0mValueError\u001b[0m\u001b[0;34m(\u001b[0m\u001b[0;34mf'Empty filename: {name!r}'\u001b[0m\u001b[0;34m)\u001b[0m\u001b[0;34m\u001b[0m\u001b[0;34m\u001b[0m\u001b[0m\n\u001b[1;32m    156\u001b[0m \u001b[0;34m\u001b[0m\u001b[0m\n\u001b[0;32m--> 157\u001b[0;31m     return HDUList.fromfile(name, mode, memmap, save_backup, cache,\n\u001b[0m\u001b[1;32m    158\u001b[0m                             lazy_load_hdus, **kwargs)\n\u001b[1;32m    159\u001b[0m \u001b[0;34m\u001b[0m\u001b[0m\n",
      "\u001b[0;32m~/src/miniconda3/envs/hera/lib/python3.8/site-packages/astropy/io/fits/hdu/hdulist.py\u001b[0m in \u001b[0;36mfromfile\u001b[0;34m(cls, fileobj, mode, memmap, save_backup, cache, lazy_load_hdus, **kwargs)\u001b[0m\n\u001b[1;32m    393\u001b[0m         \"\"\"\n\u001b[1;32m    394\u001b[0m \u001b[0;34m\u001b[0m\u001b[0m\n\u001b[0;32m--> 395\u001b[0;31m         return cls._readfrom(fileobj=fileobj, mode=mode, memmap=memmap,\n\u001b[0m\u001b[1;32m    396\u001b[0m                              \u001b[0msave_backup\u001b[0m\u001b[0;34m=\u001b[0m\u001b[0msave_backup\u001b[0m\u001b[0;34m,\u001b[0m \u001b[0mcache\u001b[0m\u001b[0;34m=\u001b[0m\u001b[0mcache\u001b[0m\u001b[0;34m,\u001b[0m\u001b[0;34m\u001b[0m\u001b[0;34m\u001b[0m\u001b[0m\n\u001b[1;32m    397\u001b[0m                              lazy_load_hdus=lazy_load_hdus, **kwargs)\n",
      "\u001b[0;32m~/src/miniconda3/envs/hera/lib/python3.8/site-packages/astropy/io/fits/hdu/hdulist.py\u001b[0m in \u001b[0;36m_readfrom\u001b[0;34m(cls, fileobj, data, mode, memmap, save_backup, cache, lazy_load_hdus, **kwargs)\u001b[0m\n\u001b[1;32m   1044\u001b[0m             \u001b[0;32mif\u001b[0m \u001b[0;32mnot\u001b[0m \u001b[0misinstance\u001b[0m\u001b[0;34m(\u001b[0m\u001b[0mfileobj\u001b[0m\u001b[0;34m,\u001b[0m \u001b[0m_File\u001b[0m\u001b[0;34m)\u001b[0m\u001b[0;34m:\u001b[0m\u001b[0;34m\u001b[0m\u001b[0;34m\u001b[0m\u001b[0m\n\u001b[1;32m   1045\u001b[0m                 \u001b[0;31m# instantiate a FITS file object (ffo)\u001b[0m\u001b[0;34m\u001b[0m\u001b[0;34m\u001b[0m\u001b[0;34m\u001b[0m\u001b[0m\n\u001b[0;32m-> 1046\u001b[0;31m                 \u001b[0mfileobj\u001b[0m \u001b[0;34m=\u001b[0m \u001b[0m_File\u001b[0m\u001b[0;34m(\u001b[0m\u001b[0mfileobj\u001b[0m\u001b[0;34m,\u001b[0m \u001b[0mmode\u001b[0m\u001b[0;34m=\u001b[0m\u001b[0mmode\u001b[0m\u001b[0;34m,\u001b[0m \u001b[0mmemmap\u001b[0m\u001b[0;34m=\u001b[0m\u001b[0mmemmap\u001b[0m\u001b[0;34m,\u001b[0m \u001b[0mcache\u001b[0m\u001b[0;34m=\u001b[0m\u001b[0mcache\u001b[0m\u001b[0;34m)\u001b[0m\u001b[0;34m\u001b[0m\u001b[0;34m\u001b[0m\u001b[0m\n\u001b[0m\u001b[1;32m   1047\u001b[0m             \u001b[0;31m# The Astropy mode is determined by the _File initializer if the\u001b[0m\u001b[0;34m\u001b[0m\u001b[0;34m\u001b[0m\u001b[0;34m\u001b[0m\u001b[0m\n\u001b[1;32m   1048\u001b[0m             \u001b[0;31m# supplied mode was None\u001b[0m\u001b[0;34m\u001b[0m\u001b[0;34m\u001b[0m\u001b[0;34m\u001b[0m\u001b[0m\n",
      "\u001b[0;32m~/src/miniconda3/envs/hera/lib/python3.8/site-packages/astropy/utils/decorators.py\u001b[0m in \u001b[0;36mwrapper\u001b[0;34m(*args, **kwargs)\u001b[0m\n\u001b[1;32m    519\u001b[0m                             \u001b[0mkwargs\u001b[0m\u001b[0;34m[\u001b[0m\u001b[0mnew_name\u001b[0m\u001b[0;34m[\u001b[0m\u001b[0mi\u001b[0m\u001b[0;34m]\u001b[0m\u001b[0;34m]\u001b[0m \u001b[0;34m=\u001b[0m \u001b[0mvalue\u001b[0m\u001b[0;34m\u001b[0m\u001b[0;34m\u001b[0m\u001b[0m\n\u001b[1;32m    520\u001b[0m \u001b[0;34m\u001b[0m\u001b[0m\n\u001b[0;32m--> 521\u001b[0;31m             \u001b[0;32mreturn\u001b[0m \u001b[0mfunction\u001b[0m\u001b[0;34m(\u001b[0m\u001b[0;34m*\u001b[0m\u001b[0margs\u001b[0m\u001b[0;34m,\u001b[0m \u001b[0;34m**\u001b[0m\u001b[0mkwargs\u001b[0m\u001b[0;34m)\u001b[0m\u001b[0;34m\u001b[0m\u001b[0;34m\u001b[0m\u001b[0m\n\u001b[0m\u001b[1;32m    522\u001b[0m \u001b[0;34m\u001b[0m\u001b[0m\n\u001b[1;32m    523\u001b[0m         \u001b[0;32mreturn\u001b[0m \u001b[0mwrapper\u001b[0m\u001b[0;34m\u001b[0m\u001b[0;34m\u001b[0m\u001b[0m\n",
      "\u001b[0;32m~/src/miniconda3/envs/hera/lib/python3.8/site-packages/astropy/io/fits/file.py\u001b[0m in \u001b[0;36m__init__\u001b[0;34m(self, fileobj, mode, memmap, overwrite, cache)\u001b[0m\n\u001b[1;32m    191\u001b[0m             \u001b[0mself\u001b[0m\u001b[0;34m.\u001b[0m\u001b[0m_open_fileobj\u001b[0m\u001b[0;34m(\u001b[0m\u001b[0mfileobj\u001b[0m\u001b[0;34m,\u001b[0m \u001b[0mmode\u001b[0m\u001b[0;34m,\u001b[0m \u001b[0moverwrite\u001b[0m\u001b[0;34m)\u001b[0m\u001b[0;34m\u001b[0m\u001b[0;34m\u001b[0m\u001b[0m\n\u001b[1;32m    192\u001b[0m         \u001b[0;32melif\u001b[0m \u001b[0misinstance\u001b[0m\u001b[0;34m(\u001b[0m\u001b[0mfileobj\u001b[0m\u001b[0;34m,\u001b[0m \u001b[0mstr\u001b[0m\u001b[0;34m)\u001b[0m\u001b[0;34m:\u001b[0m\u001b[0;34m\u001b[0m\u001b[0;34m\u001b[0m\u001b[0m\n\u001b[0;32m--> 193\u001b[0;31m             \u001b[0mself\u001b[0m\u001b[0;34m.\u001b[0m\u001b[0m_open_filename\u001b[0m\u001b[0;34m(\u001b[0m\u001b[0mfileobj\u001b[0m\u001b[0;34m,\u001b[0m \u001b[0mmode\u001b[0m\u001b[0;34m,\u001b[0m \u001b[0moverwrite\u001b[0m\u001b[0;34m)\u001b[0m\u001b[0;34m\u001b[0m\u001b[0;34m\u001b[0m\u001b[0m\n\u001b[0m\u001b[1;32m    194\u001b[0m         \u001b[0;32melse\u001b[0m\u001b[0;34m:\u001b[0m\u001b[0;34m\u001b[0m\u001b[0;34m\u001b[0m\u001b[0m\n\u001b[1;32m    195\u001b[0m             \u001b[0mself\u001b[0m\u001b[0;34m.\u001b[0m\u001b[0m_open_filelike\u001b[0m\u001b[0;34m(\u001b[0m\u001b[0mfileobj\u001b[0m\u001b[0;34m,\u001b[0m \u001b[0mmode\u001b[0m\u001b[0;34m,\u001b[0m \u001b[0moverwrite\u001b[0m\u001b[0;34m)\u001b[0m\u001b[0;34m\u001b[0m\u001b[0;34m\u001b[0m\u001b[0m\n",
      "\u001b[0;32m~/src/miniconda3/envs/hera/lib/python3.8/site-packages/astropy/io/fits/file.py\u001b[0m in \u001b[0;36m_open_filename\u001b[0;34m(self, filename, mode, overwrite)\u001b[0m\n\u001b[1;32m    572\u001b[0m \u001b[0;34m\u001b[0m\u001b[0m\n\u001b[1;32m    573\u001b[0m         \u001b[0;32mif\u001b[0m \u001b[0;32mnot\u001b[0m \u001b[0mself\u001b[0m\u001b[0;34m.\u001b[0m\u001b[0m_try_read_compressed\u001b[0m\u001b[0;34m(\u001b[0m\u001b[0mself\u001b[0m\u001b[0;34m.\u001b[0m\u001b[0mname\u001b[0m\u001b[0;34m,\u001b[0m \u001b[0mmagic\u001b[0m\u001b[0;34m,\u001b[0m \u001b[0mmode\u001b[0m\u001b[0;34m,\u001b[0m \u001b[0mext\u001b[0m\u001b[0;34m=\u001b[0m\u001b[0mext\u001b[0m\u001b[0;34m)\u001b[0m\u001b[0;34m:\u001b[0m\u001b[0;34m\u001b[0m\u001b[0;34m\u001b[0m\u001b[0m\n\u001b[0;32m--> 574\u001b[0;31m             \u001b[0mself\u001b[0m\u001b[0;34m.\u001b[0m\u001b[0m_file\u001b[0m \u001b[0;34m=\u001b[0m \u001b[0mfileobj_open\u001b[0m\u001b[0;34m(\u001b[0m\u001b[0mself\u001b[0m\u001b[0;34m.\u001b[0m\u001b[0mname\u001b[0m\u001b[0;34m,\u001b[0m \u001b[0mIO_FITS_MODES\u001b[0m\u001b[0;34m[\u001b[0m\u001b[0mmode\u001b[0m\u001b[0;34m]\u001b[0m\u001b[0;34m)\u001b[0m\u001b[0;34m\u001b[0m\u001b[0;34m\u001b[0m\u001b[0m\n\u001b[0m\u001b[1;32m    575\u001b[0m             \u001b[0mself\u001b[0m\u001b[0;34m.\u001b[0m\u001b[0mclose_on_error\u001b[0m \u001b[0;34m=\u001b[0m \u001b[0;32mTrue\u001b[0m\u001b[0;34m\u001b[0m\u001b[0;34m\u001b[0m\u001b[0m\n\u001b[1;32m    576\u001b[0m \u001b[0;34m\u001b[0m\u001b[0m\n",
      "\u001b[0;32m~/src/miniconda3/envs/hera/lib/python3.8/site-packages/astropy/io/fits/util.py\u001b[0m in \u001b[0;36mfileobj_open\u001b[0;34m(filename, mode)\u001b[0m\n\u001b[1;32m    394\u001b[0m     \"\"\"\n\u001b[1;32m    395\u001b[0m \u001b[0;34m\u001b[0m\u001b[0m\n\u001b[0;32m--> 396\u001b[0;31m     \u001b[0;32mreturn\u001b[0m \u001b[0mopen\u001b[0m\u001b[0;34m(\u001b[0m\u001b[0mfilename\u001b[0m\u001b[0;34m,\u001b[0m \u001b[0mmode\u001b[0m\u001b[0;34m,\u001b[0m \u001b[0mbuffering\u001b[0m\u001b[0;34m=\u001b[0m\u001b[0;36m0\u001b[0m\u001b[0;34m)\u001b[0m\u001b[0;34m\u001b[0m\u001b[0;34m\u001b[0m\u001b[0m\n\u001b[0m\u001b[1;32m    397\u001b[0m \u001b[0;34m\u001b[0m\u001b[0m\n\u001b[1;32m    398\u001b[0m \u001b[0;34m\u001b[0m\u001b[0m\n",
      "\u001b[0;31mFileNotFoundError\u001b[0m: [Errno 2] No such file or directory: './prisim_ref2/1.2_gauss/simdata/all-simvis-noiseless.uvfits'"
     ]
    }
   ],
   "source": [
    "ref2_prisim_data = UVData()\n",
    "ref2_prisim_data.read(ref2_prisim_path)"
   ]
  },
  {
   "cell_type": "code",
   "execution_count": null,
   "metadata": {},
   "outputs": [],
   "source": []
  },
  {
   "cell_type": "code",
   "execution_count": null,
   "metadata": {},
   "outputs": [],
   "source": []
  },
  {
   "cell_type": "markdown",
   "metadata": {},
   "source": [
    "Ongoing issues\n",
    "* PRISim simulations for 1.2_uniform 1.2_gauss, and 1.3_hera are missing\n",
    "* Missmatching antenna position and antenna reference numbers between PRISim and pyuvsim"
   ]
  },
  {
   "cell_type": "code",
   "execution_count": null,
   "metadata": {},
   "outputs": [],
   "source": [
    "UV.get_ants()"
   ]
  },
  {
   "cell_type": "code",
   "execution_count": null,
   "metadata": {},
   "outputs": [],
   "source": []
  },
  {
   "cell_type": "code",
   "execution_count": null,
   "metadata": {},
   "outputs": [],
   "source": []
  }
 ],
 "metadata": {
  "kernelspec": {
   "display_name": "Python 3",
   "language": "python",
   "name": "python3"
  },
  "language_info": {
   "codemirror_mode": {
    "name": "ipython",
    "version": 3
   },
   "file_extension": ".py",
   "mimetype": "text/x-python",
   "name": "python",
   "nbconvert_exporter": "python",
   "pygments_lexer": "ipython3",
   "version": "3.8.1"
  },
  "latex_envs": {
   "LaTeX_envs_menu_present": true,
   "autoclose": true,
   "autocomplete": false,
   "bibliofile": "biblio.bib",
   "cite_by": "apalike",
   "current_citInitial": 1,
   "eqLabelWithNumbers": true,
   "eqNumInitial": 1,
   "hotkeys": {
    "equation": "Ctrl-E",
    "itemize": "Ctrl-I"
   },
   "labels_anchors": false,
   "latex_user_defs": false,
   "report_style_numbering": false,
   "user_envs_cfg": false
  },
  "pycharm": {
   "stem_cell": {
    "cell_type": "raw",
    "metadata": {
     "collapsed": false
    },
    "source": []
   }
  },
  "toc": {
   "base_numbering": 1,
   "nav_menu": {},
   "number_sections": true,
   "sideBar": true,
   "skip_h1_title": false,
   "title_cell": "Table of Contents",
   "title_sidebar": "Contents",
   "toc_cell": false,
   "toc_position": {},
   "toc_section_display": true,
   "toc_window_display": false
  }
 },
 "nbformat": 4,
 "nbformat_minor": 4
}
